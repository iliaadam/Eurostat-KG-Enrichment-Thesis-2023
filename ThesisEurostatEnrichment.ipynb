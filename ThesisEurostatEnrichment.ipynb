{
  "cells": [
    {
      "cell_type": "markdown",
      "metadata": {
        "id": "view-in-github",
        "colab_type": "text"
      },
      "source": [
        "<a href=\"https://colab.research.google.com/github/iliaadam/Eurostat-KG-Enrichment-Thesis-2023/blob/main/ThesisEurostatEnrichment.ipynb\" target=\"_parent\"><img src=\"https://colab.research.google.com/assets/colab-badge.svg\" alt=\"Open In Colab\"/></a>"
      ]
    },
    {
      "cell_type": "code",
      "execution_count": null,
      "metadata": {
        "colab": {
          "base_uri": "https://localhost:8080/"
        },
        "id": "1CFcvL3nCuEe",
        "outputId": "f9ec7313-8ae0-45e3-b523-5164ff888271"
      },
      "outputs": [
        {
          "output_type": "stream",
          "name": "stdout",
          "text": [
            "Looking in indexes: https://pypi.org/simple, https://us-python.pkg.dev/colab-wheels/public/simple/\n",
            "Collecting SPARQLWrapper\n",
            "  Downloading SPARQLWrapper-2.0.0-py3-none-any.whl (28 kB)\n",
            "Collecting rdflib>=6.1.1 (from SPARQLWrapper)\n",
            "  Downloading rdflib-6.3.2-py3-none-any.whl (528 kB)\n",
            "\u001b[2K     \u001b[90m━━━━━━━━━━━━━━━━━━━━━━━━━━━━━━━━━━━━━━\u001b[0m \u001b[32m528.1/528.1 kB\u001b[0m \u001b[31m27.9 MB/s\u001b[0m eta \u001b[36m0:00:00\u001b[0m\n",
            "\u001b[?25hCollecting isodate<0.7.0,>=0.6.0 (from rdflib>=6.1.1->SPARQLWrapper)\n",
            "  Downloading isodate-0.6.1-py2.py3-none-any.whl (41 kB)\n",
            "\u001b[2K     \u001b[90m━━━━━━━━━━━━━━━━━━━━━━━━━━━━━━━━━━━━━━━━\u001b[0m \u001b[32m41.7/41.7 kB\u001b[0m \u001b[31m4.4 MB/s\u001b[0m eta \u001b[36m0:00:00\u001b[0m\n",
            "\u001b[?25hRequirement already satisfied: pyparsing<4,>=2.1.0 in /usr/local/lib/python3.10/dist-packages (from rdflib>=6.1.1->SPARQLWrapper) (3.0.9)\n",
            "Requirement already satisfied: six in /usr/local/lib/python3.10/dist-packages (from isodate<0.7.0,>=0.6.0->rdflib>=6.1.1->SPARQLWrapper) (1.16.0)\n",
            "Installing collected packages: isodate, rdflib, SPARQLWrapper\n",
            "Successfully installed SPARQLWrapper-2.0.0 isodate-0.6.1 rdflib-6.3.2\n"
          ]
        }
      ],
      "source": [
        "!pip install SPARQLWrapper"
      ]
    },
    {
      "cell_type": "code",
      "source": [
        "from SPARQLWrapper import SPARQLWrapper, TURTLE\n",
        "import re"
      ],
      "metadata": {
        "id": "0I_63dNnp02L"
      },
      "execution_count": null,
      "outputs": []
    },
    {
      "cell_type": "markdown",
      "source": [
        "Συνάρτηση που παράγει δυο dictionaries με values τα references:\n",
        "\n",
        "a) ένα με key τους τίτλους, title_to_refs\n",
        "\n",
        "b) ένα με key τα urls, url_to_refs  "
      ],
      "metadata": {
        "id": "prOJyBeRwcMX"
      }
    },
    {
      "cell_type": "code",
      "source": [
        "def get2Diction(q,q2):\n",
        "  # Set up the SPARQL endpoint URL\n",
        "  endpoint_url = \"http://lod.csd.auth.gr:8890/sparql/\"\n",
        "  # Create a new SPARQLWrapper object and set its endpoint URL\n",
        "  sparql = SPARQLWrapper(endpoint_url)\n",
        "  # Set the query string in the SPARQLWrapper object\n",
        "  sparql.setQuery(q)\n",
        "  # Set the return format to Turtle\n",
        "  sparql.setReturnFormat(TURTLE)\n",
        "  # Execute the query and get the results as a string in Turtle format\n",
        "  result = sparql.query().response.read().decode()\n",
        "  # Extract the local names from the subject URIs\n",
        "  db_refs = re.findall(r\"ns2:(\\w+)\", result)\n",
        "  # Extract the title\n",
        "  db_titles = re.findall(r'\"(.+?)\"\\^\\^xsd:string', result)\n",
        "  # Create a new SPARQLWrapper object and set its endpoint URL\n",
        "  sparql = SPARQLWrapper(endpoint_url)\n",
        "  # Set the query string in the SPARQLWrapper object\n",
        "  sparql.setQuery(q2)\n",
        "  # Set the return format to Turtle\n",
        "  sparql.setReturnFormat(TURTLE)\n",
        "  # Execute the query and get the results as a string in Turtle format\n",
        "  result = sparql.query().response.read().decode()\n",
        "  db_urls = re.findall(r'\"(.+?)\"\\^\\^xsd:anyURI', result)\n",
        "\n",
        "  title_to_refs = {} #dictionary for the distinct titles\n",
        "  for i, title in enumerate(db_titles):\n",
        "      if title not in title_to_refs:\n",
        "          title_to_refs[title] = set([db_refs[i]])\n",
        "      else:\n",
        "          title_to_refs[title].add(db_refs[i])\n",
        "\n",
        "  url_to_refs = {} #dictionary for the distinct urls of each title\n",
        "  for i, url in enumerate(db_urls):\n",
        "      if url not in url_to_refs:\n",
        "          url_to_refs[url] = set([db_refs[i]])\n",
        "      else:\n",
        "          url_to_refs[url].add(db_refs[i])\n",
        "\n",
        "  return title_to_refs , url_to_refs\n"
      ],
      "metadata": {
        "id": "vjK0deSBGzAJ"
      },
      "execution_count": null,
      "outputs": []
    },
    {
      "cell_type": "markdown",
      "source": [
        "Sparql ερωτήματα για την ανάκτηση των references, τίτλων, urls τόσο απο την κλάση Table όσο και απο την κλάση Database."
      ],
      "metadata": {
        "id": "cIiqdj1vxl9Q"
      }
    },
    {
      "cell_type": "code",
      "source": [
        "query=\"\"\"\n",
        "PREFIX estat: <https://ec.europa.eu/eurostat/NLP4StatRef/ontology/>\n",
        "PREFIX rdfs: <http://www.w3.org/2000/01/rdf-schema#>\n",
        "PREFIX rdf: <http://www.w3.org/1999/02/22-rdf-syntax-ns#>\n",
        "construct{\n",
        "    ?r estat:title ?t .\n",
        "} where {\n",
        "    ?r rdf:type estat:Table .\n",
        "    ?r estat:title ?t .\n",
        "}\n",
        "\"\"\"\n",
        "\n",
        "query2 = \"\"\"\n",
        "PREFIX estat: <https://ec.europa.eu/eurostat/NLP4StatRef/ontology/>\n",
        "PREFIX rdfs: <http://www.w3.org/2000/01/rdf-schema#>\n",
        "PREFIX rdf: <http://www.w3.org/1999/02/22-rdf-syntax-ns#>\n",
        "construct{\n",
        "    ?r estat:hasURL ?c .\n",
        "} where {\n",
        "    ?r rdf:type estat:Table .\n",
        "     ?r estat:hasURL ?c .\n",
        "}\n",
        "\"\"\"\n",
        "\n",
        "tableTTR,tableUTR = get2Diction(query,query2)\n",
        "\n",
        "query=\"\"\"\n",
        "PREFIX estat: <https://ec.europa.eu/eurostat/NLP4StatRef/ontology/>\n",
        "PREFIX rdfs: <http://www.w3.org/2000/01/rdf-schema#>\n",
        "PREFIX rdf: <http://www.w3.org/1999/02/22-rdf-syntax-ns#>\n",
        "construct{\n",
        "    ?r estat:title ?t .\n",
        "} where {\n",
        "    ?r rdf:type estat:Database .\n",
        "    ?r estat:title ?t .\n",
        "}\n",
        "\"\"\"\n",
        "\n",
        "query2 = \"\"\"\n",
        "PREFIX estat: <https://ec.europa.eu/eurostat/NLP4StatRef/ontology/>\n",
        "PREFIX rdfs: <http://www.w3.org/2000/01/rdf-schema#>\n",
        "PREFIX rdf: <http://www.w3.org/1999/02/22-rdf-syntax-ns#>\n",
        "construct{\n",
        "    ?r estat:hasURL ?c .\n",
        "} where {\n",
        "    ?r rdf:type estat:Database .\n",
        "     ?r estat:hasURL ?c .\n",
        "}\n",
        "\"\"\"\n",
        "\n",
        "dbTTR,dbUTR = get2Diction(query,query2)"
      ],
      "metadata": {
        "id": "r1DQKU86Hrov"
      },
      "execution_count": null,
      "outputs": []
    },
    {
      "cell_type": "markdown",
      "source": [
        "Συνάρτηση η οποία επιστρέφει τα labels (l_values) και τους κωδικούς (c_values) (επεξεργασμένα καταλλήλως), των κλάσεων tb και data."
      ],
      "metadata": {
        "id": "tlaEpitUyAAZ"
      }
    },
    {
      "cell_type": "code",
      "source": [
        "def getLCvals(q):\n",
        "  # Set up the SPARQL endpoint URL\n",
        "  endpoint_url = \"http://lod.csd.auth.gr:8890/sparql/\"\n",
        "\n",
        "  # Create a new SPARQLWrapper object and set its endpoint URL\n",
        "  sparql = SPARQLWrapper(endpoint_url)\n",
        "  # Set the SPARQL query\n",
        "  query = q\n",
        "  # Set the query string in the SPARQLWrapper object\n",
        "  sparql.setQuery(query)\n",
        "\n",
        "  # Set the return format to Turtle\n",
        "  sparql.setReturnFormat(TURTLE)\n",
        "\n",
        "  # Execute the query and get the results as a string in Turtle format\n",
        "  result = sparql.query().response.read().decode()\n",
        "\n",
        "  # Extract the local names from the subject URIs\n",
        "  c_values = re.findall(r\"ns2:(\\w+[\\w-]*)\", result)\n",
        "\n",
        "  # Extract the local names from the subject URIs\n",
        "  l_values = re.findall(r'\"(.+?)\"\\^\\^xsd:string', result)\n",
        "  return l_values , c_values"
      ],
      "metadata": {
        "id": "DC4J40H3plIn"
      },
      "execution_count": null,
      "outputs": []
    },
    {
      "cell_type": "markdown",
      "source": [
        "Sparql ερωτήματα για την ανάκτηση όλων των labels και κωδικών απο τις υποκλάσεις των κλάσεψν data και tb."
      ],
      "metadata": {
        "id": "eqQ9BBqnyjYX"
      }
    },
    {
      "cell_type": "code",
      "source": [
        "query = '''\n",
        "PREFIX estat: <https://ec.europa.eu/eurostat/NLP4StatRef/ontology/>\n",
        "PREFIX rdfs: <http://www.w3.org/2000/01/rdf-schema#>\n",
        "\n",
        "CONSTRUCT{\n",
        "   ?c rdfs:label ?l .\n",
        "}WHERE {\n",
        "  ?c rdfs:subClassOf* estat:tb .\n",
        "  ?c rdfs:label ?l .\n",
        "  FILTER(?c != estat:tb)\n",
        "}\n",
        "'''\n",
        "tlv , tcv = getLCvals(query)\n",
        "\n",
        "query = '''\n",
        "PREFIX estat: <https://ec.europa.eu/eurostat/NLP4StatRef/ontology/>\n",
        "PREFIX rdfs: <http://www.w3.org/2000/01/rdf-schema#>\n",
        "\n",
        "CONSTRUCT{\n",
        "   ?c rdfs:label ?l .\n",
        "}WHERE {\n",
        "  ?c rdfs:subClassOf* estat:data .\n",
        "  ?c rdfs:label ?l .\n",
        "  FILTER(?c != estat:data)\n",
        "}\n",
        "'''\n",
        "dlv , dcv = getLCvals(query)"
      ],
      "metadata": {
        "id": "vGCGly7PsuXT"
      },
      "execution_count": null,
      "outputs": []
    },
    {
      "cell_type": "markdown",
      "source": [
        "Συνάρτηση η οποία δέχεται ένα url και επιστρέφει άν βρεί κάποιον κωδικό που πιθανώς να υπάρχει μέσα σε αυτό"
      ],
      "metadata": {
        "id": "41B8B5wG42YT"
      }
    },
    {
      "cell_type": "code",
      "source": [
        "def getCode(s):\n",
        "    match = re.search(r'code=(.*?)&', s)\n",
        "    if match:\n",
        "        return match.group(1)\n",
        "    match =  re.search(r'dataset=(.*?)&', s)\n",
        "    if match:\n",
        "        return match.group(1)\n",
        "    match =  re.search(r'view/(.*?)/default/table?lang=en', s)\n",
        "    if match:\n",
        "        return match.group(1)\n",
        "    match = re.search(r\"(?<=view\\/).+?(?=\\/default\\/table\\?lang=en)\",s)\n",
        "    if match:\n",
        "        return match.group(0)\n",
        "    if \"?node_code=\" in s:\n",
        "        node_code = s.split(\"?node_code=\")[1]\n",
        "        return node_code\n",
        "    if \"?mode=view&code=\" in s:\n",
        "      code = s.split(\"?mode=view&code=\")[1]\n",
        "      return code\n",
        "    match =  re.search(r'bookmark/(.*?)?lang=en', s)\n",
        "    if match:\n",
        "        return match.group(1)\n",
        "    if \"/-/\" in s:\n",
        "      code = s.split(\"/-/\")[1]\n",
        "      return code\n",
        "    match =  re.search(r'web/(.*?)/data/', s)\n",
        "    if match:\n",
        "      code=match.group(1)\n",
        "      if \"/\" in code:\n",
        "        parts = code.split(\"/\")\n",
        "        code = parts[-1]\n",
        "      return code\n",
        "    match =  re.search(r'web/(.*?)/database', s)\n",
        "    if match :\n",
        "      code=match.group(1)\n",
        "      if \"/\" in code:\n",
        "         parts = code.split(\"/\")\n",
        "         code = parts[-1]\n",
        "      return code\n",
        "    match = re.search(r'web/(.*?)/main-tables', s) #for tables\n",
        "    if match :\n",
        "      code=match.group(1)\n",
        "      if \"/\" in code:\n",
        "         parts = code.split(\"/\")\n",
        "         code = parts[-1]\n",
        "      return code\n",
        "\n",
        "    match =  re.search(r'web/(.*?)/overview', s)\n",
        "    if match:\n",
        "      code=match.group(1)\n",
        "      return code\n",
        "    if \"/web/\" in s :\n",
        "      code = s.split(\"/web/\")[1]\n",
        "      if \"/\" in code:\n",
        "        parts = code.split(\"/\")\n",
        "        code = parts[-1]\n",
        "      return code\n",
        "\n",
        "    return \" \""
      ],
      "metadata": {
        "id": "9poHQUJonY-4"
      },
      "execution_count": null,
      "outputs": []
    },
    {
      "cell_type": "code",
      "source": [
        "def get_key_by_value(dict_obj, value):\n",
        "    return [key for key in dict_obj if value in dict_obj.get(key)]\n",
        "\n",
        "def createTTC(title_to_refs,url_to_refs): #creates dictionary with keys the titles and values the codes\n",
        "  title_to_codes = dict()\n",
        "  for key in title_to_refs.keys():\n",
        "      title_to_codes[key] = []\n",
        "      for value in title_to_refs[key]:\n",
        "          new_val =get_key_by_value(url_to_refs,value)\n",
        "          code = getCode(new_val[0])\n",
        "          if code not in title_to_codes.get(key):\n",
        "            title_to_codes[key].append(code)\n",
        "  return title_to_codes"
      ],
      "metadata": {
        "id": "uOvp0r87yImt"
      },
      "execution_count": null,
      "outputs": []
    },
    {
      "cell_type": "markdown",
      "source": [
        "αρχικά χρεισιμοποιώ data and database"
      ],
      "metadata": {
        "id": "pKejTG66xH0t"
      }
    },
    {
      "cell_type": "code",
      "source": [
        "title_to_refs , url_to_refs = dbTTR , dbUTR\n",
        "title_to_codes = createTTC(title_to_refs,url_to_refs)\n",
        "l_values , c_values = dlv , dcv"
      ],
      "metadata": {
        "id": "8615wpvEwSEE"
      },
      "execution_count": null,
      "outputs": []
    },
    {
      "cell_type": "markdown",
      "source": [
        "Η φάση Α, εξετάζει πλήρη ταυτοποίηση label-τίτλου ή κωδικών, είτε πριν την επεξεργασία των δεδομένων είτε μετά (χωρίς την χρήση αλγορίθμων υπολογισμού ομοιότητας)."
      ],
      "metadata": {
        "id": "h_kTykkPzEGM"
      }
    },
    {
      "cell_type": "code",
      "source": [
        "def phaseA(titles,codeDict,labels):\n",
        "  changes=[]\n",
        "  remaining=list(titles)\n",
        "  with open(\"phaseA.txt\", \"w\") as f:\n",
        "    for i,title in enumerate(titles):\n",
        "      t = title.lower()\n",
        "      split_string = t.split(\"  \") # Split the string based on double space\n",
        "      if len(split_string) >= 2:\n",
        "          new_title = split_string[0] # Extract the first element of the list\n",
        "          num = len(split_string[1].split())\n",
        "      else:\n",
        "          new_title = t\n",
        "          num = 0\n",
        "      split_string = t.split(\"   \")  # Split the string based on triple space\n",
        "      cut = split_string[0]  # Extract the first element of the list\n",
        "      new_title2 = re.sub(r' +', ' ', cut)\n",
        "      new_title3 = re.sub(r'\\s+', ' ', t)   #original title but without multiple spaces in a row\n",
        "      match = re.search(r\"\\s{2,}(.+)\", t) # test if the title have 2 or more white spaces\n",
        "      if match:\n",
        "        new_title4 = match.group(1) # get whatever is after the multiple spaces\n",
        "        new_title5 = re.sub(r\"\\s{2,}\", \" \", new_title4) # convert every multiple spaces in a row to a single space\n",
        "      else:\n",
        "        new_title4 = t\n",
        "        new_title5 = t\n",
        "      code1 = codeDict.get(title)\n",
        "      code = code1[0]\n",
        "      for j,label in enumerate(labels):\n",
        "        l=label.lower()\n",
        "        label_code = c_values[j]\n",
        "        if (t == l) or (label_code == code) or (new_title == l and num < 5) or (new_title2 == l) or (new_title3 == l) or (l==new_title4) or (l==new_title5):\n",
        "          f.write(\"{} : {} \\n\".format(title, label))\n",
        "          #ref=list(title_to_refs.get(title))\n",
        "          #ref_url =\"http://lod.csd.auth.gr:7200/resource?uri=https://ec.europa.eu/eurostat/NLP4StatRef/knowledge/\"+ref[0]\n",
        "          #data_url =\"http://lod.csd.auth.gr:7200/resource?uri=https://ec.europa.eu/eurostat/NLP4StatRef/knowledge/\"+label_code\n",
        "          #f.write(\"{}({}) : {}({})\\n\".format(title, ref_url, label, data_url))\n",
        "          changes.append([title,c_values[j]])\n",
        "          remaining.remove(title)\n",
        "  return changes , remaining\n"
      ],
      "metadata": {
        "id": "EJNlyWtPO2FW"
      },
      "execution_count": null,
      "outputs": []
    },
    {
      "cell_type": "code",
      "source": [
        "changes , remaining = phaseA(title_to_refs.keys(),title_to_codes,l_values)"
      ],
      "metadata": {
        "id": "8xAUOhbDSVuN"
      },
      "execution_count": null,
      "outputs": []
    },
    {
      "cell_type": "markdown",
      "source": [
        "Συναρτήσεις φιλτραρίσματος συμβολοσειρών (πχ stem, remove stopwords, lowercase κτλ.)"
      ],
      "metadata": {
        "id": "uRsizk4Uzkgt"
      }
    },
    {
      "cell_type": "code",
      "source": [
        "import nltk\n",
        "nltk.download('stopwords')\n",
        "nltk.download('punkt')\n",
        "from nltk.corpus import stopwords\n",
        "from nltk.stem import PorterStemmer\n",
        "from nltk.tokenize import word_tokenize\n",
        "\n",
        "def filtering3(text):\n",
        "  return text.lower()\n",
        "\n",
        "def filtering2(text): #main\n",
        "  # Initialize the stemmer and download the stopwords\n",
        "  stemmer = PorterStemmer()\n",
        "  stop_words = set(stopwords.words('english'))\n",
        "  # Tokenize the text into words\n",
        "  words = word_tokenize(text)\n",
        "  # Remove the stop words from the words list\n",
        "  filtered_words = [word for word in words if word.lower() not in stop_words]\n",
        "  # Perform stemming on the remaining words\n",
        "  stemmed_words = [stemmer.stem(word) for word in filtered_words]\n",
        "  # Join the stemmed words into a string\n",
        "  stemmed_text = \" \".join(stemmed_words)\n",
        "  return stemmed_text\n",
        "\n",
        "def filtering(text):\n",
        "  stop_words = set(stopwords.words('english'))\n",
        "  # Tokenize the text into words\n",
        "  words = word_tokenize(text)\n",
        "  # Remove the stop words from the words list\n",
        "  filtered_words = [word for word in words if word.lower() not in stop_words]\n",
        "  return \" \".join(filtered_words)\n"
      ],
      "metadata": {
        "colab": {
          "base_uri": "https://localhost:8080/"
        },
        "id": "9rzhnK45qzGN",
        "outputId": "c92b2882-4320-4c45-f5a0-941b42b08ac5"
      },
      "execution_count": null,
      "outputs": [
        {
          "output_type": "stream",
          "name": "stderr",
          "text": [
            "[nltk_data] Downloading package stopwords to /root/nltk_data...\n",
            "[nltk_data]   Unzipping corpora/stopwords.zip.\n",
            "[nltk_data] Downloading package punkt to /root/nltk_data...\n",
            "[nltk_data]   Unzipping tokenizers/punkt.zip.\n"
          ]
        }
      ]
    },
    {
      "cell_type": "markdown",
      "source": [
        "Στην συνέχεια υπάρχουν διάφοροι αλγόριθμοι και τεχνικές υπολογισμού ομοιότητας μεταξύ συμβολοσειρών, όμως τελικά χρησιμοποιούνται μόνο οι: **jellyfish, fuzzywuzzy, word2vec και tfidf**."
      ],
      "metadata": {
        "id": "F3kw_OI3z0Xd"
      }
    },
    {
      "cell_type": "markdown",
      "source": [
        "**SPACY**"
      ],
      "metadata": {
        "id": "HrsbOT_HDItC"
      }
    },
    {
      "cell_type": "code",
      "source": [
        "import spacy\n",
        "!python -m spacy download en_core_web_md\n",
        "#!python -m spacy download en_core_web_lg"
      ],
      "metadata": {
        "id": "nTr6CJ6IkcLE",
        "colab": {
          "base_uri": "https://localhost:8080/"
        },
        "outputId": "d8e1a9e4-d7b9-441e-d420-679da1e6996c"
      },
      "execution_count": null,
      "outputs": [
        {
          "output_type": "stream",
          "name": "stdout",
          "text": [
            "2023-04-05 20:35:45.032273: W tensorflow/compiler/tf2tensorrt/utils/py_utils.cc:38] TF-TRT Warning: Could not find TensorRT\n",
            "Looking in indexes: https://pypi.org/simple, https://us-python.pkg.dev/colab-wheels/public/simple/\n",
            "Collecting en-core-web-md==3.5.0\n",
            "  Downloading https://github.com/explosion/spacy-models/releases/download/en_core_web_md-3.5.0/en_core_web_md-3.5.0-py3-none-any.whl (42.8 MB)\n",
            "\u001b[2K     \u001b[90m━━━━━━━━━━━━━━━━━━━━━━━━━━━━━━━━━━━━━━━━\u001b[0m \u001b[32m42.8/42.8 MB\u001b[0m \u001b[31m18.6 MB/s\u001b[0m eta \u001b[36m0:00:00\u001b[0m\n",
            "\u001b[?25hRequirement already satisfied: spacy<3.6.0,>=3.5.0 in /usr/local/lib/python3.9/dist-packages (from en-core-web-md==3.5.0) (3.5.1)\n",
            "Requirement already satisfied: wasabi<1.2.0,>=0.9.1 in /usr/local/lib/python3.9/dist-packages (from spacy<3.6.0,>=3.5.0->en-core-web-md==3.5.0) (1.1.1)\n",
            "Requirement already satisfied: tqdm<5.0.0,>=4.38.0 in /usr/local/lib/python3.9/dist-packages (from spacy<3.6.0,>=3.5.0->en-core-web-md==3.5.0) (4.65.0)\n",
            "Requirement already satisfied: typer<0.8.0,>=0.3.0 in /usr/local/lib/python3.9/dist-packages (from spacy<3.6.0,>=3.5.0->en-core-web-md==3.5.0) (0.7.0)\n",
            "Requirement already satisfied: numpy>=1.15.0 in /usr/local/lib/python3.9/dist-packages (from spacy<3.6.0,>=3.5.0->en-core-web-md==3.5.0) (1.22.4)\n",
            "Requirement already satisfied: setuptools in /usr/local/lib/python3.9/dist-packages (from spacy<3.6.0,>=3.5.0->en-core-web-md==3.5.0) (67.6.1)\n",
            "Requirement already satisfied: langcodes<4.0.0,>=3.2.0 in /usr/local/lib/python3.9/dist-packages (from spacy<3.6.0,>=3.5.0->en-core-web-md==3.5.0) (3.3.0)\n",
            "Requirement already satisfied: murmurhash<1.1.0,>=0.28.0 in /usr/local/lib/python3.9/dist-packages (from spacy<3.6.0,>=3.5.0->en-core-web-md==3.5.0) (1.0.9)\n",
            "Requirement already satisfied: pydantic!=1.8,!=1.8.1,<1.11.0,>=1.7.4 in /usr/local/lib/python3.9/dist-packages (from spacy<3.6.0,>=3.5.0->en-core-web-md==3.5.0) (1.10.7)\n",
            "Requirement already satisfied: thinc<8.2.0,>=8.1.8 in /usr/local/lib/python3.9/dist-packages (from spacy<3.6.0,>=3.5.0->en-core-web-md==3.5.0) (8.1.9)\n",
            "Requirement already satisfied: spacy-loggers<2.0.0,>=1.0.0 in /usr/local/lib/python3.9/dist-packages (from spacy<3.6.0,>=3.5.0->en-core-web-md==3.5.0) (1.0.4)\n",
            "Requirement already satisfied: jinja2 in /usr/local/lib/python3.9/dist-packages (from spacy<3.6.0,>=3.5.0->en-core-web-md==3.5.0) (3.1.2)\n",
            "Requirement already satisfied: packaging>=20.0 in /usr/local/lib/python3.9/dist-packages (from spacy<3.6.0,>=3.5.0->en-core-web-md==3.5.0) (23.0)\n",
            "Requirement already satisfied: spacy-legacy<3.1.0,>=3.0.11 in /usr/local/lib/python3.9/dist-packages (from spacy<3.6.0,>=3.5.0->en-core-web-md==3.5.0) (3.0.12)\n",
            "Requirement already satisfied: cymem<2.1.0,>=2.0.2 in /usr/local/lib/python3.9/dist-packages (from spacy<3.6.0,>=3.5.0->en-core-web-md==3.5.0) (2.0.7)\n",
            "Requirement already satisfied: catalogue<2.1.0,>=2.0.6 in /usr/local/lib/python3.9/dist-packages (from spacy<3.6.0,>=3.5.0->en-core-web-md==3.5.0) (2.0.8)\n",
            "Requirement already satisfied: smart-open<7.0.0,>=5.2.1 in /usr/local/lib/python3.9/dist-packages (from spacy<3.6.0,>=3.5.0->en-core-web-md==3.5.0) (6.3.0)\n",
            "Requirement already satisfied: requests<3.0.0,>=2.13.0 in /usr/local/lib/python3.9/dist-packages (from spacy<3.6.0,>=3.5.0->en-core-web-md==3.5.0) (2.27.1)\n",
            "Requirement already satisfied: preshed<3.1.0,>=3.0.2 in /usr/local/lib/python3.9/dist-packages (from spacy<3.6.0,>=3.5.0->en-core-web-md==3.5.0) (3.0.8)\n",
            "Requirement already satisfied: pathy>=0.10.0 in /usr/local/lib/python3.9/dist-packages (from spacy<3.6.0,>=3.5.0->en-core-web-md==3.5.0) (0.10.1)\n",
            "Requirement already satisfied: srsly<3.0.0,>=2.4.3 in /usr/local/lib/python3.9/dist-packages (from spacy<3.6.0,>=3.5.0->en-core-web-md==3.5.0) (2.4.6)\n",
            "Requirement already satisfied: typing-extensions>=4.2.0 in /usr/local/lib/python3.9/dist-packages (from pydantic!=1.8,!=1.8.1,<1.11.0,>=1.7.4->spacy<3.6.0,>=3.5.0->en-core-web-md==3.5.0) (4.5.0)\n",
            "Requirement already satisfied: idna<4,>=2.5 in /usr/local/lib/python3.9/dist-packages (from requests<3.0.0,>=2.13.0->spacy<3.6.0,>=3.5.0->en-core-web-md==3.5.0) (3.4)\n",
            "Requirement already satisfied: urllib3<1.27,>=1.21.1 in /usr/local/lib/python3.9/dist-packages (from requests<3.0.0,>=2.13.0->spacy<3.6.0,>=3.5.0->en-core-web-md==3.5.0) (1.26.15)\n",
            "Requirement already satisfied: certifi>=2017.4.17 in /usr/local/lib/python3.9/dist-packages (from requests<3.0.0,>=2.13.0->spacy<3.6.0,>=3.5.0->en-core-web-md==3.5.0) (2022.12.7)\n",
            "Requirement already satisfied: charset-normalizer~=2.0.0 in /usr/local/lib/python3.9/dist-packages (from requests<3.0.0,>=2.13.0->spacy<3.6.0,>=3.5.0->en-core-web-md==3.5.0) (2.0.12)\n",
            "Requirement already satisfied: blis<0.8.0,>=0.7.8 in /usr/local/lib/python3.9/dist-packages (from thinc<8.2.0,>=8.1.8->spacy<3.6.0,>=3.5.0->en-core-web-md==3.5.0) (0.7.9)\n",
            "Requirement already satisfied: confection<1.0.0,>=0.0.1 in /usr/local/lib/python3.9/dist-packages (from thinc<8.2.0,>=8.1.8->spacy<3.6.0,>=3.5.0->en-core-web-md==3.5.0) (0.0.4)\n",
            "Requirement already satisfied: click<9.0.0,>=7.1.1 in /usr/local/lib/python3.9/dist-packages (from typer<0.8.0,>=0.3.0->spacy<3.6.0,>=3.5.0->en-core-web-md==3.5.0) (8.1.3)\n",
            "Requirement already satisfied: MarkupSafe>=2.0 in /usr/local/lib/python3.9/dist-packages (from jinja2->spacy<3.6.0,>=3.5.0->en-core-web-md==3.5.0) (2.1.2)\n",
            "Installing collected packages: en-core-web-md\n",
            "Successfully installed en-core-web-md-3.5.0\n",
            "\u001b[38;5;2m✔ Download and installation successful\u001b[0m\n",
            "You can now load the package via spacy.load('en_core_web_md')\n"
          ]
        }
      ]
    },
    {
      "cell_type": "code",
      "source": [
        "#nlp = spacy.load(\"en_core_web_lg\")\n",
        "nlp = spacy.load(\"en_core_web_md\")\n",
        "\n",
        "def spacySim(title,label):\n",
        "  doc=nlp(title)\n",
        "  doc2=nlp(label)\n",
        "  return doc.similarity(doc2)"
      ],
      "metadata": {
        "id": "8s_nkci8grLX"
      },
      "execution_count": null,
      "outputs": []
    },
    {
      "cell_type": "code",
      "source": [
        "docc=nlp(\"Employment and unemployment  LFS\")\n",
        "docc2=nlp(\"Employment and unemployment Labour force survey\")\n",
        "print(docc.similarity(docc2))"
      ],
      "metadata": {
        "colab": {
          "base_uri": "https://localhost:8080/"
        },
        "id": "UK6iAxF0Oc0o",
        "outputId": "e8a6addb-f5b7-435a-e9bf-227c0faf4222"
      },
      "execution_count": null,
      "outputs": [
        {
          "output_type": "stream",
          "name": "stdout",
          "text": [
            "0.8341739918712523\n"
          ]
        }
      ]
    },
    {
      "cell_type": "markdown",
      "source": [
        "**fuzzywuzzy**"
      ],
      "metadata": {
        "id": "ZbZ17ClzDylE"
      }
    },
    {
      "cell_type": "code",
      "source": [
        "!pip install fuzzywuzzy"
      ],
      "metadata": {
        "id": "k4-q3ykADsiG"
      },
      "execution_count": null,
      "outputs": []
    },
    {
      "cell_type": "code",
      "source": [
        "from fuzzywuzzy import fuzz\n",
        "\n",
        "def fuzzySim(title,label):\n",
        "  return fuzz.ratio(title, label)/100.0"
      ],
      "metadata": {
        "id": "vb2zkQFhD1c1"
      },
      "execution_count": null,
      "outputs": []
    },
    {
      "cell_type": "markdown",
      "source": [
        "**jellyfish**"
      ],
      "metadata": {
        "id": "ua5ltZHNEd2u"
      }
    },
    {
      "cell_type": "code",
      "source": [
        "!pip install jellyfish"
      ],
      "metadata": {
        "colab": {
          "base_uri": "https://localhost:8080/"
        },
        "id": "_EeGO2A5Eery",
        "outputId": "ec63b9c4-85b9-42fd-dae6-1f20b5b8f4c0"
      },
      "execution_count": null,
      "outputs": [
        {
          "output_type": "stream",
          "name": "stdout",
          "text": [
            "Looking in indexes: https://pypi.org/simple, https://us-python.pkg.dev/colab-wheels/public/simple/\n",
            "Collecting jellyfish\n",
            "  Downloading jellyfish-0.11.2-cp310-cp310-manylinux_2_17_x86_64.manylinux2014_x86_64.whl (1.2 MB)\n",
            "\u001b[2K     \u001b[90m━━━━━━━━━━━━━━━━━━━━━━━━━━━━━━━━━━━━━━━━\u001b[0m \u001b[32m1.2/1.2 MB\u001b[0m \u001b[31m45.9 MB/s\u001b[0m eta \u001b[36m0:00:00\u001b[0m\n",
            "\u001b[?25hInstalling collected packages: jellyfish\n",
            "Successfully installed jellyfish-0.11.2\n"
          ]
        }
      ]
    },
    {
      "cell_type": "code",
      "source": [
        "import jellyfish\n",
        "\n",
        "def jellyfishSim(title,label):\n",
        "  return jellyfish.jaro_winkler(title, label)"
      ],
      "metadata": {
        "id": "WU6BqZgKEmFO"
      },
      "execution_count": null,
      "outputs": []
    },
    {
      "cell_type": "markdown",
      "source": [
        "**word2vec**"
      ],
      "metadata": {
        "id": "ndbvUeRFaZXa"
      }
    },
    {
      "cell_type": "code",
      "source": [
        "from gensim.models import Word2Vec\n",
        "import numpy as np\n",
        "def trainW2V(l_values):\n",
        "  sentences = []\n",
        "  for row in l_values: # creating the vocabulary\n",
        "    sentences.append(filtering2(row))\n",
        "  vocabulary = [row.split() for row in sentences]\n",
        "  # Train the Word2Vec model\n",
        "  model = Word2Vec(vocabulary, vector_size=2000, window=3, min_count=1, sample=1e-4, epochs=20, sg=0, batch_words=1000, alpha=0.03,seed = 23)\n",
        "  return model"
      ],
      "metadata": {
        "id": "pgahEBLSabz3"
      },
      "execution_count": null,
      "outputs": []
    },
    {
      "cell_type": "code",
      "source": [
        "# Compute the vector representation for a sentence by taking the average of the word vectors\n",
        "def sentence_vector(sentence):\n",
        "    words = sentence.split()\n",
        "    vector= [model.wv.get_vector(token) for token in words if token in model.wv.key_to_index]\n",
        "    if len(vector) == 0:\n",
        "        return np.zeros(model.vector_size)\n",
        "    return np.mean(vector, axis=0)\n",
        "\n",
        "# Compute the similarity between two sentences\n",
        "def sentence_similarity(sentence1, sentence2):\n",
        "    vec1 = sentence_vector(sentence1)\n",
        "    vec2 = sentence_vector(sentence2)\n",
        "    return np.dot(vec1, vec2) / (np.linalg.norm(vec1) * np.linalg.norm(vec2))\n",
        "\n",
        "def myWord2vec(title,label):\n",
        "  return sentence_similarity(title,label)"
      ],
      "metadata": {
        "id": "dEaZoIQRagrB"
      },
      "execution_count": null,
      "outputs": []
    },
    {
      "cell_type": "code",
      "source": [
        "from nltk.tokenize import word_tokenize\n",
        "\n",
        "def jaccard_similarity(sentence1, sentence2):\n",
        "    # Tokenize the sentences into sets of words\n",
        "    set1 = set(word_tokenize(sentence1.lower()))\n",
        "    set2 = set(word_tokenize(sentence2.lower()))\n",
        "\n",
        "    # Compute the Jaccard similarity\n",
        "    intersection = set1.intersection(set2)\n",
        "    union = set1.union(set2)\n",
        "    return len(intersection) / len(union)\n",
        "\n"
      ],
      "metadata": {
        "id": "ZIXn1Tpr9d-8"
      },
      "execution_count": null,
      "outputs": []
    },
    {
      "cell_type": "markdown",
      "source": [
        "**pretrained word2vec**"
      ],
      "metadata": {
        "id": "5fDYErXNhYZr"
      }
    },
    {
      "cell_type": "code",
      "source": [
        "import gensim.downloader as api\n",
        "from gensim.models import KeyedVectors\n",
        "from scipy import spatial\n",
        "import numpy as np\n",
        "\n",
        "# Load the pre-trained Word2Vec model\n",
        "model_name = 'word2vec-google-news-300'\n",
        "wv = api.load(model_name)"
      ],
      "metadata": {
        "colab": {
          "base_uri": "https://localhost:8080/"
        },
        "id": "AD5btGMkhcrA",
        "outputId": "b6d81579-f472-48e0-bda2-21be78fa2a12"
      },
      "execution_count": null,
      "outputs": [
        {
          "output_type": "stream",
          "name": "stdout",
          "text": [
            "[==================================================] 100.0% 1662.8/1662.8MB downloaded\n"
          ]
        }
      ]
    },
    {
      "cell_type": "code",
      "source": [
        "# Compute the sentence similarity using cosine similarity of word embeddings\n",
        "def pretrainedWord2vec(s1, s2):\n",
        "    s1_vec = sum([wv[w] for w in s1.split() if w in wv])\n",
        "    s2_vec = sum([wv[w] for w in s2.split() if w in wv])\n",
        "\n",
        "    # Check if vectors are non-zero\n",
        "    if np.count_nonzero(s1_vec) == 0 or np.count_nonzero(s2_vec) == 0:\n",
        "        return 0.0\n",
        "\n",
        "    similarity = 1 - spatial.distance.cosine(s1_vec, s2_vec)\n",
        "    return similarity\n"
      ],
      "metadata": {
        "id": "EB_1I524l-S0"
      },
      "execution_count": null,
      "outputs": []
    },
    {
      "cell_type": "markdown",
      "source": [
        "**fasttext** (perform better on tasks that involve rare words or misspelled words )"
      ],
      "metadata": {
        "id": "B_Pjla3aZOAI"
      }
    },
    {
      "cell_type": "code",
      "source": [
        "import gensim.downloader as api\n",
        "from gensim.models import KeyedVectors\n",
        "from scipy import spatial\n",
        "import numpy as np\n",
        "\n",
        "# Load the pre-trained FastText model\n",
        "model_name = 'fasttext-wiki-news-subwords-300'\n",
        "wv = api.load(model_name)                                           # Compute the sentence similarity using cosine similarity of word embeddings\n",
        "def fastText(s1, s2):\n",
        "    s1_vec = sum([wv[w] for w in s1.split() if w in wv])\n",
        "    s2_vec = sum([wv[w] for w in s2.split() if w in wv])\n",
        "\n",
        "    # Check if vectors are non-zero\n",
        "    if np.count_nonzero(s1_vec) == 0 or np.count_nonzero(s2_vec) == 0:\n",
        "        return 0.0\n",
        "\n",
        "    similarity = 1 - spatial.distance.cosine(s1_vec, s2_vec)\n",
        "    return similarity\n"
      ],
      "metadata": {
        "colab": {
          "base_uri": "https://localhost:8080/"
        },
        "id": "zj--XtHXZRR8",
        "outputId": "a0ee7ff1-8047-478e-9aab-3a56584cfbb7"
      },
      "execution_count": null,
      "outputs": [
        {
          "output_type": "stream",
          "name": "stdout",
          "text": [
            "[=================================================-] 99.9% 957.5/958.4MB downloaded\n"
          ]
        }
      ]
    },
    {
      "cell_type": "markdown",
      "source": [
        "**Transformers**"
      ],
      "metadata": {
        "id": "SzcXFF1mNPv_"
      }
    },
    {
      "cell_type": "code",
      "source": [
        "!pip install sentence_transformers\n",
        "from sentence_transformers import SentenceTransformer, util\n",
        "\n",
        "\n",
        "model = SentenceTransformer('distilbert-base-nli-mean-tokens')\n"
      ],
      "metadata": {
        "id": "mEGgI1YWNPBZ",
        "colab": {
          "base_uri": "https://localhost:8080/",
          "height": 1000,
          "referenced_widgets": [
            "b1b7adf85f3b44f49c73c5f9a60e6c01",
            "7d0c6974fb0b425cbff74b6c3cfbaf85",
            "979d975fbe47451387415939a66d0276",
            "2d46210c2a734bbe86a944adef94ce95",
            "f1d1a0f361a2481991789696ea770f5e",
            "df55f52c754c4a3db141afead2198235",
            "5145ae8ba12b46a68715113b1276b9e0",
            "4d6fb90e152c4c7c92e5d9184407cdd1",
            "4d7160fe1579486fa46d53b65ddd0ae2",
            "c25ddc8085d84719b1777b8add09ddd6",
            "77232436c9b24df784e5052ab6b47204",
            "496e8d1c21c4422faf730c3f2be846bc",
            "bc75f61bfa3f4e74af74c6046974ff4d",
            "37e20c4a9a214d7abed368bf1d1b4d34",
            "fcd7d39dcad046f48e63463b844ad4ea",
            "33202aa7803c4ba9bf9023195993d508",
            "38c73d49f0434435a705d5f95468116d",
            "0b5fc7b430374f17a51a69238b9121d0",
            "e9a10a260c1d4a33a795a00244717064",
            "d61d8f1270a3425aa0acfcee95d9fbee",
            "51b87fba444a4033a79f6b2b1436e1fa",
            "fe89eb1bfc6c48a18cc90f351aa1bb8c",
            "825f5ed3f04d439ebd197d65dae56f56",
            "9ef5728239d64fe3bc9583c37128759d",
            "046d70f681274fd59f44c6d108a1907d",
            "8ef1f471b6df48c897440beff8fb80c9",
            "791e8b99379b4c60af4ab3164ae2945c",
            "c3c1898f0324429e95439cb06457dfa9",
            "e38e146967d844a9a6ba608259ee8bdc",
            "c5b027eb96b24455801732d4a8bfc48b",
            "cb8a8de28a034f74961e02d1807a75bc",
            "ce304c02e1fe469db452f173ca584fbe",
            "0c6fef867c054a969dfb553cffe6897d",
            "f2ff5efcbb2943c2a9fbfce0f4155065",
            "5645ba438f4a4f29ad9dee4c36efeabb",
            "36d8d413e7ff4394b656dda811ff2148",
            "75b48b54b20249b584d52f19f1518f26",
            "da67e54712864cc894642c340b3c842a",
            "ae788cd8629a47de8f44e9c8bda7892d",
            "8c4221fb053b4d8caeb31491c6bdc5c1",
            "19bdac712cef44a5a3e26234e77f9878",
            "7637db60723d4cbd94ceb74501a2537f",
            "5f37ad188cf74a4da7361823dd5c03ab",
            "d7abab854b0f42d684570898e080163f",
            "faf566eaac1445c4abda4102e724df6c",
            "e37004eb939049a99b218f19b652d3ee",
            "8763edd0ea6945bca6b1f9b7a840f845",
            "12dc0c540435472d9e2ca19bdd7378d8",
            "1f4eddddf7434c6d8ef44ec5f7e6200c",
            "dd0f1331b0e442929f056424280e48b6",
            "2e6eee6796304f30a751708dcef23fbc",
            "de70e17704a54d5cb90aff4eec2f4e08",
            "3d468f4ab08e48e3b16beced0ad9e3b2",
            "3b71bd3aba574d8ea19cf34a79febde4",
            "1266ce078e71440e8a4352c817cbf3f3",
            "19f642ff4b834bdf92f605c0c2987f8b",
            "23ad875e46c5435f99c27df041295feb",
            "59ba89a446344cf9b0f72f275ebe6386",
            "48ce1068bb3b49a7b5745ac6d4c672f6",
            "23ca4b67142041acb23c90854cbbd30b",
            "15fbe83955314a868af30a50f28941eb",
            "00c1e5feaedc4e2caf8ead60921501fa",
            "51094710dd6446bdb89b2ebc5e6cafd3",
            "bc84d8889bf0491b851d42d679e5fa86",
            "8a61e6a1fce94327b7fb50e75c0d08c7",
            "13bf8d921bb84b50a7a26ce8e05c402a",
            "8727a5f895464436a53c334d19992f47",
            "87a49bdacf234e5ea41dfe420777f74e",
            "204f2dc8ab8746c3af267c86377ddcc6",
            "65f32c8ac97746bf8bc5d30a26888778",
            "40e50b2345dd4eec96f947d05b761fb0",
            "be755f182b2c4cc986095dd5430dae1b",
            "14fc7493d05647739086ad3670274ce1",
            "e7ad0dd5a1f54779bfc96e7d7222e004",
            "2e772cff53664615b9ef743cad270e9c",
            "d5b88a0c8fae4471963adfd1d1a839bd",
            "7642f518850946b8a2061da18f029e3f",
            "f23c6a95aca64b8287d60b2eb4098fd3",
            "a997c86eb77645809a6e7448d4bc84cc",
            "7825b83e7018402eb938c2cc759033f0",
            "49dd925512b245c58cd35f14f4251cb0",
            "71549577abf941a7b24b67d248723098",
            "aba34cf3e0924004b2a1355dd3d57b7a",
            "04ccf0807ed140989a0308311c0d411f",
            "d099d44a6bf34d6e9d3ab3a624c45626",
            "d48a19ca907e4d2c876795189a407c07",
            "aefb3021d5774f1bae3e33cd23d4da75",
            "dd56550bb85f4b9e9696d9ed734a70aa",
            "cd7de25643f44cc3b03f1142a1a6a55e",
            "4ea65cb0f17a4120b98a16d72f8fd439",
            "298f273a80254208b99626b6ada245bb",
            "d8b085ba4ee84be99b6a018e571900a2",
            "7330a8b15bc14b319bc5c68bbce88c1a",
            "e5f982404e324e448ce5a775ebbf7e40",
            "17aa688f8cec4e41a4e540cbae8d3da0",
            "a91291a6c10d40ca9c4ca5088fdd1ffd",
            "448be32fe2ba4585a26a5576d85f2489",
            "26698a459caf411c9509f2fba4fe8e98",
            "6a9e78f4aaaf4241b254b8007a8218a5",
            "a4d5d5762c4e4c5c9041286fc30590c8",
            "f5abdb870bc6487ba082371e442786fd",
            "78cc14bc3a934edfae2f6b122bb10c5c",
            "0a662c4b47894e4796caf2c837183e7a",
            "61fa06ecac8d4514ba33f38ce828db2a",
            "2ebb92e22fe24f2b8eeec513ab8fb6fc",
            "c61c83e5558a42a3bbd32304121ae964",
            "c61a437ebdc945f8a51df63e31fe299c",
            "08cc0b0b9afa43068801b6a0ad4d2e98",
            "ce4d150f5ed64d3c80a8a766d64117f0",
            "fd2714fce16e4de0b7bbc41d4cb20358",
            "84e88f2314c84456b53b4f73b6673096",
            "9725a265dfdf4f3e9fd80b3e593839d8",
            "a1f6146935904976842c8afdfde51183",
            "7b125a592a1549abb08928824ebdd6b3",
            "cf979c2fc0c645a094a71b4483a2880b",
            "4214a77dde214e4191c43e736545a35e",
            "1b571051a8ac46d7ad7aa8331bc2f620",
            "7da3852b9258428aa0229136870e15e9",
            "824835b7126e493ea3a9c9bda0585ac6",
            "b0ece305d0d745e894bb5f880e68a146",
            "fa9bad5b03a5413782b1f6c0ff291f20",
            "2b241ffbaeb24a21852de9d07a4b0962",
            "cc6e7c46e4964f8bb23bc0344f77dab2",
            "19de4e0775104f85a90bda4772ef97aa",
            "d18b14cc535146b3a7121e4cf3fd1b0f",
            "92d39cc5fc08498da48213584a4ea76b",
            "50023331bf7843c7a6d611771d267719",
            "f174b8a73ff54bd3b4edc01c65be9025",
            "81e32a36607c4b6883cc3fadb5ba827d",
            "ede59d066a79421c95ad9da334c0d9e5",
            "d8df2acb30d440caaba1860118b3963f",
            "417915845bf847bf85bd97749d544a75"
          ]
        },
        "outputId": "728449c3-790b-4792-994a-f21be0bcac8c"
      },
      "execution_count": null,
      "outputs": [
        {
          "output_type": "stream",
          "name": "stdout",
          "text": [
            "Looking in indexes: https://pypi.org/simple, https://us-python.pkg.dev/colab-wheels/public/simple/\n",
            "Collecting sentence_transformers\n",
            "  Downloading sentence-transformers-2.2.2.tar.gz (85 kB)\n",
            "\u001b[2K     \u001b[90m━━━━━━━━━━━━━━━━━━━━━━━━━━━━━━━━━━━━━━━━\u001b[0m \u001b[32m86.0/86.0 KB\u001b[0m \u001b[31m5.0 MB/s\u001b[0m eta \u001b[36m0:00:00\u001b[0m\n",
            "\u001b[?25h  Preparing metadata (setup.py) ... \u001b[?25l\u001b[?25hdone\n",
            "Collecting transformers<5.0.0,>=4.6.0\n",
            "  Downloading transformers-4.27.3-py3-none-any.whl (6.8 MB)\n",
            "\u001b[2K     \u001b[90m━━━━━━━━━━━━━━━━━━━━━━━━━━━━━━━━━━━━━━━━\u001b[0m \u001b[32m6.8/6.8 MB\u001b[0m \u001b[31m50.2 MB/s\u001b[0m eta \u001b[36m0:00:00\u001b[0m\n",
            "\u001b[?25hRequirement already satisfied: tqdm in /usr/local/lib/python3.9/dist-packages (from sentence_transformers) (4.65.0)\n",
            "Requirement already satisfied: torch>=1.6.0 in /usr/local/lib/python3.9/dist-packages (from sentence_transformers) (1.13.1+cu116)\n",
            "Requirement already satisfied: torchvision in /usr/local/lib/python3.9/dist-packages (from sentence_transformers) (0.14.1+cu116)\n",
            "Requirement already satisfied: numpy in /usr/local/lib/python3.9/dist-packages (from sentence_transformers) (1.22.4)\n",
            "Requirement already satisfied: scikit-learn in /usr/local/lib/python3.9/dist-packages (from sentence_transformers) (1.2.2)\n",
            "Requirement already satisfied: scipy in /usr/local/lib/python3.9/dist-packages (from sentence_transformers) (1.10.1)\n",
            "Requirement already satisfied: nltk in /usr/local/lib/python3.9/dist-packages (from sentence_transformers) (3.8.1)\n",
            "Collecting sentencepiece\n",
            "  Downloading sentencepiece-0.1.97-cp39-cp39-manylinux_2_17_x86_64.manylinux2014_x86_64.whl (1.3 MB)\n",
            "\u001b[2K     \u001b[90m━━━━━━━━━━━━━━━━━━━━━━━━━━━━━━━━━━━━━━━━\u001b[0m \u001b[32m1.3/1.3 MB\u001b[0m \u001b[31m52.6 MB/s\u001b[0m eta \u001b[36m0:00:00\u001b[0m\n",
            "\u001b[?25hCollecting huggingface-hub>=0.4.0\n",
            "  Downloading huggingface_hub-0.13.3-py3-none-any.whl (199 kB)\n",
            "\u001b[2K     \u001b[90m━━━━━━━━━━━━━━━━━━━━━━━━━━━━━━━━━━━━━━\u001b[0m \u001b[32m199.8/199.8 KB\u001b[0m \u001b[31m21.1 MB/s\u001b[0m eta \u001b[36m0:00:00\u001b[0m\n",
            "\u001b[?25hRequirement already satisfied: requests in /usr/local/lib/python3.9/dist-packages (from huggingface-hub>=0.4.0->sentence_transformers) (2.27.1)\n",
            "Requirement already satisfied: typing-extensions>=3.7.4.3 in /usr/local/lib/python3.9/dist-packages (from huggingface-hub>=0.4.0->sentence_transformers) (4.5.0)\n",
            "Requirement already satisfied: filelock in /usr/local/lib/python3.9/dist-packages (from huggingface-hub>=0.4.0->sentence_transformers) (3.10.1)\n",
            "Requirement already satisfied: packaging>=20.9 in /usr/local/lib/python3.9/dist-packages (from huggingface-hub>=0.4.0->sentence_transformers) (23.0)\n",
            "Requirement already satisfied: pyyaml>=5.1 in /usr/local/lib/python3.9/dist-packages (from huggingface-hub>=0.4.0->sentence_transformers) (6.0)\n",
            "Collecting tokenizers!=0.11.3,<0.14,>=0.11.1\n",
            "  Downloading tokenizers-0.13.2-cp39-cp39-manylinux_2_17_x86_64.manylinux2014_x86_64.whl (7.6 MB)\n",
            "\u001b[2K     \u001b[90m━━━━━━━━━━━━━━━━━━━━━━━━━━━━━━━━━━━━━━━━\u001b[0m \u001b[32m7.6/7.6 MB\u001b[0m \u001b[31m45.0 MB/s\u001b[0m eta \u001b[36m0:00:00\u001b[0m\n",
            "\u001b[?25hRequirement already satisfied: regex!=2019.12.17 in /usr/local/lib/python3.9/dist-packages (from transformers<5.0.0,>=4.6.0->sentence_transformers) (2022.10.31)\n",
            "Requirement already satisfied: click in /usr/local/lib/python3.9/dist-packages (from nltk->sentence_transformers) (8.1.3)\n",
            "Requirement already satisfied: joblib in /usr/local/lib/python3.9/dist-packages (from nltk->sentence_transformers) (1.1.1)\n",
            "Requirement already satisfied: threadpoolctl>=2.0.0 in /usr/local/lib/python3.9/dist-packages (from scikit-learn->sentence_transformers) (3.1.0)\n",
            "Requirement already satisfied: pillow!=8.3.*,>=5.3.0 in /usr/local/lib/python3.9/dist-packages (from torchvision->sentence_transformers) (8.4.0)\n",
            "Requirement already satisfied: idna<4,>=2.5 in /usr/local/lib/python3.9/dist-packages (from requests->huggingface-hub>=0.4.0->sentence_transformers) (3.4)\n",
            "Requirement already satisfied: charset-normalizer~=2.0.0 in /usr/local/lib/python3.9/dist-packages (from requests->huggingface-hub>=0.4.0->sentence_transformers) (2.0.12)\n",
            "Requirement already satisfied: certifi>=2017.4.17 in /usr/local/lib/python3.9/dist-packages (from requests->huggingface-hub>=0.4.0->sentence_transformers) (2022.12.7)\n",
            "Requirement already satisfied: urllib3<1.27,>=1.21.1 in /usr/local/lib/python3.9/dist-packages (from requests->huggingface-hub>=0.4.0->sentence_transformers) (1.26.15)\n",
            "Building wheels for collected packages: sentence_transformers\n",
            "  Building wheel for sentence_transformers (setup.py) ... \u001b[?25l\u001b[?25hdone\n",
            "  Created wheel for sentence_transformers: filename=sentence_transformers-2.2.2-py3-none-any.whl size=125942 sha256=dc11453ad13b68ba8aa6bf022d53eb933e71a857c24137b55c689cacd64bc3a2\n",
            "  Stored in directory: /root/.cache/pip/wheels/71/67/06/162a3760c40d74dd40bc855d527008d26341c2b0ecf3e8e11f\n",
            "Successfully built sentence_transformers\n",
            "Installing collected packages: tokenizers, sentencepiece, huggingface-hub, transformers, sentence_transformers\n",
            "Successfully installed huggingface-hub-0.13.3 sentence_transformers-2.2.2 sentencepiece-0.1.97 tokenizers-0.13.2 transformers-4.27.3\n"
          ]
        },
        {
          "output_type": "display_data",
          "data": {
            "text/plain": [
              "Downloading (…)925a9/.gitattributes:   0%|          | 0.00/690 [00:00<?, ?B/s]"
            ],
            "application/vnd.jupyter.widget-view+json": {
              "version_major": 2,
              "version_minor": 0,
              "model_id": "b1b7adf85f3b44f49c73c5f9a60e6c01"
            }
          },
          "metadata": {}
        },
        {
          "output_type": "display_data",
          "data": {
            "text/plain": [
              "Downloading (…)_Pooling/config.json:   0%|          | 0.00/190 [00:00<?, ?B/s]"
            ],
            "application/vnd.jupyter.widget-view+json": {
              "version_major": 2,
              "version_minor": 0,
              "model_id": "496e8d1c21c4422faf730c3f2be846bc"
            }
          },
          "metadata": {}
        },
        {
          "output_type": "display_data",
          "data": {
            "text/plain": [
              "Downloading (…)1a515925a9/README.md:   0%|          | 0.00/3.99k [00:00<?, ?B/s]"
            ],
            "application/vnd.jupyter.widget-view+json": {
              "version_major": 2,
              "version_minor": 0,
              "model_id": "825f5ed3f04d439ebd197d65dae56f56"
            }
          },
          "metadata": {}
        },
        {
          "output_type": "display_data",
          "data": {
            "text/plain": [
              "Downloading (…)515925a9/config.json:   0%|          | 0.00/550 [00:00<?, ?B/s]"
            ],
            "application/vnd.jupyter.widget-view+json": {
              "version_major": 2,
              "version_minor": 0,
              "model_id": "f2ff5efcbb2943c2a9fbfce0f4155065"
            }
          },
          "metadata": {}
        },
        {
          "output_type": "display_data",
          "data": {
            "text/plain": [
              "Downloading (…)ce_transformers.json:   0%|          | 0.00/122 [00:00<?, ?B/s]"
            ],
            "application/vnd.jupyter.widget-view+json": {
              "version_major": 2,
              "version_minor": 0,
              "model_id": "faf566eaac1445c4abda4102e724df6c"
            }
          },
          "metadata": {}
        },
        {
          "output_type": "display_data",
          "data": {
            "text/plain": [
              "Downloading pytorch_model.bin:   0%|          | 0.00/265M [00:00<?, ?B/s]"
            ],
            "application/vnd.jupyter.widget-view+json": {
              "version_major": 2,
              "version_minor": 0,
              "model_id": "19f642ff4b834bdf92f605c0c2987f8b"
            }
          },
          "metadata": {}
        },
        {
          "output_type": "display_data",
          "data": {
            "text/plain": [
              "Downloading (…)nce_bert_config.json:   0%|          | 0.00/53.0 [00:00<?, ?B/s]"
            ],
            "application/vnd.jupyter.widget-view+json": {
              "version_major": 2,
              "version_minor": 0,
              "model_id": "8727a5f895464436a53c334d19992f47"
            }
          },
          "metadata": {}
        },
        {
          "output_type": "display_data",
          "data": {
            "text/plain": [
              "Downloading (…)cial_tokens_map.json:   0%|          | 0.00/112 [00:00<?, ?B/s]"
            ],
            "application/vnd.jupyter.widget-view+json": {
              "version_major": 2,
              "version_minor": 0,
              "model_id": "f23c6a95aca64b8287d60b2eb4098fd3"
            }
          },
          "metadata": {}
        },
        {
          "output_type": "display_data",
          "data": {
            "text/plain": [
              "Downloading (…)925a9/tokenizer.json:   0%|          | 0.00/466k [00:00<?, ?B/s]"
            ],
            "application/vnd.jupyter.widget-view+json": {
              "version_major": 2,
              "version_minor": 0,
              "model_id": "cd7de25643f44cc3b03f1142a1a6a55e"
            }
          },
          "metadata": {}
        },
        {
          "output_type": "display_data",
          "data": {
            "text/plain": [
              "Downloading (…)okenizer_config.json:   0%|          | 0.00/450 [00:00<?, ?B/s]"
            ],
            "application/vnd.jupyter.widget-view+json": {
              "version_major": 2,
              "version_minor": 0,
              "model_id": "a4d5d5762c4e4c5c9041286fc30590c8"
            }
          },
          "metadata": {}
        },
        {
          "output_type": "display_data",
          "data": {
            "text/plain": [
              "Downloading (…)1a515925a9/vocab.txt:   0%|          | 0.00/232k [00:00<?, ?B/s]"
            ],
            "application/vnd.jupyter.widget-view+json": {
              "version_major": 2,
              "version_minor": 0,
              "model_id": "84e88f2314c84456b53b4f73b6673096"
            }
          },
          "metadata": {}
        },
        {
          "output_type": "display_data",
          "data": {
            "text/plain": [
              "Downloading (…)15925a9/modules.json:   0%|          | 0.00/229 [00:00<?, ?B/s]"
            ],
            "application/vnd.jupyter.widget-view+json": {
              "version_major": 2,
              "version_minor": 0,
              "model_id": "2b241ffbaeb24a21852de9d07a4b0962"
            }
          },
          "metadata": {}
        }
      ]
    },
    {
      "cell_type": "code",
      "source": [
        "def transformerSim(sentence1,sentence2):\n",
        "  query_embedding = model.encode(sentence1)\n",
        "  passage_embedding = model.encode(sentence2)\n",
        "  #return util.dot_score(query_embedding, passage_embedding).item()\n",
        "  return util.cos_sim(query_embedding, passage_embedding).item()"
      ],
      "metadata": {
        "id": "mrz58rqEOEr9"
      },
      "execution_count": null,
      "outputs": []
    },
    {
      "cell_type": "code",
      "source": [
        "print(transformerSim(\"Employment and unemployment  LFS\" ,\"Employment LFS series\"))\n",
        "print(transformerSim(\"Employment and unemployment  LFS\" , \"Employment and unemployment Labour force survey\"))"
      ],
      "metadata": {
        "colab": {
          "base_uri": "https://localhost:8080/"
        },
        "id": "Qw8V-ZZAnfkp",
        "outputId": "514f3f86-c644-46b7-bd6a-cb01a53be0ad"
      },
      "execution_count": null,
      "outputs": [
        {
          "output_type": "stream",
          "name": "stdout",
          "text": [
            "0.8674449920654297\n",
            "0.8890995383262634\n"
          ]
        }
      ]
    },
    {
      "cell_type": "markdown",
      "source": [
        "**TF-IDF**"
      ],
      "metadata": {
        "id": "KApwnn6q9V8y"
      }
    },
    {
      "cell_type": "code",
      "source": [
        "import numpy as np\n",
        "def createVec(titles,l_values):\n",
        "  sentences = []\n",
        "  for row in titles:\n",
        "    sentences.append(filtering2(row))\n",
        "  for row in l_values:\n",
        "    sentences.append(filtering2(row))\n",
        "  words = set([word for sentence in sentences for word in sentence.split()])\n",
        "  return sentences,list(words)\n",
        "\n",
        "sentences , distinct_words = createVec(title_to_refs.keys(),l_values)\n",
        "\n",
        "def vectorize(sentence):\n",
        "  f=list()\n",
        "  words = sentence.split()\n",
        "  for i,word in enumerate(sentence):\n",
        "    f.append(sentence.count(word))\n",
        "  maxF=max(f)\n",
        "  vector=list()\n",
        "  for i,word in enumerate(distinct_words):\n",
        "    if word not in words:\n",
        "      vector.append(0)\n",
        "    else:\n",
        "      n = sum(1 for s in sentences if word in s)\n",
        "      tf=sentence.count(word)/maxF\n",
        "      idf=np.log(len(sentences)/n)\n",
        "      vector.append(tf*idf)\n",
        "  return vector\n",
        "\n",
        "def tfIdfSim(sentence1,sentence2):\n",
        "  vec1=vectorize(sentence1)\n",
        "  vec2=vectorize(sentence2)\n",
        "  cosine = np.dot(vec1, vec2) / (np.linalg.norm(vec1) * np.linalg.norm(vec2))\n",
        "  return cosine"
      ],
      "metadata": {
        "id": "tRZu5mlW9Xta"
      },
      "execution_count": null,
      "outputs": []
    },
    {
      "cell_type": "code",
      "source": [
        "print(tfIdfSim(filtering(\"Health hlt\") , filtering(\"Health\")))"
      ],
      "metadata": {
        "colab": {
          "base_uri": "https://localhost:8080/"
        },
        "id": "pTTCGg6Vf5gV",
        "outputId": "5768ae33-7504-4c56-c0ba-aefd5525a36d"
      },
      "execution_count": null,
      "outputs": [
        {
          "output_type": "stream",
          "name": "stdout",
          "text": [
            "0.875\n"
          ]
        }
      ]
    },
    {
      "cell_type": "markdown",
      "source": [
        "**Doc2vec**"
      ],
      "metadata": {
        "id": "EH7SF9SoS4fp"
      }
    },
    {
      "cell_type": "code",
      "source": [
        "import gensim\n",
        "from gensim.models.doc2vec import Doc2Vec, TaggedDocument\n",
        "from scipy.spatial.distance import cosine\n",
        "sentences = []\n",
        "for row in title_to_refs.keys():\n",
        "  sentences.append(filtering(row))\n",
        "for row in l_values:\n",
        "  sentences.append(filtering(row))\n",
        "documents = []\n",
        "for i, sentence in enumerate(sentences):\n",
        "    words = gensim.utils.simple_preprocess(sentence)\n",
        "    documents.append(TaggedDocument(words, [i]))\n",
        "\n",
        "\n",
        "model = Doc2Vec(vector_size=50, window=5, min_count=1, epochs=10, workers=4)\n",
        "model.build_vocab(documents)\n",
        "model.train(documents, total_examples=model.corpus_count, epochs=model.epochs)\n",
        "\n",
        "def doc2vecSim(sentence1,sentence2):\n",
        "  tokens1 = gensim.utils.simple_preprocess(sentence1)\n",
        "  tokens2 = gensim.utils.simple_preprocess(sentence2)\n",
        "\n",
        "  vector1 = model.infer_vector(tokens1)\n",
        "  vector2 = model.infer_vector(tokens2)\n",
        "\n",
        "  return 1 - cosine(vector1, vector2)\n"
      ],
      "metadata": {
        "id": "RDgS02P3S6ij"
      },
      "execution_count": null,
      "outputs": []
    },
    {
      "cell_type": "markdown",
      "source": [
        "Φάση Β, υπολογισμός ομοιοτήτων με την χρήση των προηγούμενων αλγορίθμων"
      ],
      "metadata": {
        "id": "HuNv44030YKJ"
      }
    },
    {
      "cell_type": "code",
      "source": [
        "from tqdm import tqdm\n",
        "def highestSimilarity(title,func,useCode,filtering):\n",
        "  max=0\n",
        "  index=0 # it doesent matter , this variable will be used only if max is greater than threshold which means that variable max will have a value\n",
        "  titleF = filtering(title)\n",
        "  code = title_to_codes.get(title)\n",
        "  code = re.sub(r'\\d+', '', code[0]) #remove numeric characters from code\n",
        "  for i,l in enumerate(l_values):\n",
        "    if useCode == 0 or code== ' ':\n",
        "      sim = func(titleF,filtering(l))\n",
        "    elif useCode == 1:\n",
        "      sim = jellyfishSim(re.sub(r'\\d+', '',c_values[i]),code)\n",
        "    else:\n",
        "      sim = (1-useCode)*func(titleF,filtering(l)) + useCode*jellyfishSim(re.sub(r'\\d+', '',c_values[i]),code)\n",
        "    if sim >= 1 : # sometimes it get little over 1 due to floating-point rounding errors, numerical instability, or other factors\n",
        "      return 1 , i\n",
        "    elif sim > max:\n",
        "      max=sim\n",
        "      index=i\n",
        "  return max , index #return the maximum similarity and the index that have this similarity\n",
        "\n",
        "def calculateSim(func,threshold,titles,useCode,filtering,file):\n",
        "  changes=[]\n",
        "  remaining=list(titles)\n",
        "  with open(file, \"a\") as f:\n",
        "    for i,t in enumerate(tqdm(titles)):\n",
        "      sim , index = highestSimilarity(t,func,useCode,filtering) #filtering(t)\n",
        "      if sim > threshold:\n",
        "        changes.append([t,c_values[index]])\n",
        "        remaining.remove(t)\n",
        "        f.write(\"{} : {} ------> {:.3f}\\n\".format(t, l_values[index], sim))\n",
        "        #ref=list(title_to_refs.get(t))\n",
        "        #ref_url =\"http://lod.csd.auth.gr:7200/resource?uri=https://ec.europa.eu/eurostat/NLP4StatRef/knowledge/\"+ref[0]\n",
        "        #data_url =\"http://lod.csd.auth.gr:7200/resource?uri=\"+c_values[index]\n",
        "        #f.write(\"{}({}) : {}({}) ------> {:.3f}\\n\".format(t, ref_url, l_values[index], data_url, sim))\n",
        "  return changes , remaining\n",
        "\n"
      ],
      "metadata": {
        "id": "9U1plAcqkhFz"
      },
      "execution_count": null,
      "outputs": []
    },
    {
      "cell_type": "markdown",
      "source": [
        "Database-data"
      ],
      "metadata": {
        "id": "855b1TXUCSTI"
      }
    },
    {
      "cell_type": "code",
      "source": [
        "changes , remaining = phaseA(title_to_refs.keys(),title_to_codes,l_values)"
      ],
      "metadata": {
        "id": "UvOzlBzR3FML"
      },
      "execution_count": null,
      "outputs": []
    },
    {
      "cell_type": "code",
      "source": [
        "sentences,distinct_words= createVec(title_to_refs.keys(),l_values)\n",
        "changes2 , remaining2 = calculateSim(tfIdfSim,0.8,remaining,0,filtering2,\"phaseB.txt\")"
      ],
      "metadata": {
        "id": "jCztyfW1abPe"
      },
      "execution_count": null,
      "outputs": []
    },
    {
      "cell_type": "code",
      "source": [
        "changes3 , remaining3 = calculateSim(jellyfishSim,0.9,remaining2,0,filtering3,\"phaseB.txt\")"
      ],
      "metadata": {
        "id": "tVsoZsf8iBLA"
      },
      "execution_count": null,
      "outputs": []
    },
    {
      "cell_type": "code",
      "source": [
        "model = trainW2V(l_values)\n",
        "changes4 , remaining4 = calculateSim(myWord2vec,0.8,remaining3,0,filtering2,\"phaseB.txt\")"
      ],
      "metadata": {
        "id": "fBE8e8Rnhx8x"
      },
      "execution_count": null,
      "outputs": []
    },
    {
      "cell_type": "code",
      "source": [
        "changes5 , remaining5 = calculateSim(fuzzySim,0.74,remaining4,0.25,filtering3,\"phaseB.txt\")"
      ],
      "metadata": {
        "id": "1W5oxO7njBwh"
      },
      "execution_count": null,
      "outputs": []
    },
    {
      "cell_type": "markdown",
      "source": [
        "Table-tb"
      ],
      "metadata": {
        "id": "lXjjKsPOCV9E"
      }
    },
    {
      "cell_type": "code",
      "source": [
        "title_to_refs , url_to_refs = tableTTR , tableUTR\n",
        "title_to_codes = createTTC(title_to_refs,url_to_refs)\n",
        "l_values , c_values = tlv , tcv"
      ],
      "metadata": {
        "id": "W_0B_Ki54cfo"
      },
      "execution_count": null,
      "outputs": []
    },
    {
      "cell_type": "code",
      "source": [
        "changes , remaining = phaseA(title_to_refs.keys(),title_to_codes,l_values)"
      ],
      "metadata": {
        "id": "wVC_p5hG4wzw"
      },
      "execution_count": null,
      "outputs": []
    },
    {
      "cell_type": "code",
      "source": [
        "changes2 , remaining2 = calculateSim(jellyfishSim,0.9,remaining,0,filtering3,\"phaseBt.txt\")"
      ],
      "metadata": {
        "id": "hv7ySgncCXxO"
      },
      "execution_count": null,
      "outputs": []
    },
    {
      "cell_type": "code",
      "source": [
        "sentences,distinct_words= createVec(title_to_refs.keys(),l_values)\n",
        "changes3 , remaining3 = calculateSim(tfIdfSim,0.8,remaining2,0,filtering2,\"phaseBt.txt\")"
      ],
      "metadata": {
        "id": "sHeJPbtJ__y1"
      },
      "execution_count": null,
      "outputs": []
    },
    {
      "cell_type": "code",
      "source": [
        "changes4 , remaining4 = calculateSim(jellyfishSim,0.86,remaining3,0,filtering,\"phaseBt.txt\")"
      ],
      "metadata": {
        "id": "km8fDWjTW_Kc"
      },
      "execution_count": null,
      "outputs": []
    },
    {
      "cell_type": "markdown",
      "source": [
        "Table-data"
      ],
      "metadata": {
        "id": "vI7gQscf5AQ-"
      }
    },
    {
      "cell_type": "code",
      "source": [
        "l_values , c_values = dlv , dcv"
      ],
      "metadata": {
        "id": "DY69lHE04-AE"
      },
      "execution_count": null,
      "outputs": []
    },
    {
      "cell_type": "code",
      "source": [
        "changes5 , remaining5 = phaseA(remaining4,title_to_codes,l_values)"
      ],
      "metadata": {
        "id": "K_yqQH7sLjvr"
      },
      "execution_count": null,
      "outputs": []
    },
    {
      "cell_type": "code",
      "source": [
        "sentences,distinct_words= createVec(title_to_refs.keys(),l_values)\n",
        "changes6 , remaining6 = calculateSim(tfIdfSim,0.8,remaining5,0,filtering2,\"phaseBtd.txt\")"
      ],
      "metadata": {
        "id": "pn_XEPhcA53H"
      },
      "execution_count": null,
      "outputs": []
    },
    {
      "cell_type": "code",
      "source": [
        "model = trainW2V(l_values)\n",
        "changes7 , remaining7 = calculateSim(myWord2vec,0.8,remaining6,0,filtering2,\"phaseBtd.txt\")"
      ],
      "metadata": {
        "id": "nRCn95psCb8Q"
      },
      "execution_count": null,
      "outputs": []
    },
    {
      "cell_type": "markdown",
      "source": [
        "2ο task: Relevant σχέσεις"
      ],
      "metadata": {
        "id": "9-ThUGL3Vsi8"
      }
    },
    {
      "cell_type": "code",
      "source": [
        "def getCurrRelations(files): #function that returns a dictionary with the current relations for every reference\n",
        "  # Create an empty dictionary\n",
        "  currentRel = {}\n",
        "  for title in title_to_refs.keys():\n",
        "    currentRel[title] = []\n",
        "  # Iterate over the files\n",
        "  for f in files:\n",
        "      # Open each file\n",
        "      with open(f, \"r\") as file:\n",
        "          # Read the lines\n",
        "          lines = file.readlines()\n",
        "          # Process each line\n",
        "          for line in lines:\n",
        "              # Cut the line based on \" ------> \" delimiter\n",
        "              extracted_line = line.split(\" ------> \")[0]\n",
        "              # Extract the \"A : B\" part\n",
        "              A, B = extracted_line.split(\" : \")\n",
        "              currentRel[A].append(B.strip())\n",
        "  return currentRel"
      ],
      "metadata": {
        "id": "njjueJ4IsIm3"
      },
      "execution_count": null,
      "outputs": []
    },
    {
      "cell_type": "code",
      "source": [
        "currentRel = getCurrRelations([\"phaseA.txt\", \"phaseB.txt\"])\n",
        "title_to_refs , url_to_refs = dbTTR , dbUTR\n",
        "title_to_codes = createTTC(title_to_refs,url_to_refs)\n",
        "l_values , c_values = dlv , dcv"
      ],
      "metadata": {
        "id": "hRqATEqmy2mb"
      },
      "execution_count": null,
      "outputs": []
    },
    {
      "cell_type": "markdown",
      "source": [
        "Συνάρτηση που εντοπίζει σχέσεις, είτε βάσει ομοιότητας είτε αν υπάρχει ο κωδικός μέσα στον τίτλο."
      ],
      "metadata": {
        "id": "hqOuWVFWD3tO"
      }
    },
    {
      "cell_type": "code",
      "source": [
        "from tqdm import tqdm\n",
        "def relevanceCon(func,filtering,threshold,file):\n",
        "  titles=[]\n",
        "  with open(file, \"a\") as f:\n",
        "    for title in tqdm(title_to_refs.keys()):\n",
        "      t= filtering(title)\n",
        "      for j,label in enumerate(l_values):\n",
        "        l=filtering(label)\n",
        "        if label not in currentRel[title]:\n",
        "          sim = func(t,l)\n",
        "          # either the similarity is high or the code of label exist in the title of the reference\n",
        "          if sim >= threshold or (c_values[j] in title.split()):\n",
        "            f.write(\"{} : {}\\n\".format(title,label))\n",
        "            currentRel[title].append(label)\n",
        "            titles.append(title)\n",
        "  return titles"
      ],
      "metadata": {
        "id": "_oGJag192z-a"
      },
      "execution_count": null,
      "outputs": []
    },
    {
      "cell_type": "code",
      "source": [
        "added1 = relevanceCon(jellyfishSim,filtering3,0.85,\"relevantDatabase.txt\")"
      ],
      "metadata": {
        "id": "dHqs0ucGRlBp"
      },
      "execution_count": null,
      "outputs": []
    },
    {
      "cell_type": "code",
      "source": [
        "sentences,distinct_words= createVec(title_to_refs.keys(),l_values)\n",
        "added2 = relevanceCon(tfIdfSim,filtering2,0.7,\"relevantDatabase.txt\")"
      ],
      "metadata": {
        "id": "0np8o2YnG3_i"
      },
      "execution_count": null,
      "outputs": []
    },
    {
      "cell_type": "code",
      "source": [
        "model = trainW2V(l_values)\n",
        "added3 = relevanceCon(myWord2vec,filtering2,0.75,\"relevantDatabase.txt\")"
      ],
      "metadata": {
        "id": "bDdNPIbTPon0"
      },
      "execution_count": null,
      "outputs": []
    },
    {
      "cell_type": "code",
      "source": [
        "title_to_refs , url_to_refs = tableTTR , tableUTR\n",
        "title_to_codes = createTTC(title_to_refs,url_to_refs)\n",
        "l_values , c_values = tlv , tcv\n",
        "currentRel = getCurrRelations([\"phaseAt.txt\", \"phaseBt.txt\"])"
      ],
      "metadata": {
        "id": "hC1HUJe_S_0y"
      },
      "execution_count": null,
      "outputs": []
    },
    {
      "cell_type": "code",
      "source": [
        "added1 = relevanceCon(jellyfishSim,filtering3,0.85,\"relevantTable.txt\")\n",
        "sentences,distinct_words= createVec(title_to_refs.keys(),l_values)\n",
        "added2 = relevanceCon(tfIdfSim,filtering2,0.7,\"relevantTable.txt\")\n",
        "model = trainW2V(l_values)\n",
        "added3 = relevanceCon(myWord2vec,filtering2,0.75,\"relevantTable.txt\")"
      ],
      "metadata": {
        "colab": {
          "base_uri": "https://localhost:8080/"
        },
        "id": "6h9cgKzNTKyL",
        "outputId": "af13e1a1-2aa6-4bc7-fe96-6b118ec255f6"
      },
      "execution_count": null,
      "outputs": [
        {
          "output_type": "stream",
          "name": "stderr",
          "text": [
            "100%|██████████| 106/106 [00:00<00:00, 880.93it/s]\n",
            "100%|██████████| 106/106 [00:13<00:00,  8.00it/s]\n",
            " 42%|████▏     | 44/106 [00:03<00:05, 11.39it/s]<ipython-input-34-0cb9352433d0>:13: RuntimeWarning: invalid value encountered in double_scalars\n",
            "  return np.dot(vec1, vec2) / (np.linalg.norm(vec1) * np.linalg.norm(vec2))\n",
            "100%|██████████| 106/106 [00:07<00:00, 14.37it/s]\n"
          ]
        }
      ]
    },
    {
      "cell_type": "markdown",
      "source": [
        "Αποθήκευση όλων των τριπλέτων με την ιδιότητα hasURI σε ένα αρχείο, και τις τριπλέτες με την ιδιότητα seeAlso σε άλλο αρχείο"
      ],
      "metadata": {
        "id": "4zOnNnKknNLO"
      }
    },
    {
      "cell_type": "code",
      "source": [
        "def getCodeByLabel(l,l_values,c_values):\n",
        "  for i,label in enumerate(l_values):\n",
        "    if label == l:\n",
        "      return c_values[i]\n",
        "def createTheFinalFiles(files,prop,title_to_refs,l_values,c_values,filename):\n",
        "  with open(filename,'a') as output:\n",
        "      for f in files:\n",
        "      # Open each file\n",
        "        with open(f, \"r\") as file:\n",
        "            # Read the lines\n",
        "            lines = file.readlines()\n",
        "            # Process each line\n",
        "            for line in lines:\n",
        "                # Cut the line based on \" ------> \" delimiter\n",
        "                extracted_line = line.split(\" ------> \")[0]\n",
        "                # Extract the \"A : B\" part\n",
        "                t, l = extracted_line.split(\" : \")\n",
        "                code = \"estat:\"+ getCodeByLabel(l.strip(),l_values,c_values)\n",
        "                for ref in title_to_refs[t]:\n",
        "                  output.write(\"estatData:\" + ref +\" \" + prop + \" \" + code + \" .\" + \"\\n\")"
      ],
      "metadata": {
        "id": "n9P9dmwKpVT6"
      },
      "execution_count": null,
      "outputs": []
    },
    {
      "cell_type": "code",
      "source": [
        "title_to_refs1 = dbTTR\n",
        "l_values1 , c_values1 = dlv , dcv\n",
        "title_to_refs2 = tableTTR\n",
        "l_values2 , c_values2 = tlv , tcv"
      ],
      "metadata": {
        "id": "00ie6BbR2av4"
      },
      "execution_count": null,
      "outputs": []
    },
    {
      "cell_type": "code",
      "source": [
        "#hasURI\n",
        "createTheFinalFiles([\"phaseA.txt\",\"phaseB.txt\"],\"estat:hasURI\",title_to_refs1,l_values1,c_values1,\"hasURItriples.ttl\") #database -> data\n",
        "createTheFinalFiles([\"phaseAt.txt\",\"phaseBt.txt\"],\"estat:hasURI\",title_to_refs2,l_values2,c_values2,\"hasURItriples.ttl\") #table -> tb\n",
        "createTheFinalFiles([\"phaseAtd.txt\",\"phaseBtd.txt\"],\"estat:hasURI\",title_to_refs2,l_values1,c_values1,\"hasURItriples.ttl\") #table -> data\n",
        "#seeAlso\n",
        "createTheFinalFiles([\"relevantDatabase.txt\"],\"estat:seeAlso\",title_to_refs1,l_values1,c_values1,\"seeAlsotriples.ttl\") #database\n",
        "createTheFinalFiles([\"relevantTable.txt\"],\"estat:seeAlso\",title_to_refs2,l_values2,c_values2,\"seeAlsotriples.ttl\") #table"
      ],
      "metadata": {
        "id": "hS2TJojLu149"
      },
      "execution_count": null,
      "outputs": []
    },
    {
      "cell_type": "markdown",
      "source": [
        "Δημιουργώ αρχείο με τις συνδέσεις του hasURI σε clickable format για να μπορούν να ελεγθούν"
      ],
      "metadata": {
        "id": "gxndS7FnJmW-"
      }
    },
    {
      "cell_type": "code",
      "source": [
        "with open(\"hasURIcheckFile.txt\",'w') as out:\n",
        "  with open(\"hasURItriples.ttl\",'r') as input:\n",
        "    lines = input.readlines()\n",
        "    for line in lines:\n",
        "      # Remove prefixes\n",
        "      modified_format = line.replace(\"estatData:\", \"http://lod.csd.auth.gr:7200/resource?uri=https://ec.europa.eu/eurostat/NLP4StatRef/knowledge/\")\n",
        "      # Replace \"estat:hasURI\" with a :\n",
        "      modified_format = modified_format.replace(\"estat:hasURI\", \" : \")\n",
        "      # Replace the second occurrence of \"estat:\" with a colon (:)\n",
        "      modified_format = modified_format.replace(\"estat:\", \"http://lod.csd.auth.gr:7200/resource?uri=https://ec.europa.eu/eurostat/NLP4StatRef/ontology/\")\n",
        "      out.write(modified_format)\n",
        "  input.close()\n",
        "out.close()"
      ],
      "metadata": {
        "id": "hbdKmncrEVez"
      },
      "execution_count": null,
      "outputs": []
    }
  ],
  "metadata": {
    "colab": {
      "provenance": [],
      "authorship_tag": "ABX9TyPvSgVqEtfBt6rL9O/Q58zE",
      "include_colab_link": true
    },
    "kernelspec": {
      "display_name": "Python 3",
      "name": "python3"
    },
    "language_info": {
      "name": "python"
    },
    "widgets": {
      "application/vnd.jupyter.widget-state+json": {
        "b1b7adf85f3b44f49c73c5f9a60e6c01": {
          "model_module": "@jupyter-widgets/controls",
          "model_name": "HBoxModel",
          "model_module_version": "1.5.0",
          "state": {
            "_dom_classes": [],
            "_model_module": "@jupyter-widgets/controls",
            "_model_module_version": "1.5.0",
            "_model_name": "HBoxModel",
            "_view_count": null,
            "_view_module": "@jupyter-widgets/controls",
            "_view_module_version": "1.5.0",
            "_view_name": "HBoxView",
            "box_style": "",
            "children": [
              "IPY_MODEL_7d0c6974fb0b425cbff74b6c3cfbaf85",
              "IPY_MODEL_979d975fbe47451387415939a66d0276",
              "IPY_MODEL_2d46210c2a734bbe86a944adef94ce95"
            ],
            "layout": "IPY_MODEL_f1d1a0f361a2481991789696ea770f5e"
          }
        },
        "7d0c6974fb0b425cbff74b6c3cfbaf85": {
          "model_module": "@jupyter-widgets/controls",
          "model_name": "HTMLModel",
          "model_module_version": "1.5.0",
          "state": {
            "_dom_classes": [],
            "_model_module": "@jupyter-widgets/controls",
            "_model_module_version": "1.5.0",
            "_model_name": "HTMLModel",
            "_view_count": null,
            "_view_module": "@jupyter-widgets/controls",
            "_view_module_version": "1.5.0",
            "_view_name": "HTMLView",
            "description": "",
            "description_tooltip": null,
            "layout": "IPY_MODEL_df55f52c754c4a3db141afead2198235",
            "placeholder": "​",
            "style": "IPY_MODEL_5145ae8ba12b46a68715113b1276b9e0",
            "value": "Downloading (…)925a9/.gitattributes: 100%"
          }
        },
        "979d975fbe47451387415939a66d0276": {
          "model_module": "@jupyter-widgets/controls",
          "model_name": "FloatProgressModel",
          "model_module_version": "1.5.0",
          "state": {
            "_dom_classes": [],
            "_model_module": "@jupyter-widgets/controls",
            "_model_module_version": "1.5.0",
            "_model_name": "FloatProgressModel",
            "_view_count": null,
            "_view_module": "@jupyter-widgets/controls",
            "_view_module_version": "1.5.0",
            "_view_name": "ProgressView",
            "bar_style": "success",
            "description": "",
            "description_tooltip": null,
            "layout": "IPY_MODEL_4d6fb90e152c4c7c92e5d9184407cdd1",
            "max": 690,
            "min": 0,
            "orientation": "horizontal",
            "style": "IPY_MODEL_4d7160fe1579486fa46d53b65ddd0ae2",
            "value": 690
          }
        },
        "2d46210c2a734bbe86a944adef94ce95": {
          "model_module": "@jupyter-widgets/controls",
          "model_name": "HTMLModel",
          "model_module_version": "1.5.0",
          "state": {
            "_dom_classes": [],
            "_model_module": "@jupyter-widgets/controls",
            "_model_module_version": "1.5.0",
            "_model_name": "HTMLModel",
            "_view_count": null,
            "_view_module": "@jupyter-widgets/controls",
            "_view_module_version": "1.5.0",
            "_view_name": "HTMLView",
            "description": "",
            "description_tooltip": null,
            "layout": "IPY_MODEL_c25ddc8085d84719b1777b8add09ddd6",
            "placeholder": "​",
            "style": "IPY_MODEL_77232436c9b24df784e5052ab6b47204",
            "value": " 690/690 [00:00&lt;00:00, 7.43kB/s]"
          }
        },
        "f1d1a0f361a2481991789696ea770f5e": {
          "model_module": "@jupyter-widgets/base",
          "model_name": "LayoutModel",
          "model_module_version": "1.2.0",
          "state": {
            "_model_module": "@jupyter-widgets/base",
            "_model_module_version": "1.2.0",
            "_model_name": "LayoutModel",
            "_view_count": null,
            "_view_module": "@jupyter-widgets/base",
            "_view_module_version": "1.2.0",
            "_view_name": "LayoutView",
            "align_content": null,
            "align_items": null,
            "align_self": null,
            "border": null,
            "bottom": null,
            "display": null,
            "flex": null,
            "flex_flow": null,
            "grid_area": null,
            "grid_auto_columns": null,
            "grid_auto_flow": null,
            "grid_auto_rows": null,
            "grid_column": null,
            "grid_gap": null,
            "grid_row": null,
            "grid_template_areas": null,
            "grid_template_columns": null,
            "grid_template_rows": null,
            "height": null,
            "justify_content": null,
            "justify_items": null,
            "left": null,
            "margin": null,
            "max_height": null,
            "max_width": null,
            "min_height": null,
            "min_width": null,
            "object_fit": null,
            "object_position": null,
            "order": null,
            "overflow": null,
            "overflow_x": null,
            "overflow_y": null,
            "padding": null,
            "right": null,
            "top": null,
            "visibility": null,
            "width": null
          }
        },
        "df55f52c754c4a3db141afead2198235": {
          "model_module": "@jupyter-widgets/base",
          "model_name": "LayoutModel",
          "model_module_version": "1.2.0",
          "state": {
            "_model_module": "@jupyter-widgets/base",
            "_model_module_version": "1.2.0",
            "_model_name": "LayoutModel",
            "_view_count": null,
            "_view_module": "@jupyter-widgets/base",
            "_view_module_version": "1.2.0",
            "_view_name": "LayoutView",
            "align_content": null,
            "align_items": null,
            "align_self": null,
            "border": null,
            "bottom": null,
            "display": null,
            "flex": null,
            "flex_flow": null,
            "grid_area": null,
            "grid_auto_columns": null,
            "grid_auto_flow": null,
            "grid_auto_rows": null,
            "grid_column": null,
            "grid_gap": null,
            "grid_row": null,
            "grid_template_areas": null,
            "grid_template_columns": null,
            "grid_template_rows": null,
            "height": null,
            "justify_content": null,
            "justify_items": null,
            "left": null,
            "margin": null,
            "max_height": null,
            "max_width": null,
            "min_height": null,
            "min_width": null,
            "object_fit": null,
            "object_position": null,
            "order": null,
            "overflow": null,
            "overflow_x": null,
            "overflow_y": null,
            "padding": null,
            "right": null,
            "top": null,
            "visibility": null,
            "width": null
          }
        },
        "5145ae8ba12b46a68715113b1276b9e0": {
          "model_module": "@jupyter-widgets/controls",
          "model_name": "DescriptionStyleModel",
          "model_module_version": "1.5.0",
          "state": {
            "_model_module": "@jupyter-widgets/controls",
            "_model_module_version": "1.5.0",
            "_model_name": "DescriptionStyleModel",
            "_view_count": null,
            "_view_module": "@jupyter-widgets/base",
            "_view_module_version": "1.2.0",
            "_view_name": "StyleView",
            "description_width": ""
          }
        },
        "4d6fb90e152c4c7c92e5d9184407cdd1": {
          "model_module": "@jupyter-widgets/base",
          "model_name": "LayoutModel",
          "model_module_version": "1.2.0",
          "state": {
            "_model_module": "@jupyter-widgets/base",
            "_model_module_version": "1.2.0",
            "_model_name": "LayoutModel",
            "_view_count": null,
            "_view_module": "@jupyter-widgets/base",
            "_view_module_version": "1.2.0",
            "_view_name": "LayoutView",
            "align_content": null,
            "align_items": null,
            "align_self": null,
            "border": null,
            "bottom": null,
            "display": null,
            "flex": null,
            "flex_flow": null,
            "grid_area": null,
            "grid_auto_columns": null,
            "grid_auto_flow": null,
            "grid_auto_rows": null,
            "grid_column": null,
            "grid_gap": null,
            "grid_row": null,
            "grid_template_areas": null,
            "grid_template_columns": null,
            "grid_template_rows": null,
            "height": null,
            "justify_content": null,
            "justify_items": null,
            "left": null,
            "margin": null,
            "max_height": null,
            "max_width": null,
            "min_height": null,
            "min_width": null,
            "object_fit": null,
            "object_position": null,
            "order": null,
            "overflow": null,
            "overflow_x": null,
            "overflow_y": null,
            "padding": null,
            "right": null,
            "top": null,
            "visibility": null,
            "width": null
          }
        },
        "4d7160fe1579486fa46d53b65ddd0ae2": {
          "model_module": "@jupyter-widgets/controls",
          "model_name": "ProgressStyleModel",
          "model_module_version": "1.5.0",
          "state": {
            "_model_module": "@jupyter-widgets/controls",
            "_model_module_version": "1.5.0",
            "_model_name": "ProgressStyleModel",
            "_view_count": null,
            "_view_module": "@jupyter-widgets/base",
            "_view_module_version": "1.2.0",
            "_view_name": "StyleView",
            "bar_color": null,
            "description_width": ""
          }
        },
        "c25ddc8085d84719b1777b8add09ddd6": {
          "model_module": "@jupyter-widgets/base",
          "model_name": "LayoutModel",
          "model_module_version": "1.2.0",
          "state": {
            "_model_module": "@jupyter-widgets/base",
            "_model_module_version": "1.2.0",
            "_model_name": "LayoutModel",
            "_view_count": null,
            "_view_module": "@jupyter-widgets/base",
            "_view_module_version": "1.2.0",
            "_view_name": "LayoutView",
            "align_content": null,
            "align_items": null,
            "align_self": null,
            "border": null,
            "bottom": null,
            "display": null,
            "flex": null,
            "flex_flow": null,
            "grid_area": null,
            "grid_auto_columns": null,
            "grid_auto_flow": null,
            "grid_auto_rows": null,
            "grid_column": null,
            "grid_gap": null,
            "grid_row": null,
            "grid_template_areas": null,
            "grid_template_columns": null,
            "grid_template_rows": null,
            "height": null,
            "justify_content": null,
            "justify_items": null,
            "left": null,
            "margin": null,
            "max_height": null,
            "max_width": null,
            "min_height": null,
            "min_width": null,
            "object_fit": null,
            "object_position": null,
            "order": null,
            "overflow": null,
            "overflow_x": null,
            "overflow_y": null,
            "padding": null,
            "right": null,
            "top": null,
            "visibility": null,
            "width": null
          }
        },
        "77232436c9b24df784e5052ab6b47204": {
          "model_module": "@jupyter-widgets/controls",
          "model_name": "DescriptionStyleModel",
          "model_module_version": "1.5.0",
          "state": {
            "_model_module": "@jupyter-widgets/controls",
            "_model_module_version": "1.5.0",
            "_model_name": "DescriptionStyleModel",
            "_view_count": null,
            "_view_module": "@jupyter-widgets/base",
            "_view_module_version": "1.2.0",
            "_view_name": "StyleView",
            "description_width": ""
          }
        },
        "496e8d1c21c4422faf730c3f2be846bc": {
          "model_module": "@jupyter-widgets/controls",
          "model_name": "HBoxModel",
          "model_module_version": "1.5.0",
          "state": {
            "_dom_classes": [],
            "_model_module": "@jupyter-widgets/controls",
            "_model_module_version": "1.5.0",
            "_model_name": "HBoxModel",
            "_view_count": null,
            "_view_module": "@jupyter-widgets/controls",
            "_view_module_version": "1.5.0",
            "_view_name": "HBoxView",
            "box_style": "",
            "children": [
              "IPY_MODEL_bc75f61bfa3f4e74af74c6046974ff4d",
              "IPY_MODEL_37e20c4a9a214d7abed368bf1d1b4d34",
              "IPY_MODEL_fcd7d39dcad046f48e63463b844ad4ea"
            ],
            "layout": "IPY_MODEL_33202aa7803c4ba9bf9023195993d508"
          }
        },
        "bc75f61bfa3f4e74af74c6046974ff4d": {
          "model_module": "@jupyter-widgets/controls",
          "model_name": "HTMLModel",
          "model_module_version": "1.5.0",
          "state": {
            "_dom_classes": [],
            "_model_module": "@jupyter-widgets/controls",
            "_model_module_version": "1.5.0",
            "_model_name": "HTMLModel",
            "_view_count": null,
            "_view_module": "@jupyter-widgets/controls",
            "_view_module_version": "1.5.0",
            "_view_name": "HTMLView",
            "description": "",
            "description_tooltip": null,
            "layout": "IPY_MODEL_38c73d49f0434435a705d5f95468116d",
            "placeholder": "​",
            "style": "IPY_MODEL_0b5fc7b430374f17a51a69238b9121d0",
            "value": "Downloading (…)_Pooling/config.json: 100%"
          }
        },
        "37e20c4a9a214d7abed368bf1d1b4d34": {
          "model_module": "@jupyter-widgets/controls",
          "model_name": "FloatProgressModel",
          "model_module_version": "1.5.0",
          "state": {
            "_dom_classes": [],
            "_model_module": "@jupyter-widgets/controls",
            "_model_module_version": "1.5.0",
            "_model_name": "FloatProgressModel",
            "_view_count": null,
            "_view_module": "@jupyter-widgets/controls",
            "_view_module_version": "1.5.0",
            "_view_name": "ProgressView",
            "bar_style": "success",
            "description": "",
            "description_tooltip": null,
            "layout": "IPY_MODEL_e9a10a260c1d4a33a795a00244717064",
            "max": 190,
            "min": 0,
            "orientation": "horizontal",
            "style": "IPY_MODEL_d61d8f1270a3425aa0acfcee95d9fbee",
            "value": 190
          }
        },
        "fcd7d39dcad046f48e63463b844ad4ea": {
          "model_module": "@jupyter-widgets/controls",
          "model_name": "HTMLModel",
          "model_module_version": "1.5.0",
          "state": {
            "_dom_classes": [],
            "_model_module": "@jupyter-widgets/controls",
            "_model_module_version": "1.5.0",
            "_model_name": "HTMLModel",
            "_view_count": null,
            "_view_module": "@jupyter-widgets/controls",
            "_view_module_version": "1.5.0",
            "_view_name": "HTMLView",
            "description": "",
            "description_tooltip": null,
            "layout": "IPY_MODEL_51b87fba444a4033a79f6b2b1436e1fa",
            "placeholder": "​",
            "style": "IPY_MODEL_fe89eb1bfc6c48a18cc90f351aa1bb8c",
            "value": " 190/190 [00:00&lt;00:00, 7.97kB/s]"
          }
        },
        "33202aa7803c4ba9bf9023195993d508": {
          "model_module": "@jupyter-widgets/base",
          "model_name": "LayoutModel",
          "model_module_version": "1.2.0",
          "state": {
            "_model_module": "@jupyter-widgets/base",
            "_model_module_version": "1.2.0",
            "_model_name": "LayoutModel",
            "_view_count": null,
            "_view_module": "@jupyter-widgets/base",
            "_view_module_version": "1.2.0",
            "_view_name": "LayoutView",
            "align_content": null,
            "align_items": null,
            "align_self": null,
            "border": null,
            "bottom": null,
            "display": null,
            "flex": null,
            "flex_flow": null,
            "grid_area": null,
            "grid_auto_columns": null,
            "grid_auto_flow": null,
            "grid_auto_rows": null,
            "grid_column": null,
            "grid_gap": null,
            "grid_row": null,
            "grid_template_areas": null,
            "grid_template_columns": null,
            "grid_template_rows": null,
            "height": null,
            "justify_content": null,
            "justify_items": null,
            "left": null,
            "margin": null,
            "max_height": null,
            "max_width": null,
            "min_height": null,
            "min_width": null,
            "object_fit": null,
            "object_position": null,
            "order": null,
            "overflow": null,
            "overflow_x": null,
            "overflow_y": null,
            "padding": null,
            "right": null,
            "top": null,
            "visibility": null,
            "width": null
          }
        },
        "38c73d49f0434435a705d5f95468116d": {
          "model_module": "@jupyter-widgets/base",
          "model_name": "LayoutModel",
          "model_module_version": "1.2.0",
          "state": {
            "_model_module": "@jupyter-widgets/base",
            "_model_module_version": "1.2.0",
            "_model_name": "LayoutModel",
            "_view_count": null,
            "_view_module": "@jupyter-widgets/base",
            "_view_module_version": "1.2.0",
            "_view_name": "LayoutView",
            "align_content": null,
            "align_items": null,
            "align_self": null,
            "border": null,
            "bottom": null,
            "display": null,
            "flex": null,
            "flex_flow": null,
            "grid_area": null,
            "grid_auto_columns": null,
            "grid_auto_flow": null,
            "grid_auto_rows": null,
            "grid_column": null,
            "grid_gap": null,
            "grid_row": null,
            "grid_template_areas": null,
            "grid_template_columns": null,
            "grid_template_rows": null,
            "height": null,
            "justify_content": null,
            "justify_items": null,
            "left": null,
            "margin": null,
            "max_height": null,
            "max_width": null,
            "min_height": null,
            "min_width": null,
            "object_fit": null,
            "object_position": null,
            "order": null,
            "overflow": null,
            "overflow_x": null,
            "overflow_y": null,
            "padding": null,
            "right": null,
            "top": null,
            "visibility": null,
            "width": null
          }
        },
        "0b5fc7b430374f17a51a69238b9121d0": {
          "model_module": "@jupyter-widgets/controls",
          "model_name": "DescriptionStyleModel",
          "model_module_version": "1.5.0",
          "state": {
            "_model_module": "@jupyter-widgets/controls",
            "_model_module_version": "1.5.0",
            "_model_name": "DescriptionStyleModel",
            "_view_count": null,
            "_view_module": "@jupyter-widgets/base",
            "_view_module_version": "1.2.0",
            "_view_name": "StyleView",
            "description_width": ""
          }
        },
        "e9a10a260c1d4a33a795a00244717064": {
          "model_module": "@jupyter-widgets/base",
          "model_name": "LayoutModel",
          "model_module_version": "1.2.0",
          "state": {
            "_model_module": "@jupyter-widgets/base",
            "_model_module_version": "1.2.0",
            "_model_name": "LayoutModel",
            "_view_count": null,
            "_view_module": "@jupyter-widgets/base",
            "_view_module_version": "1.2.0",
            "_view_name": "LayoutView",
            "align_content": null,
            "align_items": null,
            "align_self": null,
            "border": null,
            "bottom": null,
            "display": null,
            "flex": null,
            "flex_flow": null,
            "grid_area": null,
            "grid_auto_columns": null,
            "grid_auto_flow": null,
            "grid_auto_rows": null,
            "grid_column": null,
            "grid_gap": null,
            "grid_row": null,
            "grid_template_areas": null,
            "grid_template_columns": null,
            "grid_template_rows": null,
            "height": null,
            "justify_content": null,
            "justify_items": null,
            "left": null,
            "margin": null,
            "max_height": null,
            "max_width": null,
            "min_height": null,
            "min_width": null,
            "object_fit": null,
            "object_position": null,
            "order": null,
            "overflow": null,
            "overflow_x": null,
            "overflow_y": null,
            "padding": null,
            "right": null,
            "top": null,
            "visibility": null,
            "width": null
          }
        },
        "d61d8f1270a3425aa0acfcee95d9fbee": {
          "model_module": "@jupyter-widgets/controls",
          "model_name": "ProgressStyleModel",
          "model_module_version": "1.5.0",
          "state": {
            "_model_module": "@jupyter-widgets/controls",
            "_model_module_version": "1.5.0",
            "_model_name": "ProgressStyleModel",
            "_view_count": null,
            "_view_module": "@jupyter-widgets/base",
            "_view_module_version": "1.2.0",
            "_view_name": "StyleView",
            "bar_color": null,
            "description_width": ""
          }
        },
        "51b87fba444a4033a79f6b2b1436e1fa": {
          "model_module": "@jupyter-widgets/base",
          "model_name": "LayoutModel",
          "model_module_version": "1.2.0",
          "state": {
            "_model_module": "@jupyter-widgets/base",
            "_model_module_version": "1.2.0",
            "_model_name": "LayoutModel",
            "_view_count": null,
            "_view_module": "@jupyter-widgets/base",
            "_view_module_version": "1.2.0",
            "_view_name": "LayoutView",
            "align_content": null,
            "align_items": null,
            "align_self": null,
            "border": null,
            "bottom": null,
            "display": null,
            "flex": null,
            "flex_flow": null,
            "grid_area": null,
            "grid_auto_columns": null,
            "grid_auto_flow": null,
            "grid_auto_rows": null,
            "grid_column": null,
            "grid_gap": null,
            "grid_row": null,
            "grid_template_areas": null,
            "grid_template_columns": null,
            "grid_template_rows": null,
            "height": null,
            "justify_content": null,
            "justify_items": null,
            "left": null,
            "margin": null,
            "max_height": null,
            "max_width": null,
            "min_height": null,
            "min_width": null,
            "object_fit": null,
            "object_position": null,
            "order": null,
            "overflow": null,
            "overflow_x": null,
            "overflow_y": null,
            "padding": null,
            "right": null,
            "top": null,
            "visibility": null,
            "width": null
          }
        },
        "fe89eb1bfc6c48a18cc90f351aa1bb8c": {
          "model_module": "@jupyter-widgets/controls",
          "model_name": "DescriptionStyleModel",
          "model_module_version": "1.5.0",
          "state": {
            "_model_module": "@jupyter-widgets/controls",
            "_model_module_version": "1.5.0",
            "_model_name": "DescriptionStyleModel",
            "_view_count": null,
            "_view_module": "@jupyter-widgets/base",
            "_view_module_version": "1.2.0",
            "_view_name": "StyleView",
            "description_width": ""
          }
        },
        "825f5ed3f04d439ebd197d65dae56f56": {
          "model_module": "@jupyter-widgets/controls",
          "model_name": "HBoxModel",
          "model_module_version": "1.5.0",
          "state": {
            "_dom_classes": [],
            "_model_module": "@jupyter-widgets/controls",
            "_model_module_version": "1.5.0",
            "_model_name": "HBoxModel",
            "_view_count": null,
            "_view_module": "@jupyter-widgets/controls",
            "_view_module_version": "1.5.0",
            "_view_name": "HBoxView",
            "box_style": "",
            "children": [
              "IPY_MODEL_9ef5728239d64fe3bc9583c37128759d",
              "IPY_MODEL_046d70f681274fd59f44c6d108a1907d",
              "IPY_MODEL_8ef1f471b6df48c897440beff8fb80c9"
            ],
            "layout": "IPY_MODEL_791e8b99379b4c60af4ab3164ae2945c"
          }
        },
        "9ef5728239d64fe3bc9583c37128759d": {
          "model_module": "@jupyter-widgets/controls",
          "model_name": "HTMLModel",
          "model_module_version": "1.5.0",
          "state": {
            "_dom_classes": [],
            "_model_module": "@jupyter-widgets/controls",
            "_model_module_version": "1.5.0",
            "_model_name": "HTMLModel",
            "_view_count": null,
            "_view_module": "@jupyter-widgets/controls",
            "_view_module_version": "1.5.0",
            "_view_name": "HTMLView",
            "description": "",
            "description_tooltip": null,
            "layout": "IPY_MODEL_c3c1898f0324429e95439cb06457dfa9",
            "placeholder": "​",
            "style": "IPY_MODEL_e38e146967d844a9a6ba608259ee8bdc",
            "value": "Downloading (…)1a515925a9/README.md: 100%"
          }
        },
        "046d70f681274fd59f44c6d108a1907d": {
          "model_module": "@jupyter-widgets/controls",
          "model_name": "FloatProgressModel",
          "model_module_version": "1.5.0",
          "state": {
            "_dom_classes": [],
            "_model_module": "@jupyter-widgets/controls",
            "_model_module_version": "1.5.0",
            "_model_name": "FloatProgressModel",
            "_view_count": null,
            "_view_module": "@jupyter-widgets/controls",
            "_view_module_version": "1.5.0",
            "_view_name": "ProgressView",
            "bar_style": "success",
            "description": "",
            "description_tooltip": null,
            "layout": "IPY_MODEL_c5b027eb96b24455801732d4a8bfc48b",
            "max": 3988,
            "min": 0,
            "orientation": "horizontal",
            "style": "IPY_MODEL_cb8a8de28a034f74961e02d1807a75bc",
            "value": 3988
          }
        },
        "8ef1f471b6df48c897440beff8fb80c9": {
          "model_module": "@jupyter-widgets/controls",
          "model_name": "HTMLModel",
          "model_module_version": "1.5.0",
          "state": {
            "_dom_classes": [],
            "_model_module": "@jupyter-widgets/controls",
            "_model_module_version": "1.5.0",
            "_model_name": "HTMLModel",
            "_view_count": null,
            "_view_module": "@jupyter-widgets/controls",
            "_view_module_version": "1.5.0",
            "_view_name": "HTMLView",
            "description": "",
            "description_tooltip": null,
            "layout": "IPY_MODEL_ce304c02e1fe469db452f173ca584fbe",
            "placeholder": "​",
            "style": "IPY_MODEL_0c6fef867c054a969dfb553cffe6897d",
            "value": " 3.99k/3.99k [00:00&lt;00:00, 192kB/s]"
          }
        },
        "791e8b99379b4c60af4ab3164ae2945c": {
          "model_module": "@jupyter-widgets/base",
          "model_name": "LayoutModel",
          "model_module_version": "1.2.0",
          "state": {
            "_model_module": "@jupyter-widgets/base",
            "_model_module_version": "1.2.0",
            "_model_name": "LayoutModel",
            "_view_count": null,
            "_view_module": "@jupyter-widgets/base",
            "_view_module_version": "1.2.0",
            "_view_name": "LayoutView",
            "align_content": null,
            "align_items": null,
            "align_self": null,
            "border": null,
            "bottom": null,
            "display": null,
            "flex": null,
            "flex_flow": null,
            "grid_area": null,
            "grid_auto_columns": null,
            "grid_auto_flow": null,
            "grid_auto_rows": null,
            "grid_column": null,
            "grid_gap": null,
            "grid_row": null,
            "grid_template_areas": null,
            "grid_template_columns": null,
            "grid_template_rows": null,
            "height": null,
            "justify_content": null,
            "justify_items": null,
            "left": null,
            "margin": null,
            "max_height": null,
            "max_width": null,
            "min_height": null,
            "min_width": null,
            "object_fit": null,
            "object_position": null,
            "order": null,
            "overflow": null,
            "overflow_x": null,
            "overflow_y": null,
            "padding": null,
            "right": null,
            "top": null,
            "visibility": null,
            "width": null
          }
        },
        "c3c1898f0324429e95439cb06457dfa9": {
          "model_module": "@jupyter-widgets/base",
          "model_name": "LayoutModel",
          "model_module_version": "1.2.0",
          "state": {
            "_model_module": "@jupyter-widgets/base",
            "_model_module_version": "1.2.0",
            "_model_name": "LayoutModel",
            "_view_count": null,
            "_view_module": "@jupyter-widgets/base",
            "_view_module_version": "1.2.0",
            "_view_name": "LayoutView",
            "align_content": null,
            "align_items": null,
            "align_self": null,
            "border": null,
            "bottom": null,
            "display": null,
            "flex": null,
            "flex_flow": null,
            "grid_area": null,
            "grid_auto_columns": null,
            "grid_auto_flow": null,
            "grid_auto_rows": null,
            "grid_column": null,
            "grid_gap": null,
            "grid_row": null,
            "grid_template_areas": null,
            "grid_template_columns": null,
            "grid_template_rows": null,
            "height": null,
            "justify_content": null,
            "justify_items": null,
            "left": null,
            "margin": null,
            "max_height": null,
            "max_width": null,
            "min_height": null,
            "min_width": null,
            "object_fit": null,
            "object_position": null,
            "order": null,
            "overflow": null,
            "overflow_x": null,
            "overflow_y": null,
            "padding": null,
            "right": null,
            "top": null,
            "visibility": null,
            "width": null
          }
        },
        "e38e146967d844a9a6ba608259ee8bdc": {
          "model_module": "@jupyter-widgets/controls",
          "model_name": "DescriptionStyleModel",
          "model_module_version": "1.5.0",
          "state": {
            "_model_module": "@jupyter-widgets/controls",
            "_model_module_version": "1.5.0",
            "_model_name": "DescriptionStyleModel",
            "_view_count": null,
            "_view_module": "@jupyter-widgets/base",
            "_view_module_version": "1.2.0",
            "_view_name": "StyleView",
            "description_width": ""
          }
        },
        "c5b027eb96b24455801732d4a8bfc48b": {
          "model_module": "@jupyter-widgets/base",
          "model_name": "LayoutModel",
          "model_module_version": "1.2.0",
          "state": {
            "_model_module": "@jupyter-widgets/base",
            "_model_module_version": "1.2.0",
            "_model_name": "LayoutModel",
            "_view_count": null,
            "_view_module": "@jupyter-widgets/base",
            "_view_module_version": "1.2.0",
            "_view_name": "LayoutView",
            "align_content": null,
            "align_items": null,
            "align_self": null,
            "border": null,
            "bottom": null,
            "display": null,
            "flex": null,
            "flex_flow": null,
            "grid_area": null,
            "grid_auto_columns": null,
            "grid_auto_flow": null,
            "grid_auto_rows": null,
            "grid_column": null,
            "grid_gap": null,
            "grid_row": null,
            "grid_template_areas": null,
            "grid_template_columns": null,
            "grid_template_rows": null,
            "height": null,
            "justify_content": null,
            "justify_items": null,
            "left": null,
            "margin": null,
            "max_height": null,
            "max_width": null,
            "min_height": null,
            "min_width": null,
            "object_fit": null,
            "object_position": null,
            "order": null,
            "overflow": null,
            "overflow_x": null,
            "overflow_y": null,
            "padding": null,
            "right": null,
            "top": null,
            "visibility": null,
            "width": null
          }
        },
        "cb8a8de28a034f74961e02d1807a75bc": {
          "model_module": "@jupyter-widgets/controls",
          "model_name": "ProgressStyleModel",
          "model_module_version": "1.5.0",
          "state": {
            "_model_module": "@jupyter-widgets/controls",
            "_model_module_version": "1.5.0",
            "_model_name": "ProgressStyleModel",
            "_view_count": null,
            "_view_module": "@jupyter-widgets/base",
            "_view_module_version": "1.2.0",
            "_view_name": "StyleView",
            "bar_color": null,
            "description_width": ""
          }
        },
        "ce304c02e1fe469db452f173ca584fbe": {
          "model_module": "@jupyter-widgets/base",
          "model_name": "LayoutModel",
          "model_module_version": "1.2.0",
          "state": {
            "_model_module": "@jupyter-widgets/base",
            "_model_module_version": "1.2.0",
            "_model_name": "LayoutModel",
            "_view_count": null,
            "_view_module": "@jupyter-widgets/base",
            "_view_module_version": "1.2.0",
            "_view_name": "LayoutView",
            "align_content": null,
            "align_items": null,
            "align_self": null,
            "border": null,
            "bottom": null,
            "display": null,
            "flex": null,
            "flex_flow": null,
            "grid_area": null,
            "grid_auto_columns": null,
            "grid_auto_flow": null,
            "grid_auto_rows": null,
            "grid_column": null,
            "grid_gap": null,
            "grid_row": null,
            "grid_template_areas": null,
            "grid_template_columns": null,
            "grid_template_rows": null,
            "height": null,
            "justify_content": null,
            "justify_items": null,
            "left": null,
            "margin": null,
            "max_height": null,
            "max_width": null,
            "min_height": null,
            "min_width": null,
            "object_fit": null,
            "object_position": null,
            "order": null,
            "overflow": null,
            "overflow_x": null,
            "overflow_y": null,
            "padding": null,
            "right": null,
            "top": null,
            "visibility": null,
            "width": null
          }
        },
        "0c6fef867c054a969dfb553cffe6897d": {
          "model_module": "@jupyter-widgets/controls",
          "model_name": "DescriptionStyleModel",
          "model_module_version": "1.5.0",
          "state": {
            "_model_module": "@jupyter-widgets/controls",
            "_model_module_version": "1.5.0",
            "_model_name": "DescriptionStyleModel",
            "_view_count": null,
            "_view_module": "@jupyter-widgets/base",
            "_view_module_version": "1.2.0",
            "_view_name": "StyleView",
            "description_width": ""
          }
        },
        "f2ff5efcbb2943c2a9fbfce0f4155065": {
          "model_module": "@jupyter-widgets/controls",
          "model_name": "HBoxModel",
          "model_module_version": "1.5.0",
          "state": {
            "_dom_classes": [],
            "_model_module": "@jupyter-widgets/controls",
            "_model_module_version": "1.5.0",
            "_model_name": "HBoxModel",
            "_view_count": null,
            "_view_module": "@jupyter-widgets/controls",
            "_view_module_version": "1.5.0",
            "_view_name": "HBoxView",
            "box_style": "",
            "children": [
              "IPY_MODEL_5645ba438f4a4f29ad9dee4c36efeabb",
              "IPY_MODEL_36d8d413e7ff4394b656dda811ff2148",
              "IPY_MODEL_75b48b54b20249b584d52f19f1518f26"
            ],
            "layout": "IPY_MODEL_da67e54712864cc894642c340b3c842a"
          }
        },
        "5645ba438f4a4f29ad9dee4c36efeabb": {
          "model_module": "@jupyter-widgets/controls",
          "model_name": "HTMLModel",
          "model_module_version": "1.5.0",
          "state": {
            "_dom_classes": [],
            "_model_module": "@jupyter-widgets/controls",
            "_model_module_version": "1.5.0",
            "_model_name": "HTMLModel",
            "_view_count": null,
            "_view_module": "@jupyter-widgets/controls",
            "_view_module_version": "1.5.0",
            "_view_name": "HTMLView",
            "description": "",
            "description_tooltip": null,
            "layout": "IPY_MODEL_ae788cd8629a47de8f44e9c8bda7892d",
            "placeholder": "​",
            "style": "IPY_MODEL_8c4221fb053b4d8caeb31491c6bdc5c1",
            "value": "Downloading (…)515925a9/config.json: 100%"
          }
        },
        "36d8d413e7ff4394b656dda811ff2148": {
          "model_module": "@jupyter-widgets/controls",
          "model_name": "FloatProgressModel",
          "model_module_version": "1.5.0",
          "state": {
            "_dom_classes": [],
            "_model_module": "@jupyter-widgets/controls",
            "_model_module_version": "1.5.0",
            "_model_name": "FloatProgressModel",
            "_view_count": null,
            "_view_module": "@jupyter-widgets/controls",
            "_view_module_version": "1.5.0",
            "_view_name": "ProgressView",
            "bar_style": "success",
            "description": "",
            "description_tooltip": null,
            "layout": "IPY_MODEL_19bdac712cef44a5a3e26234e77f9878",
            "max": 550,
            "min": 0,
            "orientation": "horizontal",
            "style": "IPY_MODEL_7637db60723d4cbd94ceb74501a2537f",
            "value": 550
          }
        },
        "75b48b54b20249b584d52f19f1518f26": {
          "model_module": "@jupyter-widgets/controls",
          "model_name": "HTMLModel",
          "model_module_version": "1.5.0",
          "state": {
            "_dom_classes": [],
            "_model_module": "@jupyter-widgets/controls",
            "_model_module_version": "1.5.0",
            "_model_name": "HTMLModel",
            "_view_count": null,
            "_view_module": "@jupyter-widgets/controls",
            "_view_module_version": "1.5.0",
            "_view_name": "HTMLView",
            "description": "",
            "description_tooltip": null,
            "layout": "IPY_MODEL_5f37ad188cf74a4da7361823dd5c03ab",
            "placeholder": "​",
            "style": "IPY_MODEL_d7abab854b0f42d684570898e080163f",
            "value": " 550/550 [00:00&lt;00:00, 23.2kB/s]"
          }
        },
        "da67e54712864cc894642c340b3c842a": {
          "model_module": "@jupyter-widgets/base",
          "model_name": "LayoutModel",
          "model_module_version": "1.2.0",
          "state": {
            "_model_module": "@jupyter-widgets/base",
            "_model_module_version": "1.2.0",
            "_model_name": "LayoutModel",
            "_view_count": null,
            "_view_module": "@jupyter-widgets/base",
            "_view_module_version": "1.2.0",
            "_view_name": "LayoutView",
            "align_content": null,
            "align_items": null,
            "align_self": null,
            "border": null,
            "bottom": null,
            "display": null,
            "flex": null,
            "flex_flow": null,
            "grid_area": null,
            "grid_auto_columns": null,
            "grid_auto_flow": null,
            "grid_auto_rows": null,
            "grid_column": null,
            "grid_gap": null,
            "grid_row": null,
            "grid_template_areas": null,
            "grid_template_columns": null,
            "grid_template_rows": null,
            "height": null,
            "justify_content": null,
            "justify_items": null,
            "left": null,
            "margin": null,
            "max_height": null,
            "max_width": null,
            "min_height": null,
            "min_width": null,
            "object_fit": null,
            "object_position": null,
            "order": null,
            "overflow": null,
            "overflow_x": null,
            "overflow_y": null,
            "padding": null,
            "right": null,
            "top": null,
            "visibility": null,
            "width": null
          }
        },
        "ae788cd8629a47de8f44e9c8bda7892d": {
          "model_module": "@jupyter-widgets/base",
          "model_name": "LayoutModel",
          "model_module_version": "1.2.0",
          "state": {
            "_model_module": "@jupyter-widgets/base",
            "_model_module_version": "1.2.0",
            "_model_name": "LayoutModel",
            "_view_count": null,
            "_view_module": "@jupyter-widgets/base",
            "_view_module_version": "1.2.0",
            "_view_name": "LayoutView",
            "align_content": null,
            "align_items": null,
            "align_self": null,
            "border": null,
            "bottom": null,
            "display": null,
            "flex": null,
            "flex_flow": null,
            "grid_area": null,
            "grid_auto_columns": null,
            "grid_auto_flow": null,
            "grid_auto_rows": null,
            "grid_column": null,
            "grid_gap": null,
            "grid_row": null,
            "grid_template_areas": null,
            "grid_template_columns": null,
            "grid_template_rows": null,
            "height": null,
            "justify_content": null,
            "justify_items": null,
            "left": null,
            "margin": null,
            "max_height": null,
            "max_width": null,
            "min_height": null,
            "min_width": null,
            "object_fit": null,
            "object_position": null,
            "order": null,
            "overflow": null,
            "overflow_x": null,
            "overflow_y": null,
            "padding": null,
            "right": null,
            "top": null,
            "visibility": null,
            "width": null
          }
        },
        "8c4221fb053b4d8caeb31491c6bdc5c1": {
          "model_module": "@jupyter-widgets/controls",
          "model_name": "DescriptionStyleModel",
          "model_module_version": "1.5.0",
          "state": {
            "_model_module": "@jupyter-widgets/controls",
            "_model_module_version": "1.5.0",
            "_model_name": "DescriptionStyleModel",
            "_view_count": null,
            "_view_module": "@jupyter-widgets/base",
            "_view_module_version": "1.2.0",
            "_view_name": "StyleView",
            "description_width": ""
          }
        },
        "19bdac712cef44a5a3e26234e77f9878": {
          "model_module": "@jupyter-widgets/base",
          "model_name": "LayoutModel",
          "model_module_version": "1.2.0",
          "state": {
            "_model_module": "@jupyter-widgets/base",
            "_model_module_version": "1.2.0",
            "_model_name": "LayoutModel",
            "_view_count": null,
            "_view_module": "@jupyter-widgets/base",
            "_view_module_version": "1.2.0",
            "_view_name": "LayoutView",
            "align_content": null,
            "align_items": null,
            "align_self": null,
            "border": null,
            "bottom": null,
            "display": null,
            "flex": null,
            "flex_flow": null,
            "grid_area": null,
            "grid_auto_columns": null,
            "grid_auto_flow": null,
            "grid_auto_rows": null,
            "grid_column": null,
            "grid_gap": null,
            "grid_row": null,
            "grid_template_areas": null,
            "grid_template_columns": null,
            "grid_template_rows": null,
            "height": null,
            "justify_content": null,
            "justify_items": null,
            "left": null,
            "margin": null,
            "max_height": null,
            "max_width": null,
            "min_height": null,
            "min_width": null,
            "object_fit": null,
            "object_position": null,
            "order": null,
            "overflow": null,
            "overflow_x": null,
            "overflow_y": null,
            "padding": null,
            "right": null,
            "top": null,
            "visibility": null,
            "width": null
          }
        },
        "7637db60723d4cbd94ceb74501a2537f": {
          "model_module": "@jupyter-widgets/controls",
          "model_name": "ProgressStyleModel",
          "model_module_version": "1.5.0",
          "state": {
            "_model_module": "@jupyter-widgets/controls",
            "_model_module_version": "1.5.0",
            "_model_name": "ProgressStyleModel",
            "_view_count": null,
            "_view_module": "@jupyter-widgets/base",
            "_view_module_version": "1.2.0",
            "_view_name": "StyleView",
            "bar_color": null,
            "description_width": ""
          }
        },
        "5f37ad188cf74a4da7361823dd5c03ab": {
          "model_module": "@jupyter-widgets/base",
          "model_name": "LayoutModel",
          "model_module_version": "1.2.0",
          "state": {
            "_model_module": "@jupyter-widgets/base",
            "_model_module_version": "1.2.0",
            "_model_name": "LayoutModel",
            "_view_count": null,
            "_view_module": "@jupyter-widgets/base",
            "_view_module_version": "1.2.0",
            "_view_name": "LayoutView",
            "align_content": null,
            "align_items": null,
            "align_self": null,
            "border": null,
            "bottom": null,
            "display": null,
            "flex": null,
            "flex_flow": null,
            "grid_area": null,
            "grid_auto_columns": null,
            "grid_auto_flow": null,
            "grid_auto_rows": null,
            "grid_column": null,
            "grid_gap": null,
            "grid_row": null,
            "grid_template_areas": null,
            "grid_template_columns": null,
            "grid_template_rows": null,
            "height": null,
            "justify_content": null,
            "justify_items": null,
            "left": null,
            "margin": null,
            "max_height": null,
            "max_width": null,
            "min_height": null,
            "min_width": null,
            "object_fit": null,
            "object_position": null,
            "order": null,
            "overflow": null,
            "overflow_x": null,
            "overflow_y": null,
            "padding": null,
            "right": null,
            "top": null,
            "visibility": null,
            "width": null
          }
        },
        "d7abab854b0f42d684570898e080163f": {
          "model_module": "@jupyter-widgets/controls",
          "model_name": "DescriptionStyleModel",
          "model_module_version": "1.5.0",
          "state": {
            "_model_module": "@jupyter-widgets/controls",
            "_model_module_version": "1.5.0",
            "_model_name": "DescriptionStyleModel",
            "_view_count": null,
            "_view_module": "@jupyter-widgets/base",
            "_view_module_version": "1.2.0",
            "_view_name": "StyleView",
            "description_width": ""
          }
        },
        "faf566eaac1445c4abda4102e724df6c": {
          "model_module": "@jupyter-widgets/controls",
          "model_name": "HBoxModel",
          "model_module_version": "1.5.0",
          "state": {
            "_dom_classes": [],
            "_model_module": "@jupyter-widgets/controls",
            "_model_module_version": "1.5.0",
            "_model_name": "HBoxModel",
            "_view_count": null,
            "_view_module": "@jupyter-widgets/controls",
            "_view_module_version": "1.5.0",
            "_view_name": "HBoxView",
            "box_style": "",
            "children": [
              "IPY_MODEL_e37004eb939049a99b218f19b652d3ee",
              "IPY_MODEL_8763edd0ea6945bca6b1f9b7a840f845",
              "IPY_MODEL_12dc0c540435472d9e2ca19bdd7378d8"
            ],
            "layout": "IPY_MODEL_1f4eddddf7434c6d8ef44ec5f7e6200c"
          }
        },
        "e37004eb939049a99b218f19b652d3ee": {
          "model_module": "@jupyter-widgets/controls",
          "model_name": "HTMLModel",
          "model_module_version": "1.5.0",
          "state": {
            "_dom_classes": [],
            "_model_module": "@jupyter-widgets/controls",
            "_model_module_version": "1.5.0",
            "_model_name": "HTMLModel",
            "_view_count": null,
            "_view_module": "@jupyter-widgets/controls",
            "_view_module_version": "1.5.0",
            "_view_name": "HTMLView",
            "description": "",
            "description_tooltip": null,
            "layout": "IPY_MODEL_dd0f1331b0e442929f056424280e48b6",
            "placeholder": "​",
            "style": "IPY_MODEL_2e6eee6796304f30a751708dcef23fbc",
            "value": "Downloading (…)ce_transformers.json: 100%"
          }
        },
        "8763edd0ea6945bca6b1f9b7a840f845": {
          "model_module": "@jupyter-widgets/controls",
          "model_name": "FloatProgressModel",
          "model_module_version": "1.5.0",
          "state": {
            "_dom_classes": [],
            "_model_module": "@jupyter-widgets/controls",
            "_model_module_version": "1.5.0",
            "_model_name": "FloatProgressModel",
            "_view_count": null,
            "_view_module": "@jupyter-widgets/controls",
            "_view_module_version": "1.5.0",
            "_view_name": "ProgressView",
            "bar_style": "success",
            "description": "",
            "description_tooltip": null,
            "layout": "IPY_MODEL_de70e17704a54d5cb90aff4eec2f4e08",
            "max": 122,
            "min": 0,
            "orientation": "horizontal",
            "style": "IPY_MODEL_3d468f4ab08e48e3b16beced0ad9e3b2",
            "value": 122
          }
        },
        "12dc0c540435472d9e2ca19bdd7378d8": {
          "model_module": "@jupyter-widgets/controls",
          "model_name": "HTMLModel",
          "model_module_version": "1.5.0",
          "state": {
            "_dom_classes": [],
            "_model_module": "@jupyter-widgets/controls",
            "_model_module_version": "1.5.0",
            "_model_name": "HTMLModel",
            "_view_count": null,
            "_view_module": "@jupyter-widgets/controls",
            "_view_module_version": "1.5.0",
            "_view_name": "HTMLView",
            "description": "",
            "description_tooltip": null,
            "layout": "IPY_MODEL_3b71bd3aba574d8ea19cf34a79febde4",
            "placeholder": "​",
            "style": "IPY_MODEL_1266ce078e71440e8a4352c817cbf3f3",
            "value": " 122/122 [00:00&lt;00:00, 5.98kB/s]"
          }
        },
        "1f4eddddf7434c6d8ef44ec5f7e6200c": {
          "model_module": "@jupyter-widgets/base",
          "model_name": "LayoutModel",
          "model_module_version": "1.2.0",
          "state": {
            "_model_module": "@jupyter-widgets/base",
            "_model_module_version": "1.2.0",
            "_model_name": "LayoutModel",
            "_view_count": null,
            "_view_module": "@jupyter-widgets/base",
            "_view_module_version": "1.2.0",
            "_view_name": "LayoutView",
            "align_content": null,
            "align_items": null,
            "align_self": null,
            "border": null,
            "bottom": null,
            "display": null,
            "flex": null,
            "flex_flow": null,
            "grid_area": null,
            "grid_auto_columns": null,
            "grid_auto_flow": null,
            "grid_auto_rows": null,
            "grid_column": null,
            "grid_gap": null,
            "grid_row": null,
            "grid_template_areas": null,
            "grid_template_columns": null,
            "grid_template_rows": null,
            "height": null,
            "justify_content": null,
            "justify_items": null,
            "left": null,
            "margin": null,
            "max_height": null,
            "max_width": null,
            "min_height": null,
            "min_width": null,
            "object_fit": null,
            "object_position": null,
            "order": null,
            "overflow": null,
            "overflow_x": null,
            "overflow_y": null,
            "padding": null,
            "right": null,
            "top": null,
            "visibility": null,
            "width": null
          }
        },
        "dd0f1331b0e442929f056424280e48b6": {
          "model_module": "@jupyter-widgets/base",
          "model_name": "LayoutModel",
          "model_module_version": "1.2.0",
          "state": {
            "_model_module": "@jupyter-widgets/base",
            "_model_module_version": "1.2.0",
            "_model_name": "LayoutModel",
            "_view_count": null,
            "_view_module": "@jupyter-widgets/base",
            "_view_module_version": "1.2.0",
            "_view_name": "LayoutView",
            "align_content": null,
            "align_items": null,
            "align_self": null,
            "border": null,
            "bottom": null,
            "display": null,
            "flex": null,
            "flex_flow": null,
            "grid_area": null,
            "grid_auto_columns": null,
            "grid_auto_flow": null,
            "grid_auto_rows": null,
            "grid_column": null,
            "grid_gap": null,
            "grid_row": null,
            "grid_template_areas": null,
            "grid_template_columns": null,
            "grid_template_rows": null,
            "height": null,
            "justify_content": null,
            "justify_items": null,
            "left": null,
            "margin": null,
            "max_height": null,
            "max_width": null,
            "min_height": null,
            "min_width": null,
            "object_fit": null,
            "object_position": null,
            "order": null,
            "overflow": null,
            "overflow_x": null,
            "overflow_y": null,
            "padding": null,
            "right": null,
            "top": null,
            "visibility": null,
            "width": null
          }
        },
        "2e6eee6796304f30a751708dcef23fbc": {
          "model_module": "@jupyter-widgets/controls",
          "model_name": "DescriptionStyleModel",
          "model_module_version": "1.5.0",
          "state": {
            "_model_module": "@jupyter-widgets/controls",
            "_model_module_version": "1.5.0",
            "_model_name": "DescriptionStyleModel",
            "_view_count": null,
            "_view_module": "@jupyter-widgets/base",
            "_view_module_version": "1.2.0",
            "_view_name": "StyleView",
            "description_width": ""
          }
        },
        "de70e17704a54d5cb90aff4eec2f4e08": {
          "model_module": "@jupyter-widgets/base",
          "model_name": "LayoutModel",
          "model_module_version": "1.2.0",
          "state": {
            "_model_module": "@jupyter-widgets/base",
            "_model_module_version": "1.2.0",
            "_model_name": "LayoutModel",
            "_view_count": null,
            "_view_module": "@jupyter-widgets/base",
            "_view_module_version": "1.2.0",
            "_view_name": "LayoutView",
            "align_content": null,
            "align_items": null,
            "align_self": null,
            "border": null,
            "bottom": null,
            "display": null,
            "flex": null,
            "flex_flow": null,
            "grid_area": null,
            "grid_auto_columns": null,
            "grid_auto_flow": null,
            "grid_auto_rows": null,
            "grid_column": null,
            "grid_gap": null,
            "grid_row": null,
            "grid_template_areas": null,
            "grid_template_columns": null,
            "grid_template_rows": null,
            "height": null,
            "justify_content": null,
            "justify_items": null,
            "left": null,
            "margin": null,
            "max_height": null,
            "max_width": null,
            "min_height": null,
            "min_width": null,
            "object_fit": null,
            "object_position": null,
            "order": null,
            "overflow": null,
            "overflow_x": null,
            "overflow_y": null,
            "padding": null,
            "right": null,
            "top": null,
            "visibility": null,
            "width": null
          }
        },
        "3d468f4ab08e48e3b16beced0ad9e3b2": {
          "model_module": "@jupyter-widgets/controls",
          "model_name": "ProgressStyleModel",
          "model_module_version": "1.5.0",
          "state": {
            "_model_module": "@jupyter-widgets/controls",
            "_model_module_version": "1.5.0",
            "_model_name": "ProgressStyleModel",
            "_view_count": null,
            "_view_module": "@jupyter-widgets/base",
            "_view_module_version": "1.2.0",
            "_view_name": "StyleView",
            "bar_color": null,
            "description_width": ""
          }
        },
        "3b71bd3aba574d8ea19cf34a79febde4": {
          "model_module": "@jupyter-widgets/base",
          "model_name": "LayoutModel",
          "model_module_version": "1.2.0",
          "state": {
            "_model_module": "@jupyter-widgets/base",
            "_model_module_version": "1.2.0",
            "_model_name": "LayoutModel",
            "_view_count": null,
            "_view_module": "@jupyter-widgets/base",
            "_view_module_version": "1.2.0",
            "_view_name": "LayoutView",
            "align_content": null,
            "align_items": null,
            "align_self": null,
            "border": null,
            "bottom": null,
            "display": null,
            "flex": null,
            "flex_flow": null,
            "grid_area": null,
            "grid_auto_columns": null,
            "grid_auto_flow": null,
            "grid_auto_rows": null,
            "grid_column": null,
            "grid_gap": null,
            "grid_row": null,
            "grid_template_areas": null,
            "grid_template_columns": null,
            "grid_template_rows": null,
            "height": null,
            "justify_content": null,
            "justify_items": null,
            "left": null,
            "margin": null,
            "max_height": null,
            "max_width": null,
            "min_height": null,
            "min_width": null,
            "object_fit": null,
            "object_position": null,
            "order": null,
            "overflow": null,
            "overflow_x": null,
            "overflow_y": null,
            "padding": null,
            "right": null,
            "top": null,
            "visibility": null,
            "width": null
          }
        },
        "1266ce078e71440e8a4352c817cbf3f3": {
          "model_module": "@jupyter-widgets/controls",
          "model_name": "DescriptionStyleModel",
          "model_module_version": "1.5.0",
          "state": {
            "_model_module": "@jupyter-widgets/controls",
            "_model_module_version": "1.5.0",
            "_model_name": "DescriptionStyleModel",
            "_view_count": null,
            "_view_module": "@jupyter-widgets/base",
            "_view_module_version": "1.2.0",
            "_view_name": "StyleView",
            "description_width": ""
          }
        },
        "19f642ff4b834bdf92f605c0c2987f8b": {
          "model_module": "@jupyter-widgets/controls",
          "model_name": "HBoxModel",
          "model_module_version": "1.5.0",
          "state": {
            "_dom_classes": [],
            "_model_module": "@jupyter-widgets/controls",
            "_model_module_version": "1.5.0",
            "_model_name": "HBoxModel",
            "_view_count": null,
            "_view_module": "@jupyter-widgets/controls",
            "_view_module_version": "1.5.0",
            "_view_name": "HBoxView",
            "box_style": "",
            "children": [
              "IPY_MODEL_23ad875e46c5435f99c27df041295feb",
              "IPY_MODEL_59ba89a446344cf9b0f72f275ebe6386",
              "IPY_MODEL_48ce1068bb3b49a7b5745ac6d4c672f6"
            ],
            "layout": "IPY_MODEL_23ca4b67142041acb23c90854cbbd30b"
          }
        },
        "23ad875e46c5435f99c27df041295feb": {
          "model_module": "@jupyter-widgets/controls",
          "model_name": "HTMLModel",
          "model_module_version": "1.5.0",
          "state": {
            "_dom_classes": [],
            "_model_module": "@jupyter-widgets/controls",
            "_model_module_version": "1.5.0",
            "_model_name": "HTMLModel",
            "_view_count": null,
            "_view_module": "@jupyter-widgets/controls",
            "_view_module_version": "1.5.0",
            "_view_name": "HTMLView",
            "description": "",
            "description_tooltip": null,
            "layout": "IPY_MODEL_15fbe83955314a868af30a50f28941eb",
            "placeholder": "​",
            "style": "IPY_MODEL_00c1e5feaedc4e2caf8ead60921501fa",
            "value": "Downloading pytorch_model.bin: 100%"
          }
        },
        "59ba89a446344cf9b0f72f275ebe6386": {
          "model_module": "@jupyter-widgets/controls",
          "model_name": "FloatProgressModel",
          "model_module_version": "1.5.0",
          "state": {
            "_dom_classes": [],
            "_model_module": "@jupyter-widgets/controls",
            "_model_module_version": "1.5.0",
            "_model_name": "FloatProgressModel",
            "_view_count": null,
            "_view_module": "@jupyter-widgets/controls",
            "_view_module_version": "1.5.0",
            "_view_name": "ProgressView",
            "bar_style": "success",
            "description": "",
            "description_tooltip": null,
            "layout": "IPY_MODEL_51094710dd6446bdb89b2ebc5e6cafd3",
            "max": 265486777,
            "min": 0,
            "orientation": "horizontal",
            "style": "IPY_MODEL_bc84d8889bf0491b851d42d679e5fa86",
            "value": 265486777
          }
        },
        "48ce1068bb3b49a7b5745ac6d4c672f6": {
          "model_module": "@jupyter-widgets/controls",
          "model_name": "HTMLModel",
          "model_module_version": "1.5.0",
          "state": {
            "_dom_classes": [],
            "_model_module": "@jupyter-widgets/controls",
            "_model_module_version": "1.5.0",
            "_model_name": "HTMLModel",
            "_view_count": null,
            "_view_module": "@jupyter-widgets/controls",
            "_view_module_version": "1.5.0",
            "_view_name": "HTMLView",
            "description": "",
            "description_tooltip": null,
            "layout": "IPY_MODEL_8a61e6a1fce94327b7fb50e75c0d08c7",
            "placeholder": "​",
            "style": "IPY_MODEL_13bf8d921bb84b50a7a26ce8e05c402a",
            "value": " 265M/265M [00:03&lt;00:00, 74.1MB/s]"
          }
        },
        "23ca4b67142041acb23c90854cbbd30b": {
          "model_module": "@jupyter-widgets/base",
          "model_name": "LayoutModel",
          "model_module_version": "1.2.0",
          "state": {
            "_model_module": "@jupyter-widgets/base",
            "_model_module_version": "1.2.0",
            "_model_name": "LayoutModel",
            "_view_count": null,
            "_view_module": "@jupyter-widgets/base",
            "_view_module_version": "1.2.0",
            "_view_name": "LayoutView",
            "align_content": null,
            "align_items": null,
            "align_self": null,
            "border": null,
            "bottom": null,
            "display": null,
            "flex": null,
            "flex_flow": null,
            "grid_area": null,
            "grid_auto_columns": null,
            "grid_auto_flow": null,
            "grid_auto_rows": null,
            "grid_column": null,
            "grid_gap": null,
            "grid_row": null,
            "grid_template_areas": null,
            "grid_template_columns": null,
            "grid_template_rows": null,
            "height": null,
            "justify_content": null,
            "justify_items": null,
            "left": null,
            "margin": null,
            "max_height": null,
            "max_width": null,
            "min_height": null,
            "min_width": null,
            "object_fit": null,
            "object_position": null,
            "order": null,
            "overflow": null,
            "overflow_x": null,
            "overflow_y": null,
            "padding": null,
            "right": null,
            "top": null,
            "visibility": null,
            "width": null
          }
        },
        "15fbe83955314a868af30a50f28941eb": {
          "model_module": "@jupyter-widgets/base",
          "model_name": "LayoutModel",
          "model_module_version": "1.2.0",
          "state": {
            "_model_module": "@jupyter-widgets/base",
            "_model_module_version": "1.2.0",
            "_model_name": "LayoutModel",
            "_view_count": null,
            "_view_module": "@jupyter-widgets/base",
            "_view_module_version": "1.2.0",
            "_view_name": "LayoutView",
            "align_content": null,
            "align_items": null,
            "align_self": null,
            "border": null,
            "bottom": null,
            "display": null,
            "flex": null,
            "flex_flow": null,
            "grid_area": null,
            "grid_auto_columns": null,
            "grid_auto_flow": null,
            "grid_auto_rows": null,
            "grid_column": null,
            "grid_gap": null,
            "grid_row": null,
            "grid_template_areas": null,
            "grid_template_columns": null,
            "grid_template_rows": null,
            "height": null,
            "justify_content": null,
            "justify_items": null,
            "left": null,
            "margin": null,
            "max_height": null,
            "max_width": null,
            "min_height": null,
            "min_width": null,
            "object_fit": null,
            "object_position": null,
            "order": null,
            "overflow": null,
            "overflow_x": null,
            "overflow_y": null,
            "padding": null,
            "right": null,
            "top": null,
            "visibility": null,
            "width": null
          }
        },
        "00c1e5feaedc4e2caf8ead60921501fa": {
          "model_module": "@jupyter-widgets/controls",
          "model_name": "DescriptionStyleModel",
          "model_module_version": "1.5.0",
          "state": {
            "_model_module": "@jupyter-widgets/controls",
            "_model_module_version": "1.5.0",
            "_model_name": "DescriptionStyleModel",
            "_view_count": null,
            "_view_module": "@jupyter-widgets/base",
            "_view_module_version": "1.2.0",
            "_view_name": "StyleView",
            "description_width": ""
          }
        },
        "51094710dd6446bdb89b2ebc5e6cafd3": {
          "model_module": "@jupyter-widgets/base",
          "model_name": "LayoutModel",
          "model_module_version": "1.2.0",
          "state": {
            "_model_module": "@jupyter-widgets/base",
            "_model_module_version": "1.2.0",
            "_model_name": "LayoutModel",
            "_view_count": null,
            "_view_module": "@jupyter-widgets/base",
            "_view_module_version": "1.2.0",
            "_view_name": "LayoutView",
            "align_content": null,
            "align_items": null,
            "align_self": null,
            "border": null,
            "bottom": null,
            "display": null,
            "flex": null,
            "flex_flow": null,
            "grid_area": null,
            "grid_auto_columns": null,
            "grid_auto_flow": null,
            "grid_auto_rows": null,
            "grid_column": null,
            "grid_gap": null,
            "grid_row": null,
            "grid_template_areas": null,
            "grid_template_columns": null,
            "grid_template_rows": null,
            "height": null,
            "justify_content": null,
            "justify_items": null,
            "left": null,
            "margin": null,
            "max_height": null,
            "max_width": null,
            "min_height": null,
            "min_width": null,
            "object_fit": null,
            "object_position": null,
            "order": null,
            "overflow": null,
            "overflow_x": null,
            "overflow_y": null,
            "padding": null,
            "right": null,
            "top": null,
            "visibility": null,
            "width": null
          }
        },
        "bc84d8889bf0491b851d42d679e5fa86": {
          "model_module": "@jupyter-widgets/controls",
          "model_name": "ProgressStyleModel",
          "model_module_version": "1.5.0",
          "state": {
            "_model_module": "@jupyter-widgets/controls",
            "_model_module_version": "1.5.0",
            "_model_name": "ProgressStyleModel",
            "_view_count": null,
            "_view_module": "@jupyter-widgets/base",
            "_view_module_version": "1.2.0",
            "_view_name": "StyleView",
            "bar_color": null,
            "description_width": ""
          }
        },
        "8a61e6a1fce94327b7fb50e75c0d08c7": {
          "model_module": "@jupyter-widgets/base",
          "model_name": "LayoutModel",
          "model_module_version": "1.2.0",
          "state": {
            "_model_module": "@jupyter-widgets/base",
            "_model_module_version": "1.2.0",
            "_model_name": "LayoutModel",
            "_view_count": null,
            "_view_module": "@jupyter-widgets/base",
            "_view_module_version": "1.2.0",
            "_view_name": "LayoutView",
            "align_content": null,
            "align_items": null,
            "align_self": null,
            "border": null,
            "bottom": null,
            "display": null,
            "flex": null,
            "flex_flow": null,
            "grid_area": null,
            "grid_auto_columns": null,
            "grid_auto_flow": null,
            "grid_auto_rows": null,
            "grid_column": null,
            "grid_gap": null,
            "grid_row": null,
            "grid_template_areas": null,
            "grid_template_columns": null,
            "grid_template_rows": null,
            "height": null,
            "justify_content": null,
            "justify_items": null,
            "left": null,
            "margin": null,
            "max_height": null,
            "max_width": null,
            "min_height": null,
            "min_width": null,
            "object_fit": null,
            "object_position": null,
            "order": null,
            "overflow": null,
            "overflow_x": null,
            "overflow_y": null,
            "padding": null,
            "right": null,
            "top": null,
            "visibility": null,
            "width": null
          }
        },
        "13bf8d921bb84b50a7a26ce8e05c402a": {
          "model_module": "@jupyter-widgets/controls",
          "model_name": "DescriptionStyleModel",
          "model_module_version": "1.5.0",
          "state": {
            "_model_module": "@jupyter-widgets/controls",
            "_model_module_version": "1.5.0",
            "_model_name": "DescriptionStyleModel",
            "_view_count": null,
            "_view_module": "@jupyter-widgets/base",
            "_view_module_version": "1.2.0",
            "_view_name": "StyleView",
            "description_width": ""
          }
        },
        "8727a5f895464436a53c334d19992f47": {
          "model_module": "@jupyter-widgets/controls",
          "model_name": "HBoxModel",
          "model_module_version": "1.5.0",
          "state": {
            "_dom_classes": [],
            "_model_module": "@jupyter-widgets/controls",
            "_model_module_version": "1.5.0",
            "_model_name": "HBoxModel",
            "_view_count": null,
            "_view_module": "@jupyter-widgets/controls",
            "_view_module_version": "1.5.0",
            "_view_name": "HBoxView",
            "box_style": "",
            "children": [
              "IPY_MODEL_87a49bdacf234e5ea41dfe420777f74e",
              "IPY_MODEL_204f2dc8ab8746c3af267c86377ddcc6",
              "IPY_MODEL_65f32c8ac97746bf8bc5d30a26888778"
            ],
            "layout": "IPY_MODEL_40e50b2345dd4eec96f947d05b761fb0"
          }
        },
        "87a49bdacf234e5ea41dfe420777f74e": {
          "model_module": "@jupyter-widgets/controls",
          "model_name": "HTMLModel",
          "model_module_version": "1.5.0",
          "state": {
            "_dom_classes": [],
            "_model_module": "@jupyter-widgets/controls",
            "_model_module_version": "1.5.0",
            "_model_name": "HTMLModel",
            "_view_count": null,
            "_view_module": "@jupyter-widgets/controls",
            "_view_module_version": "1.5.0",
            "_view_name": "HTMLView",
            "description": "",
            "description_tooltip": null,
            "layout": "IPY_MODEL_be755f182b2c4cc986095dd5430dae1b",
            "placeholder": "​",
            "style": "IPY_MODEL_14fc7493d05647739086ad3670274ce1",
            "value": "Downloading (…)nce_bert_config.json: 100%"
          }
        },
        "204f2dc8ab8746c3af267c86377ddcc6": {
          "model_module": "@jupyter-widgets/controls",
          "model_name": "FloatProgressModel",
          "model_module_version": "1.5.0",
          "state": {
            "_dom_classes": [],
            "_model_module": "@jupyter-widgets/controls",
            "_model_module_version": "1.5.0",
            "_model_name": "FloatProgressModel",
            "_view_count": null,
            "_view_module": "@jupyter-widgets/controls",
            "_view_module_version": "1.5.0",
            "_view_name": "ProgressView",
            "bar_style": "success",
            "description": "",
            "description_tooltip": null,
            "layout": "IPY_MODEL_e7ad0dd5a1f54779bfc96e7d7222e004",
            "max": 53,
            "min": 0,
            "orientation": "horizontal",
            "style": "IPY_MODEL_2e772cff53664615b9ef743cad270e9c",
            "value": 53
          }
        },
        "65f32c8ac97746bf8bc5d30a26888778": {
          "model_module": "@jupyter-widgets/controls",
          "model_name": "HTMLModel",
          "model_module_version": "1.5.0",
          "state": {
            "_dom_classes": [],
            "_model_module": "@jupyter-widgets/controls",
            "_model_module_version": "1.5.0",
            "_model_name": "HTMLModel",
            "_view_count": null,
            "_view_module": "@jupyter-widgets/controls",
            "_view_module_version": "1.5.0",
            "_view_name": "HTMLView",
            "description": "",
            "description_tooltip": null,
            "layout": "IPY_MODEL_d5b88a0c8fae4471963adfd1d1a839bd",
            "placeholder": "​",
            "style": "IPY_MODEL_7642f518850946b8a2061da18f029e3f",
            "value": " 53.0/53.0 [00:00&lt;00:00, 1.92kB/s]"
          }
        },
        "40e50b2345dd4eec96f947d05b761fb0": {
          "model_module": "@jupyter-widgets/base",
          "model_name": "LayoutModel",
          "model_module_version": "1.2.0",
          "state": {
            "_model_module": "@jupyter-widgets/base",
            "_model_module_version": "1.2.0",
            "_model_name": "LayoutModel",
            "_view_count": null,
            "_view_module": "@jupyter-widgets/base",
            "_view_module_version": "1.2.0",
            "_view_name": "LayoutView",
            "align_content": null,
            "align_items": null,
            "align_self": null,
            "border": null,
            "bottom": null,
            "display": null,
            "flex": null,
            "flex_flow": null,
            "grid_area": null,
            "grid_auto_columns": null,
            "grid_auto_flow": null,
            "grid_auto_rows": null,
            "grid_column": null,
            "grid_gap": null,
            "grid_row": null,
            "grid_template_areas": null,
            "grid_template_columns": null,
            "grid_template_rows": null,
            "height": null,
            "justify_content": null,
            "justify_items": null,
            "left": null,
            "margin": null,
            "max_height": null,
            "max_width": null,
            "min_height": null,
            "min_width": null,
            "object_fit": null,
            "object_position": null,
            "order": null,
            "overflow": null,
            "overflow_x": null,
            "overflow_y": null,
            "padding": null,
            "right": null,
            "top": null,
            "visibility": null,
            "width": null
          }
        },
        "be755f182b2c4cc986095dd5430dae1b": {
          "model_module": "@jupyter-widgets/base",
          "model_name": "LayoutModel",
          "model_module_version": "1.2.0",
          "state": {
            "_model_module": "@jupyter-widgets/base",
            "_model_module_version": "1.2.0",
            "_model_name": "LayoutModel",
            "_view_count": null,
            "_view_module": "@jupyter-widgets/base",
            "_view_module_version": "1.2.0",
            "_view_name": "LayoutView",
            "align_content": null,
            "align_items": null,
            "align_self": null,
            "border": null,
            "bottom": null,
            "display": null,
            "flex": null,
            "flex_flow": null,
            "grid_area": null,
            "grid_auto_columns": null,
            "grid_auto_flow": null,
            "grid_auto_rows": null,
            "grid_column": null,
            "grid_gap": null,
            "grid_row": null,
            "grid_template_areas": null,
            "grid_template_columns": null,
            "grid_template_rows": null,
            "height": null,
            "justify_content": null,
            "justify_items": null,
            "left": null,
            "margin": null,
            "max_height": null,
            "max_width": null,
            "min_height": null,
            "min_width": null,
            "object_fit": null,
            "object_position": null,
            "order": null,
            "overflow": null,
            "overflow_x": null,
            "overflow_y": null,
            "padding": null,
            "right": null,
            "top": null,
            "visibility": null,
            "width": null
          }
        },
        "14fc7493d05647739086ad3670274ce1": {
          "model_module": "@jupyter-widgets/controls",
          "model_name": "DescriptionStyleModel",
          "model_module_version": "1.5.0",
          "state": {
            "_model_module": "@jupyter-widgets/controls",
            "_model_module_version": "1.5.0",
            "_model_name": "DescriptionStyleModel",
            "_view_count": null,
            "_view_module": "@jupyter-widgets/base",
            "_view_module_version": "1.2.0",
            "_view_name": "StyleView",
            "description_width": ""
          }
        },
        "e7ad0dd5a1f54779bfc96e7d7222e004": {
          "model_module": "@jupyter-widgets/base",
          "model_name": "LayoutModel",
          "model_module_version": "1.2.0",
          "state": {
            "_model_module": "@jupyter-widgets/base",
            "_model_module_version": "1.2.0",
            "_model_name": "LayoutModel",
            "_view_count": null,
            "_view_module": "@jupyter-widgets/base",
            "_view_module_version": "1.2.0",
            "_view_name": "LayoutView",
            "align_content": null,
            "align_items": null,
            "align_self": null,
            "border": null,
            "bottom": null,
            "display": null,
            "flex": null,
            "flex_flow": null,
            "grid_area": null,
            "grid_auto_columns": null,
            "grid_auto_flow": null,
            "grid_auto_rows": null,
            "grid_column": null,
            "grid_gap": null,
            "grid_row": null,
            "grid_template_areas": null,
            "grid_template_columns": null,
            "grid_template_rows": null,
            "height": null,
            "justify_content": null,
            "justify_items": null,
            "left": null,
            "margin": null,
            "max_height": null,
            "max_width": null,
            "min_height": null,
            "min_width": null,
            "object_fit": null,
            "object_position": null,
            "order": null,
            "overflow": null,
            "overflow_x": null,
            "overflow_y": null,
            "padding": null,
            "right": null,
            "top": null,
            "visibility": null,
            "width": null
          }
        },
        "2e772cff53664615b9ef743cad270e9c": {
          "model_module": "@jupyter-widgets/controls",
          "model_name": "ProgressStyleModel",
          "model_module_version": "1.5.0",
          "state": {
            "_model_module": "@jupyter-widgets/controls",
            "_model_module_version": "1.5.0",
            "_model_name": "ProgressStyleModel",
            "_view_count": null,
            "_view_module": "@jupyter-widgets/base",
            "_view_module_version": "1.2.0",
            "_view_name": "StyleView",
            "bar_color": null,
            "description_width": ""
          }
        },
        "d5b88a0c8fae4471963adfd1d1a839bd": {
          "model_module": "@jupyter-widgets/base",
          "model_name": "LayoutModel",
          "model_module_version": "1.2.0",
          "state": {
            "_model_module": "@jupyter-widgets/base",
            "_model_module_version": "1.2.0",
            "_model_name": "LayoutModel",
            "_view_count": null,
            "_view_module": "@jupyter-widgets/base",
            "_view_module_version": "1.2.0",
            "_view_name": "LayoutView",
            "align_content": null,
            "align_items": null,
            "align_self": null,
            "border": null,
            "bottom": null,
            "display": null,
            "flex": null,
            "flex_flow": null,
            "grid_area": null,
            "grid_auto_columns": null,
            "grid_auto_flow": null,
            "grid_auto_rows": null,
            "grid_column": null,
            "grid_gap": null,
            "grid_row": null,
            "grid_template_areas": null,
            "grid_template_columns": null,
            "grid_template_rows": null,
            "height": null,
            "justify_content": null,
            "justify_items": null,
            "left": null,
            "margin": null,
            "max_height": null,
            "max_width": null,
            "min_height": null,
            "min_width": null,
            "object_fit": null,
            "object_position": null,
            "order": null,
            "overflow": null,
            "overflow_x": null,
            "overflow_y": null,
            "padding": null,
            "right": null,
            "top": null,
            "visibility": null,
            "width": null
          }
        },
        "7642f518850946b8a2061da18f029e3f": {
          "model_module": "@jupyter-widgets/controls",
          "model_name": "DescriptionStyleModel",
          "model_module_version": "1.5.0",
          "state": {
            "_model_module": "@jupyter-widgets/controls",
            "_model_module_version": "1.5.0",
            "_model_name": "DescriptionStyleModel",
            "_view_count": null,
            "_view_module": "@jupyter-widgets/base",
            "_view_module_version": "1.2.0",
            "_view_name": "StyleView",
            "description_width": ""
          }
        },
        "f23c6a95aca64b8287d60b2eb4098fd3": {
          "model_module": "@jupyter-widgets/controls",
          "model_name": "HBoxModel",
          "model_module_version": "1.5.0",
          "state": {
            "_dom_classes": [],
            "_model_module": "@jupyter-widgets/controls",
            "_model_module_version": "1.5.0",
            "_model_name": "HBoxModel",
            "_view_count": null,
            "_view_module": "@jupyter-widgets/controls",
            "_view_module_version": "1.5.0",
            "_view_name": "HBoxView",
            "box_style": "",
            "children": [
              "IPY_MODEL_a997c86eb77645809a6e7448d4bc84cc",
              "IPY_MODEL_7825b83e7018402eb938c2cc759033f0",
              "IPY_MODEL_49dd925512b245c58cd35f14f4251cb0"
            ],
            "layout": "IPY_MODEL_71549577abf941a7b24b67d248723098"
          }
        },
        "a997c86eb77645809a6e7448d4bc84cc": {
          "model_module": "@jupyter-widgets/controls",
          "model_name": "HTMLModel",
          "model_module_version": "1.5.0",
          "state": {
            "_dom_classes": [],
            "_model_module": "@jupyter-widgets/controls",
            "_model_module_version": "1.5.0",
            "_model_name": "HTMLModel",
            "_view_count": null,
            "_view_module": "@jupyter-widgets/controls",
            "_view_module_version": "1.5.0",
            "_view_name": "HTMLView",
            "description": "",
            "description_tooltip": null,
            "layout": "IPY_MODEL_aba34cf3e0924004b2a1355dd3d57b7a",
            "placeholder": "​",
            "style": "IPY_MODEL_04ccf0807ed140989a0308311c0d411f",
            "value": "Downloading (…)cial_tokens_map.json: 100%"
          }
        },
        "7825b83e7018402eb938c2cc759033f0": {
          "model_module": "@jupyter-widgets/controls",
          "model_name": "FloatProgressModel",
          "model_module_version": "1.5.0",
          "state": {
            "_dom_classes": [],
            "_model_module": "@jupyter-widgets/controls",
            "_model_module_version": "1.5.0",
            "_model_name": "FloatProgressModel",
            "_view_count": null,
            "_view_module": "@jupyter-widgets/controls",
            "_view_module_version": "1.5.0",
            "_view_name": "ProgressView",
            "bar_style": "success",
            "description": "",
            "description_tooltip": null,
            "layout": "IPY_MODEL_d099d44a6bf34d6e9d3ab3a624c45626",
            "max": 112,
            "min": 0,
            "orientation": "horizontal",
            "style": "IPY_MODEL_d48a19ca907e4d2c876795189a407c07",
            "value": 112
          }
        },
        "49dd925512b245c58cd35f14f4251cb0": {
          "model_module": "@jupyter-widgets/controls",
          "model_name": "HTMLModel",
          "model_module_version": "1.5.0",
          "state": {
            "_dom_classes": [],
            "_model_module": "@jupyter-widgets/controls",
            "_model_module_version": "1.5.0",
            "_model_name": "HTMLModel",
            "_view_count": null,
            "_view_module": "@jupyter-widgets/controls",
            "_view_module_version": "1.5.0",
            "_view_name": "HTMLView",
            "description": "",
            "description_tooltip": null,
            "layout": "IPY_MODEL_aefb3021d5774f1bae3e33cd23d4da75",
            "placeholder": "​",
            "style": "IPY_MODEL_dd56550bb85f4b9e9696d9ed734a70aa",
            "value": " 112/112 [00:00&lt;00:00, 4.93kB/s]"
          }
        },
        "71549577abf941a7b24b67d248723098": {
          "model_module": "@jupyter-widgets/base",
          "model_name": "LayoutModel",
          "model_module_version": "1.2.0",
          "state": {
            "_model_module": "@jupyter-widgets/base",
            "_model_module_version": "1.2.0",
            "_model_name": "LayoutModel",
            "_view_count": null,
            "_view_module": "@jupyter-widgets/base",
            "_view_module_version": "1.2.0",
            "_view_name": "LayoutView",
            "align_content": null,
            "align_items": null,
            "align_self": null,
            "border": null,
            "bottom": null,
            "display": null,
            "flex": null,
            "flex_flow": null,
            "grid_area": null,
            "grid_auto_columns": null,
            "grid_auto_flow": null,
            "grid_auto_rows": null,
            "grid_column": null,
            "grid_gap": null,
            "grid_row": null,
            "grid_template_areas": null,
            "grid_template_columns": null,
            "grid_template_rows": null,
            "height": null,
            "justify_content": null,
            "justify_items": null,
            "left": null,
            "margin": null,
            "max_height": null,
            "max_width": null,
            "min_height": null,
            "min_width": null,
            "object_fit": null,
            "object_position": null,
            "order": null,
            "overflow": null,
            "overflow_x": null,
            "overflow_y": null,
            "padding": null,
            "right": null,
            "top": null,
            "visibility": null,
            "width": null
          }
        },
        "aba34cf3e0924004b2a1355dd3d57b7a": {
          "model_module": "@jupyter-widgets/base",
          "model_name": "LayoutModel",
          "model_module_version": "1.2.0",
          "state": {
            "_model_module": "@jupyter-widgets/base",
            "_model_module_version": "1.2.0",
            "_model_name": "LayoutModel",
            "_view_count": null,
            "_view_module": "@jupyter-widgets/base",
            "_view_module_version": "1.2.0",
            "_view_name": "LayoutView",
            "align_content": null,
            "align_items": null,
            "align_self": null,
            "border": null,
            "bottom": null,
            "display": null,
            "flex": null,
            "flex_flow": null,
            "grid_area": null,
            "grid_auto_columns": null,
            "grid_auto_flow": null,
            "grid_auto_rows": null,
            "grid_column": null,
            "grid_gap": null,
            "grid_row": null,
            "grid_template_areas": null,
            "grid_template_columns": null,
            "grid_template_rows": null,
            "height": null,
            "justify_content": null,
            "justify_items": null,
            "left": null,
            "margin": null,
            "max_height": null,
            "max_width": null,
            "min_height": null,
            "min_width": null,
            "object_fit": null,
            "object_position": null,
            "order": null,
            "overflow": null,
            "overflow_x": null,
            "overflow_y": null,
            "padding": null,
            "right": null,
            "top": null,
            "visibility": null,
            "width": null
          }
        },
        "04ccf0807ed140989a0308311c0d411f": {
          "model_module": "@jupyter-widgets/controls",
          "model_name": "DescriptionStyleModel",
          "model_module_version": "1.5.0",
          "state": {
            "_model_module": "@jupyter-widgets/controls",
            "_model_module_version": "1.5.0",
            "_model_name": "DescriptionStyleModel",
            "_view_count": null,
            "_view_module": "@jupyter-widgets/base",
            "_view_module_version": "1.2.0",
            "_view_name": "StyleView",
            "description_width": ""
          }
        },
        "d099d44a6bf34d6e9d3ab3a624c45626": {
          "model_module": "@jupyter-widgets/base",
          "model_name": "LayoutModel",
          "model_module_version": "1.2.0",
          "state": {
            "_model_module": "@jupyter-widgets/base",
            "_model_module_version": "1.2.0",
            "_model_name": "LayoutModel",
            "_view_count": null,
            "_view_module": "@jupyter-widgets/base",
            "_view_module_version": "1.2.0",
            "_view_name": "LayoutView",
            "align_content": null,
            "align_items": null,
            "align_self": null,
            "border": null,
            "bottom": null,
            "display": null,
            "flex": null,
            "flex_flow": null,
            "grid_area": null,
            "grid_auto_columns": null,
            "grid_auto_flow": null,
            "grid_auto_rows": null,
            "grid_column": null,
            "grid_gap": null,
            "grid_row": null,
            "grid_template_areas": null,
            "grid_template_columns": null,
            "grid_template_rows": null,
            "height": null,
            "justify_content": null,
            "justify_items": null,
            "left": null,
            "margin": null,
            "max_height": null,
            "max_width": null,
            "min_height": null,
            "min_width": null,
            "object_fit": null,
            "object_position": null,
            "order": null,
            "overflow": null,
            "overflow_x": null,
            "overflow_y": null,
            "padding": null,
            "right": null,
            "top": null,
            "visibility": null,
            "width": null
          }
        },
        "d48a19ca907e4d2c876795189a407c07": {
          "model_module": "@jupyter-widgets/controls",
          "model_name": "ProgressStyleModel",
          "model_module_version": "1.5.0",
          "state": {
            "_model_module": "@jupyter-widgets/controls",
            "_model_module_version": "1.5.0",
            "_model_name": "ProgressStyleModel",
            "_view_count": null,
            "_view_module": "@jupyter-widgets/base",
            "_view_module_version": "1.2.0",
            "_view_name": "StyleView",
            "bar_color": null,
            "description_width": ""
          }
        },
        "aefb3021d5774f1bae3e33cd23d4da75": {
          "model_module": "@jupyter-widgets/base",
          "model_name": "LayoutModel",
          "model_module_version": "1.2.0",
          "state": {
            "_model_module": "@jupyter-widgets/base",
            "_model_module_version": "1.2.0",
            "_model_name": "LayoutModel",
            "_view_count": null,
            "_view_module": "@jupyter-widgets/base",
            "_view_module_version": "1.2.0",
            "_view_name": "LayoutView",
            "align_content": null,
            "align_items": null,
            "align_self": null,
            "border": null,
            "bottom": null,
            "display": null,
            "flex": null,
            "flex_flow": null,
            "grid_area": null,
            "grid_auto_columns": null,
            "grid_auto_flow": null,
            "grid_auto_rows": null,
            "grid_column": null,
            "grid_gap": null,
            "grid_row": null,
            "grid_template_areas": null,
            "grid_template_columns": null,
            "grid_template_rows": null,
            "height": null,
            "justify_content": null,
            "justify_items": null,
            "left": null,
            "margin": null,
            "max_height": null,
            "max_width": null,
            "min_height": null,
            "min_width": null,
            "object_fit": null,
            "object_position": null,
            "order": null,
            "overflow": null,
            "overflow_x": null,
            "overflow_y": null,
            "padding": null,
            "right": null,
            "top": null,
            "visibility": null,
            "width": null
          }
        },
        "dd56550bb85f4b9e9696d9ed734a70aa": {
          "model_module": "@jupyter-widgets/controls",
          "model_name": "DescriptionStyleModel",
          "model_module_version": "1.5.0",
          "state": {
            "_model_module": "@jupyter-widgets/controls",
            "_model_module_version": "1.5.0",
            "_model_name": "DescriptionStyleModel",
            "_view_count": null,
            "_view_module": "@jupyter-widgets/base",
            "_view_module_version": "1.2.0",
            "_view_name": "StyleView",
            "description_width": ""
          }
        },
        "cd7de25643f44cc3b03f1142a1a6a55e": {
          "model_module": "@jupyter-widgets/controls",
          "model_name": "HBoxModel",
          "model_module_version": "1.5.0",
          "state": {
            "_dom_classes": [],
            "_model_module": "@jupyter-widgets/controls",
            "_model_module_version": "1.5.0",
            "_model_name": "HBoxModel",
            "_view_count": null,
            "_view_module": "@jupyter-widgets/controls",
            "_view_module_version": "1.5.0",
            "_view_name": "HBoxView",
            "box_style": "",
            "children": [
              "IPY_MODEL_4ea65cb0f17a4120b98a16d72f8fd439",
              "IPY_MODEL_298f273a80254208b99626b6ada245bb",
              "IPY_MODEL_d8b085ba4ee84be99b6a018e571900a2"
            ],
            "layout": "IPY_MODEL_7330a8b15bc14b319bc5c68bbce88c1a"
          }
        },
        "4ea65cb0f17a4120b98a16d72f8fd439": {
          "model_module": "@jupyter-widgets/controls",
          "model_name": "HTMLModel",
          "model_module_version": "1.5.0",
          "state": {
            "_dom_classes": [],
            "_model_module": "@jupyter-widgets/controls",
            "_model_module_version": "1.5.0",
            "_model_name": "HTMLModel",
            "_view_count": null,
            "_view_module": "@jupyter-widgets/controls",
            "_view_module_version": "1.5.0",
            "_view_name": "HTMLView",
            "description": "",
            "description_tooltip": null,
            "layout": "IPY_MODEL_e5f982404e324e448ce5a775ebbf7e40",
            "placeholder": "​",
            "style": "IPY_MODEL_17aa688f8cec4e41a4e540cbae8d3da0",
            "value": "Downloading (…)925a9/tokenizer.json: 100%"
          }
        },
        "298f273a80254208b99626b6ada245bb": {
          "model_module": "@jupyter-widgets/controls",
          "model_name": "FloatProgressModel",
          "model_module_version": "1.5.0",
          "state": {
            "_dom_classes": [],
            "_model_module": "@jupyter-widgets/controls",
            "_model_module_version": "1.5.0",
            "_model_name": "FloatProgressModel",
            "_view_count": null,
            "_view_module": "@jupyter-widgets/controls",
            "_view_module_version": "1.5.0",
            "_view_name": "ProgressView",
            "bar_style": "success",
            "description": "",
            "description_tooltip": null,
            "layout": "IPY_MODEL_a91291a6c10d40ca9c4ca5088fdd1ffd",
            "max": 466081,
            "min": 0,
            "orientation": "horizontal",
            "style": "IPY_MODEL_448be32fe2ba4585a26a5576d85f2489",
            "value": 466081
          }
        },
        "d8b085ba4ee84be99b6a018e571900a2": {
          "model_module": "@jupyter-widgets/controls",
          "model_name": "HTMLModel",
          "model_module_version": "1.5.0",
          "state": {
            "_dom_classes": [],
            "_model_module": "@jupyter-widgets/controls",
            "_model_module_version": "1.5.0",
            "_model_name": "HTMLModel",
            "_view_count": null,
            "_view_module": "@jupyter-widgets/controls",
            "_view_module_version": "1.5.0",
            "_view_name": "HTMLView",
            "description": "",
            "description_tooltip": null,
            "layout": "IPY_MODEL_26698a459caf411c9509f2fba4fe8e98",
            "placeholder": "​",
            "style": "IPY_MODEL_6a9e78f4aaaf4241b254b8007a8218a5",
            "value": " 466k/466k [00:00&lt;00:00, 1.24MB/s]"
          }
        },
        "7330a8b15bc14b319bc5c68bbce88c1a": {
          "model_module": "@jupyter-widgets/base",
          "model_name": "LayoutModel",
          "model_module_version": "1.2.0",
          "state": {
            "_model_module": "@jupyter-widgets/base",
            "_model_module_version": "1.2.0",
            "_model_name": "LayoutModel",
            "_view_count": null,
            "_view_module": "@jupyter-widgets/base",
            "_view_module_version": "1.2.0",
            "_view_name": "LayoutView",
            "align_content": null,
            "align_items": null,
            "align_self": null,
            "border": null,
            "bottom": null,
            "display": null,
            "flex": null,
            "flex_flow": null,
            "grid_area": null,
            "grid_auto_columns": null,
            "grid_auto_flow": null,
            "grid_auto_rows": null,
            "grid_column": null,
            "grid_gap": null,
            "grid_row": null,
            "grid_template_areas": null,
            "grid_template_columns": null,
            "grid_template_rows": null,
            "height": null,
            "justify_content": null,
            "justify_items": null,
            "left": null,
            "margin": null,
            "max_height": null,
            "max_width": null,
            "min_height": null,
            "min_width": null,
            "object_fit": null,
            "object_position": null,
            "order": null,
            "overflow": null,
            "overflow_x": null,
            "overflow_y": null,
            "padding": null,
            "right": null,
            "top": null,
            "visibility": null,
            "width": null
          }
        },
        "e5f982404e324e448ce5a775ebbf7e40": {
          "model_module": "@jupyter-widgets/base",
          "model_name": "LayoutModel",
          "model_module_version": "1.2.0",
          "state": {
            "_model_module": "@jupyter-widgets/base",
            "_model_module_version": "1.2.0",
            "_model_name": "LayoutModel",
            "_view_count": null,
            "_view_module": "@jupyter-widgets/base",
            "_view_module_version": "1.2.0",
            "_view_name": "LayoutView",
            "align_content": null,
            "align_items": null,
            "align_self": null,
            "border": null,
            "bottom": null,
            "display": null,
            "flex": null,
            "flex_flow": null,
            "grid_area": null,
            "grid_auto_columns": null,
            "grid_auto_flow": null,
            "grid_auto_rows": null,
            "grid_column": null,
            "grid_gap": null,
            "grid_row": null,
            "grid_template_areas": null,
            "grid_template_columns": null,
            "grid_template_rows": null,
            "height": null,
            "justify_content": null,
            "justify_items": null,
            "left": null,
            "margin": null,
            "max_height": null,
            "max_width": null,
            "min_height": null,
            "min_width": null,
            "object_fit": null,
            "object_position": null,
            "order": null,
            "overflow": null,
            "overflow_x": null,
            "overflow_y": null,
            "padding": null,
            "right": null,
            "top": null,
            "visibility": null,
            "width": null
          }
        },
        "17aa688f8cec4e41a4e540cbae8d3da0": {
          "model_module": "@jupyter-widgets/controls",
          "model_name": "DescriptionStyleModel",
          "model_module_version": "1.5.0",
          "state": {
            "_model_module": "@jupyter-widgets/controls",
            "_model_module_version": "1.5.0",
            "_model_name": "DescriptionStyleModel",
            "_view_count": null,
            "_view_module": "@jupyter-widgets/base",
            "_view_module_version": "1.2.0",
            "_view_name": "StyleView",
            "description_width": ""
          }
        },
        "a91291a6c10d40ca9c4ca5088fdd1ffd": {
          "model_module": "@jupyter-widgets/base",
          "model_name": "LayoutModel",
          "model_module_version": "1.2.0",
          "state": {
            "_model_module": "@jupyter-widgets/base",
            "_model_module_version": "1.2.0",
            "_model_name": "LayoutModel",
            "_view_count": null,
            "_view_module": "@jupyter-widgets/base",
            "_view_module_version": "1.2.0",
            "_view_name": "LayoutView",
            "align_content": null,
            "align_items": null,
            "align_self": null,
            "border": null,
            "bottom": null,
            "display": null,
            "flex": null,
            "flex_flow": null,
            "grid_area": null,
            "grid_auto_columns": null,
            "grid_auto_flow": null,
            "grid_auto_rows": null,
            "grid_column": null,
            "grid_gap": null,
            "grid_row": null,
            "grid_template_areas": null,
            "grid_template_columns": null,
            "grid_template_rows": null,
            "height": null,
            "justify_content": null,
            "justify_items": null,
            "left": null,
            "margin": null,
            "max_height": null,
            "max_width": null,
            "min_height": null,
            "min_width": null,
            "object_fit": null,
            "object_position": null,
            "order": null,
            "overflow": null,
            "overflow_x": null,
            "overflow_y": null,
            "padding": null,
            "right": null,
            "top": null,
            "visibility": null,
            "width": null
          }
        },
        "448be32fe2ba4585a26a5576d85f2489": {
          "model_module": "@jupyter-widgets/controls",
          "model_name": "ProgressStyleModel",
          "model_module_version": "1.5.0",
          "state": {
            "_model_module": "@jupyter-widgets/controls",
            "_model_module_version": "1.5.0",
            "_model_name": "ProgressStyleModel",
            "_view_count": null,
            "_view_module": "@jupyter-widgets/base",
            "_view_module_version": "1.2.0",
            "_view_name": "StyleView",
            "bar_color": null,
            "description_width": ""
          }
        },
        "26698a459caf411c9509f2fba4fe8e98": {
          "model_module": "@jupyter-widgets/base",
          "model_name": "LayoutModel",
          "model_module_version": "1.2.0",
          "state": {
            "_model_module": "@jupyter-widgets/base",
            "_model_module_version": "1.2.0",
            "_model_name": "LayoutModel",
            "_view_count": null,
            "_view_module": "@jupyter-widgets/base",
            "_view_module_version": "1.2.0",
            "_view_name": "LayoutView",
            "align_content": null,
            "align_items": null,
            "align_self": null,
            "border": null,
            "bottom": null,
            "display": null,
            "flex": null,
            "flex_flow": null,
            "grid_area": null,
            "grid_auto_columns": null,
            "grid_auto_flow": null,
            "grid_auto_rows": null,
            "grid_column": null,
            "grid_gap": null,
            "grid_row": null,
            "grid_template_areas": null,
            "grid_template_columns": null,
            "grid_template_rows": null,
            "height": null,
            "justify_content": null,
            "justify_items": null,
            "left": null,
            "margin": null,
            "max_height": null,
            "max_width": null,
            "min_height": null,
            "min_width": null,
            "object_fit": null,
            "object_position": null,
            "order": null,
            "overflow": null,
            "overflow_x": null,
            "overflow_y": null,
            "padding": null,
            "right": null,
            "top": null,
            "visibility": null,
            "width": null
          }
        },
        "6a9e78f4aaaf4241b254b8007a8218a5": {
          "model_module": "@jupyter-widgets/controls",
          "model_name": "DescriptionStyleModel",
          "model_module_version": "1.5.0",
          "state": {
            "_model_module": "@jupyter-widgets/controls",
            "_model_module_version": "1.5.0",
            "_model_name": "DescriptionStyleModel",
            "_view_count": null,
            "_view_module": "@jupyter-widgets/base",
            "_view_module_version": "1.2.0",
            "_view_name": "StyleView",
            "description_width": ""
          }
        },
        "a4d5d5762c4e4c5c9041286fc30590c8": {
          "model_module": "@jupyter-widgets/controls",
          "model_name": "HBoxModel",
          "model_module_version": "1.5.0",
          "state": {
            "_dom_classes": [],
            "_model_module": "@jupyter-widgets/controls",
            "_model_module_version": "1.5.0",
            "_model_name": "HBoxModel",
            "_view_count": null,
            "_view_module": "@jupyter-widgets/controls",
            "_view_module_version": "1.5.0",
            "_view_name": "HBoxView",
            "box_style": "",
            "children": [
              "IPY_MODEL_f5abdb870bc6487ba082371e442786fd",
              "IPY_MODEL_78cc14bc3a934edfae2f6b122bb10c5c",
              "IPY_MODEL_0a662c4b47894e4796caf2c837183e7a"
            ],
            "layout": "IPY_MODEL_61fa06ecac8d4514ba33f38ce828db2a"
          }
        },
        "f5abdb870bc6487ba082371e442786fd": {
          "model_module": "@jupyter-widgets/controls",
          "model_name": "HTMLModel",
          "model_module_version": "1.5.0",
          "state": {
            "_dom_classes": [],
            "_model_module": "@jupyter-widgets/controls",
            "_model_module_version": "1.5.0",
            "_model_name": "HTMLModel",
            "_view_count": null,
            "_view_module": "@jupyter-widgets/controls",
            "_view_module_version": "1.5.0",
            "_view_name": "HTMLView",
            "description": "",
            "description_tooltip": null,
            "layout": "IPY_MODEL_2ebb92e22fe24f2b8eeec513ab8fb6fc",
            "placeholder": "​",
            "style": "IPY_MODEL_c61c83e5558a42a3bbd32304121ae964",
            "value": "Downloading (…)okenizer_config.json: 100%"
          }
        },
        "78cc14bc3a934edfae2f6b122bb10c5c": {
          "model_module": "@jupyter-widgets/controls",
          "model_name": "FloatProgressModel",
          "model_module_version": "1.5.0",
          "state": {
            "_dom_classes": [],
            "_model_module": "@jupyter-widgets/controls",
            "_model_module_version": "1.5.0",
            "_model_name": "FloatProgressModel",
            "_view_count": null,
            "_view_module": "@jupyter-widgets/controls",
            "_view_module_version": "1.5.0",
            "_view_name": "ProgressView",
            "bar_style": "success",
            "description": "",
            "description_tooltip": null,
            "layout": "IPY_MODEL_c61a437ebdc945f8a51df63e31fe299c",
            "max": 450,
            "min": 0,
            "orientation": "horizontal",
            "style": "IPY_MODEL_08cc0b0b9afa43068801b6a0ad4d2e98",
            "value": 450
          }
        },
        "0a662c4b47894e4796caf2c837183e7a": {
          "model_module": "@jupyter-widgets/controls",
          "model_name": "HTMLModel",
          "model_module_version": "1.5.0",
          "state": {
            "_dom_classes": [],
            "_model_module": "@jupyter-widgets/controls",
            "_model_module_version": "1.5.0",
            "_model_name": "HTMLModel",
            "_view_count": null,
            "_view_module": "@jupyter-widgets/controls",
            "_view_module_version": "1.5.0",
            "_view_name": "HTMLView",
            "description": "",
            "description_tooltip": null,
            "layout": "IPY_MODEL_ce4d150f5ed64d3c80a8a766d64117f0",
            "placeholder": "​",
            "style": "IPY_MODEL_fd2714fce16e4de0b7bbc41d4cb20358",
            "value": " 450/450 [00:00&lt;00:00, 18.0kB/s]"
          }
        },
        "61fa06ecac8d4514ba33f38ce828db2a": {
          "model_module": "@jupyter-widgets/base",
          "model_name": "LayoutModel",
          "model_module_version": "1.2.0",
          "state": {
            "_model_module": "@jupyter-widgets/base",
            "_model_module_version": "1.2.0",
            "_model_name": "LayoutModel",
            "_view_count": null,
            "_view_module": "@jupyter-widgets/base",
            "_view_module_version": "1.2.0",
            "_view_name": "LayoutView",
            "align_content": null,
            "align_items": null,
            "align_self": null,
            "border": null,
            "bottom": null,
            "display": null,
            "flex": null,
            "flex_flow": null,
            "grid_area": null,
            "grid_auto_columns": null,
            "grid_auto_flow": null,
            "grid_auto_rows": null,
            "grid_column": null,
            "grid_gap": null,
            "grid_row": null,
            "grid_template_areas": null,
            "grid_template_columns": null,
            "grid_template_rows": null,
            "height": null,
            "justify_content": null,
            "justify_items": null,
            "left": null,
            "margin": null,
            "max_height": null,
            "max_width": null,
            "min_height": null,
            "min_width": null,
            "object_fit": null,
            "object_position": null,
            "order": null,
            "overflow": null,
            "overflow_x": null,
            "overflow_y": null,
            "padding": null,
            "right": null,
            "top": null,
            "visibility": null,
            "width": null
          }
        },
        "2ebb92e22fe24f2b8eeec513ab8fb6fc": {
          "model_module": "@jupyter-widgets/base",
          "model_name": "LayoutModel",
          "model_module_version": "1.2.0",
          "state": {
            "_model_module": "@jupyter-widgets/base",
            "_model_module_version": "1.2.0",
            "_model_name": "LayoutModel",
            "_view_count": null,
            "_view_module": "@jupyter-widgets/base",
            "_view_module_version": "1.2.0",
            "_view_name": "LayoutView",
            "align_content": null,
            "align_items": null,
            "align_self": null,
            "border": null,
            "bottom": null,
            "display": null,
            "flex": null,
            "flex_flow": null,
            "grid_area": null,
            "grid_auto_columns": null,
            "grid_auto_flow": null,
            "grid_auto_rows": null,
            "grid_column": null,
            "grid_gap": null,
            "grid_row": null,
            "grid_template_areas": null,
            "grid_template_columns": null,
            "grid_template_rows": null,
            "height": null,
            "justify_content": null,
            "justify_items": null,
            "left": null,
            "margin": null,
            "max_height": null,
            "max_width": null,
            "min_height": null,
            "min_width": null,
            "object_fit": null,
            "object_position": null,
            "order": null,
            "overflow": null,
            "overflow_x": null,
            "overflow_y": null,
            "padding": null,
            "right": null,
            "top": null,
            "visibility": null,
            "width": null
          }
        },
        "c61c83e5558a42a3bbd32304121ae964": {
          "model_module": "@jupyter-widgets/controls",
          "model_name": "DescriptionStyleModel",
          "model_module_version": "1.5.0",
          "state": {
            "_model_module": "@jupyter-widgets/controls",
            "_model_module_version": "1.5.0",
            "_model_name": "DescriptionStyleModel",
            "_view_count": null,
            "_view_module": "@jupyter-widgets/base",
            "_view_module_version": "1.2.0",
            "_view_name": "StyleView",
            "description_width": ""
          }
        },
        "c61a437ebdc945f8a51df63e31fe299c": {
          "model_module": "@jupyter-widgets/base",
          "model_name": "LayoutModel",
          "model_module_version": "1.2.0",
          "state": {
            "_model_module": "@jupyter-widgets/base",
            "_model_module_version": "1.2.0",
            "_model_name": "LayoutModel",
            "_view_count": null,
            "_view_module": "@jupyter-widgets/base",
            "_view_module_version": "1.2.0",
            "_view_name": "LayoutView",
            "align_content": null,
            "align_items": null,
            "align_self": null,
            "border": null,
            "bottom": null,
            "display": null,
            "flex": null,
            "flex_flow": null,
            "grid_area": null,
            "grid_auto_columns": null,
            "grid_auto_flow": null,
            "grid_auto_rows": null,
            "grid_column": null,
            "grid_gap": null,
            "grid_row": null,
            "grid_template_areas": null,
            "grid_template_columns": null,
            "grid_template_rows": null,
            "height": null,
            "justify_content": null,
            "justify_items": null,
            "left": null,
            "margin": null,
            "max_height": null,
            "max_width": null,
            "min_height": null,
            "min_width": null,
            "object_fit": null,
            "object_position": null,
            "order": null,
            "overflow": null,
            "overflow_x": null,
            "overflow_y": null,
            "padding": null,
            "right": null,
            "top": null,
            "visibility": null,
            "width": null
          }
        },
        "08cc0b0b9afa43068801b6a0ad4d2e98": {
          "model_module": "@jupyter-widgets/controls",
          "model_name": "ProgressStyleModel",
          "model_module_version": "1.5.0",
          "state": {
            "_model_module": "@jupyter-widgets/controls",
            "_model_module_version": "1.5.0",
            "_model_name": "ProgressStyleModel",
            "_view_count": null,
            "_view_module": "@jupyter-widgets/base",
            "_view_module_version": "1.2.0",
            "_view_name": "StyleView",
            "bar_color": null,
            "description_width": ""
          }
        },
        "ce4d150f5ed64d3c80a8a766d64117f0": {
          "model_module": "@jupyter-widgets/base",
          "model_name": "LayoutModel",
          "model_module_version": "1.2.0",
          "state": {
            "_model_module": "@jupyter-widgets/base",
            "_model_module_version": "1.2.0",
            "_model_name": "LayoutModel",
            "_view_count": null,
            "_view_module": "@jupyter-widgets/base",
            "_view_module_version": "1.2.0",
            "_view_name": "LayoutView",
            "align_content": null,
            "align_items": null,
            "align_self": null,
            "border": null,
            "bottom": null,
            "display": null,
            "flex": null,
            "flex_flow": null,
            "grid_area": null,
            "grid_auto_columns": null,
            "grid_auto_flow": null,
            "grid_auto_rows": null,
            "grid_column": null,
            "grid_gap": null,
            "grid_row": null,
            "grid_template_areas": null,
            "grid_template_columns": null,
            "grid_template_rows": null,
            "height": null,
            "justify_content": null,
            "justify_items": null,
            "left": null,
            "margin": null,
            "max_height": null,
            "max_width": null,
            "min_height": null,
            "min_width": null,
            "object_fit": null,
            "object_position": null,
            "order": null,
            "overflow": null,
            "overflow_x": null,
            "overflow_y": null,
            "padding": null,
            "right": null,
            "top": null,
            "visibility": null,
            "width": null
          }
        },
        "fd2714fce16e4de0b7bbc41d4cb20358": {
          "model_module": "@jupyter-widgets/controls",
          "model_name": "DescriptionStyleModel",
          "model_module_version": "1.5.0",
          "state": {
            "_model_module": "@jupyter-widgets/controls",
            "_model_module_version": "1.5.0",
            "_model_name": "DescriptionStyleModel",
            "_view_count": null,
            "_view_module": "@jupyter-widgets/base",
            "_view_module_version": "1.2.0",
            "_view_name": "StyleView",
            "description_width": ""
          }
        },
        "84e88f2314c84456b53b4f73b6673096": {
          "model_module": "@jupyter-widgets/controls",
          "model_name": "HBoxModel",
          "model_module_version": "1.5.0",
          "state": {
            "_dom_classes": [],
            "_model_module": "@jupyter-widgets/controls",
            "_model_module_version": "1.5.0",
            "_model_name": "HBoxModel",
            "_view_count": null,
            "_view_module": "@jupyter-widgets/controls",
            "_view_module_version": "1.5.0",
            "_view_name": "HBoxView",
            "box_style": "",
            "children": [
              "IPY_MODEL_9725a265dfdf4f3e9fd80b3e593839d8",
              "IPY_MODEL_a1f6146935904976842c8afdfde51183",
              "IPY_MODEL_7b125a592a1549abb08928824ebdd6b3"
            ],
            "layout": "IPY_MODEL_cf979c2fc0c645a094a71b4483a2880b"
          }
        },
        "9725a265dfdf4f3e9fd80b3e593839d8": {
          "model_module": "@jupyter-widgets/controls",
          "model_name": "HTMLModel",
          "model_module_version": "1.5.0",
          "state": {
            "_dom_classes": [],
            "_model_module": "@jupyter-widgets/controls",
            "_model_module_version": "1.5.0",
            "_model_name": "HTMLModel",
            "_view_count": null,
            "_view_module": "@jupyter-widgets/controls",
            "_view_module_version": "1.5.0",
            "_view_name": "HTMLView",
            "description": "",
            "description_tooltip": null,
            "layout": "IPY_MODEL_4214a77dde214e4191c43e736545a35e",
            "placeholder": "​",
            "style": "IPY_MODEL_1b571051a8ac46d7ad7aa8331bc2f620",
            "value": "Downloading (…)1a515925a9/vocab.txt: 100%"
          }
        },
        "a1f6146935904976842c8afdfde51183": {
          "model_module": "@jupyter-widgets/controls",
          "model_name": "FloatProgressModel",
          "model_module_version": "1.5.0",
          "state": {
            "_dom_classes": [],
            "_model_module": "@jupyter-widgets/controls",
            "_model_module_version": "1.5.0",
            "_model_name": "FloatProgressModel",
            "_view_count": null,
            "_view_module": "@jupyter-widgets/controls",
            "_view_module_version": "1.5.0",
            "_view_name": "ProgressView",
            "bar_style": "success",
            "description": "",
            "description_tooltip": null,
            "layout": "IPY_MODEL_7da3852b9258428aa0229136870e15e9",
            "max": 231508,
            "min": 0,
            "orientation": "horizontal",
            "style": "IPY_MODEL_824835b7126e493ea3a9c9bda0585ac6",
            "value": 231508
          }
        },
        "7b125a592a1549abb08928824ebdd6b3": {
          "model_module": "@jupyter-widgets/controls",
          "model_name": "HTMLModel",
          "model_module_version": "1.5.0",
          "state": {
            "_dom_classes": [],
            "_model_module": "@jupyter-widgets/controls",
            "_model_module_version": "1.5.0",
            "_model_name": "HTMLModel",
            "_view_count": null,
            "_view_module": "@jupyter-widgets/controls",
            "_view_module_version": "1.5.0",
            "_view_name": "HTMLView",
            "description": "",
            "description_tooltip": null,
            "layout": "IPY_MODEL_b0ece305d0d745e894bb5f880e68a146",
            "placeholder": "​",
            "style": "IPY_MODEL_fa9bad5b03a5413782b1f6c0ff291f20",
            "value": " 232k/232k [00:00&lt;00:00, 921kB/s]"
          }
        },
        "cf979c2fc0c645a094a71b4483a2880b": {
          "model_module": "@jupyter-widgets/base",
          "model_name": "LayoutModel",
          "model_module_version": "1.2.0",
          "state": {
            "_model_module": "@jupyter-widgets/base",
            "_model_module_version": "1.2.0",
            "_model_name": "LayoutModel",
            "_view_count": null,
            "_view_module": "@jupyter-widgets/base",
            "_view_module_version": "1.2.0",
            "_view_name": "LayoutView",
            "align_content": null,
            "align_items": null,
            "align_self": null,
            "border": null,
            "bottom": null,
            "display": null,
            "flex": null,
            "flex_flow": null,
            "grid_area": null,
            "grid_auto_columns": null,
            "grid_auto_flow": null,
            "grid_auto_rows": null,
            "grid_column": null,
            "grid_gap": null,
            "grid_row": null,
            "grid_template_areas": null,
            "grid_template_columns": null,
            "grid_template_rows": null,
            "height": null,
            "justify_content": null,
            "justify_items": null,
            "left": null,
            "margin": null,
            "max_height": null,
            "max_width": null,
            "min_height": null,
            "min_width": null,
            "object_fit": null,
            "object_position": null,
            "order": null,
            "overflow": null,
            "overflow_x": null,
            "overflow_y": null,
            "padding": null,
            "right": null,
            "top": null,
            "visibility": null,
            "width": null
          }
        },
        "4214a77dde214e4191c43e736545a35e": {
          "model_module": "@jupyter-widgets/base",
          "model_name": "LayoutModel",
          "model_module_version": "1.2.0",
          "state": {
            "_model_module": "@jupyter-widgets/base",
            "_model_module_version": "1.2.0",
            "_model_name": "LayoutModel",
            "_view_count": null,
            "_view_module": "@jupyter-widgets/base",
            "_view_module_version": "1.2.0",
            "_view_name": "LayoutView",
            "align_content": null,
            "align_items": null,
            "align_self": null,
            "border": null,
            "bottom": null,
            "display": null,
            "flex": null,
            "flex_flow": null,
            "grid_area": null,
            "grid_auto_columns": null,
            "grid_auto_flow": null,
            "grid_auto_rows": null,
            "grid_column": null,
            "grid_gap": null,
            "grid_row": null,
            "grid_template_areas": null,
            "grid_template_columns": null,
            "grid_template_rows": null,
            "height": null,
            "justify_content": null,
            "justify_items": null,
            "left": null,
            "margin": null,
            "max_height": null,
            "max_width": null,
            "min_height": null,
            "min_width": null,
            "object_fit": null,
            "object_position": null,
            "order": null,
            "overflow": null,
            "overflow_x": null,
            "overflow_y": null,
            "padding": null,
            "right": null,
            "top": null,
            "visibility": null,
            "width": null
          }
        },
        "1b571051a8ac46d7ad7aa8331bc2f620": {
          "model_module": "@jupyter-widgets/controls",
          "model_name": "DescriptionStyleModel",
          "model_module_version": "1.5.0",
          "state": {
            "_model_module": "@jupyter-widgets/controls",
            "_model_module_version": "1.5.0",
            "_model_name": "DescriptionStyleModel",
            "_view_count": null,
            "_view_module": "@jupyter-widgets/base",
            "_view_module_version": "1.2.0",
            "_view_name": "StyleView",
            "description_width": ""
          }
        },
        "7da3852b9258428aa0229136870e15e9": {
          "model_module": "@jupyter-widgets/base",
          "model_name": "LayoutModel",
          "model_module_version": "1.2.0",
          "state": {
            "_model_module": "@jupyter-widgets/base",
            "_model_module_version": "1.2.0",
            "_model_name": "LayoutModel",
            "_view_count": null,
            "_view_module": "@jupyter-widgets/base",
            "_view_module_version": "1.2.0",
            "_view_name": "LayoutView",
            "align_content": null,
            "align_items": null,
            "align_self": null,
            "border": null,
            "bottom": null,
            "display": null,
            "flex": null,
            "flex_flow": null,
            "grid_area": null,
            "grid_auto_columns": null,
            "grid_auto_flow": null,
            "grid_auto_rows": null,
            "grid_column": null,
            "grid_gap": null,
            "grid_row": null,
            "grid_template_areas": null,
            "grid_template_columns": null,
            "grid_template_rows": null,
            "height": null,
            "justify_content": null,
            "justify_items": null,
            "left": null,
            "margin": null,
            "max_height": null,
            "max_width": null,
            "min_height": null,
            "min_width": null,
            "object_fit": null,
            "object_position": null,
            "order": null,
            "overflow": null,
            "overflow_x": null,
            "overflow_y": null,
            "padding": null,
            "right": null,
            "top": null,
            "visibility": null,
            "width": null
          }
        },
        "824835b7126e493ea3a9c9bda0585ac6": {
          "model_module": "@jupyter-widgets/controls",
          "model_name": "ProgressStyleModel",
          "model_module_version": "1.5.0",
          "state": {
            "_model_module": "@jupyter-widgets/controls",
            "_model_module_version": "1.5.0",
            "_model_name": "ProgressStyleModel",
            "_view_count": null,
            "_view_module": "@jupyter-widgets/base",
            "_view_module_version": "1.2.0",
            "_view_name": "StyleView",
            "bar_color": null,
            "description_width": ""
          }
        },
        "b0ece305d0d745e894bb5f880e68a146": {
          "model_module": "@jupyter-widgets/base",
          "model_name": "LayoutModel",
          "model_module_version": "1.2.0",
          "state": {
            "_model_module": "@jupyter-widgets/base",
            "_model_module_version": "1.2.0",
            "_model_name": "LayoutModel",
            "_view_count": null,
            "_view_module": "@jupyter-widgets/base",
            "_view_module_version": "1.2.0",
            "_view_name": "LayoutView",
            "align_content": null,
            "align_items": null,
            "align_self": null,
            "border": null,
            "bottom": null,
            "display": null,
            "flex": null,
            "flex_flow": null,
            "grid_area": null,
            "grid_auto_columns": null,
            "grid_auto_flow": null,
            "grid_auto_rows": null,
            "grid_column": null,
            "grid_gap": null,
            "grid_row": null,
            "grid_template_areas": null,
            "grid_template_columns": null,
            "grid_template_rows": null,
            "height": null,
            "justify_content": null,
            "justify_items": null,
            "left": null,
            "margin": null,
            "max_height": null,
            "max_width": null,
            "min_height": null,
            "min_width": null,
            "object_fit": null,
            "object_position": null,
            "order": null,
            "overflow": null,
            "overflow_x": null,
            "overflow_y": null,
            "padding": null,
            "right": null,
            "top": null,
            "visibility": null,
            "width": null
          }
        },
        "fa9bad5b03a5413782b1f6c0ff291f20": {
          "model_module": "@jupyter-widgets/controls",
          "model_name": "DescriptionStyleModel",
          "model_module_version": "1.5.0",
          "state": {
            "_model_module": "@jupyter-widgets/controls",
            "_model_module_version": "1.5.0",
            "_model_name": "DescriptionStyleModel",
            "_view_count": null,
            "_view_module": "@jupyter-widgets/base",
            "_view_module_version": "1.2.0",
            "_view_name": "StyleView",
            "description_width": ""
          }
        },
        "2b241ffbaeb24a21852de9d07a4b0962": {
          "model_module": "@jupyter-widgets/controls",
          "model_name": "HBoxModel",
          "model_module_version": "1.5.0",
          "state": {
            "_dom_classes": [],
            "_model_module": "@jupyter-widgets/controls",
            "_model_module_version": "1.5.0",
            "_model_name": "HBoxModel",
            "_view_count": null,
            "_view_module": "@jupyter-widgets/controls",
            "_view_module_version": "1.5.0",
            "_view_name": "HBoxView",
            "box_style": "",
            "children": [
              "IPY_MODEL_cc6e7c46e4964f8bb23bc0344f77dab2",
              "IPY_MODEL_19de4e0775104f85a90bda4772ef97aa",
              "IPY_MODEL_d18b14cc535146b3a7121e4cf3fd1b0f"
            ],
            "layout": "IPY_MODEL_92d39cc5fc08498da48213584a4ea76b"
          }
        },
        "cc6e7c46e4964f8bb23bc0344f77dab2": {
          "model_module": "@jupyter-widgets/controls",
          "model_name": "HTMLModel",
          "model_module_version": "1.5.0",
          "state": {
            "_dom_classes": [],
            "_model_module": "@jupyter-widgets/controls",
            "_model_module_version": "1.5.0",
            "_model_name": "HTMLModel",
            "_view_count": null,
            "_view_module": "@jupyter-widgets/controls",
            "_view_module_version": "1.5.0",
            "_view_name": "HTMLView",
            "description": "",
            "description_tooltip": null,
            "layout": "IPY_MODEL_50023331bf7843c7a6d611771d267719",
            "placeholder": "​",
            "style": "IPY_MODEL_f174b8a73ff54bd3b4edc01c65be9025",
            "value": "Downloading (…)15925a9/modules.json: 100%"
          }
        },
        "19de4e0775104f85a90bda4772ef97aa": {
          "model_module": "@jupyter-widgets/controls",
          "model_name": "FloatProgressModel",
          "model_module_version": "1.5.0",
          "state": {
            "_dom_classes": [],
            "_model_module": "@jupyter-widgets/controls",
            "_model_module_version": "1.5.0",
            "_model_name": "FloatProgressModel",
            "_view_count": null,
            "_view_module": "@jupyter-widgets/controls",
            "_view_module_version": "1.5.0",
            "_view_name": "ProgressView",
            "bar_style": "success",
            "description": "",
            "description_tooltip": null,
            "layout": "IPY_MODEL_81e32a36607c4b6883cc3fadb5ba827d",
            "max": 229,
            "min": 0,
            "orientation": "horizontal",
            "style": "IPY_MODEL_ede59d066a79421c95ad9da334c0d9e5",
            "value": 229
          }
        },
        "d18b14cc535146b3a7121e4cf3fd1b0f": {
          "model_module": "@jupyter-widgets/controls",
          "model_name": "HTMLModel",
          "model_module_version": "1.5.0",
          "state": {
            "_dom_classes": [],
            "_model_module": "@jupyter-widgets/controls",
            "_model_module_version": "1.5.0",
            "_model_name": "HTMLModel",
            "_view_count": null,
            "_view_module": "@jupyter-widgets/controls",
            "_view_module_version": "1.5.0",
            "_view_name": "HTMLView",
            "description": "",
            "description_tooltip": null,
            "layout": "IPY_MODEL_d8df2acb30d440caaba1860118b3963f",
            "placeholder": "​",
            "style": "IPY_MODEL_417915845bf847bf85bd97749d544a75",
            "value": " 229/229 [00:00&lt;00:00, 7.17kB/s]"
          }
        },
        "92d39cc5fc08498da48213584a4ea76b": {
          "model_module": "@jupyter-widgets/base",
          "model_name": "LayoutModel",
          "model_module_version": "1.2.0",
          "state": {
            "_model_module": "@jupyter-widgets/base",
            "_model_module_version": "1.2.0",
            "_model_name": "LayoutModel",
            "_view_count": null,
            "_view_module": "@jupyter-widgets/base",
            "_view_module_version": "1.2.0",
            "_view_name": "LayoutView",
            "align_content": null,
            "align_items": null,
            "align_self": null,
            "border": null,
            "bottom": null,
            "display": null,
            "flex": null,
            "flex_flow": null,
            "grid_area": null,
            "grid_auto_columns": null,
            "grid_auto_flow": null,
            "grid_auto_rows": null,
            "grid_column": null,
            "grid_gap": null,
            "grid_row": null,
            "grid_template_areas": null,
            "grid_template_columns": null,
            "grid_template_rows": null,
            "height": null,
            "justify_content": null,
            "justify_items": null,
            "left": null,
            "margin": null,
            "max_height": null,
            "max_width": null,
            "min_height": null,
            "min_width": null,
            "object_fit": null,
            "object_position": null,
            "order": null,
            "overflow": null,
            "overflow_x": null,
            "overflow_y": null,
            "padding": null,
            "right": null,
            "top": null,
            "visibility": null,
            "width": null
          }
        },
        "50023331bf7843c7a6d611771d267719": {
          "model_module": "@jupyter-widgets/base",
          "model_name": "LayoutModel",
          "model_module_version": "1.2.0",
          "state": {
            "_model_module": "@jupyter-widgets/base",
            "_model_module_version": "1.2.0",
            "_model_name": "LayoutModel",
            "_view_count": null,
            "_view_module": "@jupyter-widgets/base",
            "_view_module_version": "1.2.0",
            "_view_name": "LayoutView",
            "align_content": null,
            "align_items": null,
            "align_self": null,
            "border": null,
            "bottom": null,
            "display": null,
            "flex": null,
            "flex_flow": null,
            "grid_area": null,
            "grid_auto_columns": null,
            "grid_auto_flow": null,
            "grid_auto_rows": null,
            "grid_column": null,
            "grid_gap": null,
            "grid_row": null,
            "grid_template_areas": null,
            "grid_template_columns": null,
            "grid_template_rows": null,
            "height": null,
            "justify_content": null,
            "justify_items": null,
            "left": null,
            "margin": null,
            "max_height": null,
            "max_width": null,
            "min_height": null,
            "min_width": null,
            "object_fit": null,
            "object_position": null,
            "order": null,
            "overflow": null,
            "overflow_x": null,
            "overflow_y": null,
            "padding": null,
            "right": null,
            "top": null,
            "visibility": null,
            "width": null
          }
        },
        "f174b8a73ff54bd3b4edc01c65be9025": {
          "model_module": "@jupyter-widgets/controls",
          "model_name": "DescriptionStyleModel",
          "model_module_version": "1.5.0",
          "state": {
            "_model_module": "@jupyter-widgets/controls",
            "_model_module_version": "1.5.0",
            "_model_name": "DescriptionStyleModel",
            "_view_count": null,
            "_view_module": "@jupyter-widgets/base",
            "_view_module_version": "1.2.0",
            "_view_name": "StyleView",
            "description_width": ""
          }
        },
        "81e32a36607c4b6883cc3fadb5ba827d": {
          "model_module": "@jupyter-widgets/base",
          "model_name": "LayoutModel",
          "model_module_version": "1.2.0",
          "state": {
            "_model_module": "@jupyter-widgets/base",
            "_model_module_version": "1.2.0",
            "_model_name": "LayoutModel",
            "_view_count": null,
            "_view_module": "@jupyter-widgets/base",
            "_view_module_version": "1.2.0",
            "_view_name": "LayoutView",
            "align_content": null,
            "align_items": null,
            "align_self": null,
            "border": null,
            "bottom": null,
            "display": null,
            "flex": null,
            "flex_flow": null,
            "grid_area": null,
            "grid_auto_columns": null,
            "grid_auto_flow": null,
            "grid_auto_rows": null,
            "grid_column": null,
            "grid_gap": null,
            "grid_row": null,
            "grid_template_areas": null,
            "grid_template_columns": null,
            "grid_template_rows": null,
            "height": null,
            "justify_content": null,
            "justify_items": null,
            "left": null,
            "margin": null,
            "max_height": null,
            "max_width": null,
            "min_height": null,
            "min_width": null,
            "object_fit": null,
            "object_position": null,
            "order": null,
            "overflow": null,
            "overflow_x": null,
            "overflow_y": null,
            "padding": null,
            "right": null,
            "top": null,
            "visibility": null,
            "width": null
          }
        },
        "ede59d066a79421c95ad9da334c0d9e5": {
          "model_module": "@jupyter-widgets/controls",
          "model_name": "ProgressStyleModel",
          "model_module_version": "1.5.0",
          "state": {
            "_model_module": "@jupyter-widgets/controls",
            "_model_module_version": "1.5.0",
            "_model_name": "ProgressStyleModel",
            "_view_count": null,
            "_view_module": "@jupyter-widgets/base",
            "_view_module_version": "1.2.0",
            "_view_name": "StyleView",
            "bar_color": null,
            "description_width": ""
          }
        },
        "d8df2acb30d440caaba1860118b3963f": {
          "model_module": "@jupyter-widgets/base",
          "model_name": "LayoutModel",
          "model_module_version": "1.2.0",
          "state": {
            "_model_module": "@jupyter-widgets/base",
            "_model_module_version": "1.2.0",
            "_model_name": "LayoutModel",
            "_view_count": null,
            "_view_module": "@jupyter-widgets/base",
            "_view_module_version": "1.2.0",
            "_view_name": "LayoutView",
            "align_content": null,
            "align_items": null,
            "align_self": null,
            "border": null,
            "bottom": null,
            "display": null,
            "flex": null,
            "flex_flow": null,
            "grid_area": null,
            "grid_auto_columns": null,
            "grid_auto_flow": null,
            "grid_auto_rows": null,
            "grid_column": null,
            "grid_gap": null,
            "grid_row": null,
            "grid_template_areas": null,
            "grid_template_columns": null,
            "grid_template_rows": null,
            "height": null,
            "justify_content": null,
            "justify_items": null,
            "left": null,
            "margin": null,
            "max_height": null,
            "max_width": null,
            "min_height": null,
            "min_width": null,
            "object_fit": null,
            "object_position": null,
            "order": null,
            "overflow": null,
            "overflow_x": null,
            "overflow_y": null,
            "padding": null,
            "right": null,
            "top": null,
            "visibility": null,
            "width": null
          }
        },
        "417915845bf847bf85bd97749d544a75": {
          "model_module": "@jupyter-widgets/controls",
          "model_name": "DescriptionStyleModel",
          "model_module_version": "1.5.0",
          "state": {
            "_model_module": "@jupyter-widgets/controls",
            "_model_module_version": "1.5.0",
            "_model_name": "DescriptionStyleModel",
            "_view_count": null,
            "_view_module": "@jupyter-widgets/base",
            "_view_module_version": "1.2.0",
            "_view_name": "StyleView",
            "description_width": ""
          }
        }
      }
    }
  },
  "nbformat": 4,
  "nbformat_minor": 0
}